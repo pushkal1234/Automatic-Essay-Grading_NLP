{
  "nbformat": 4,
  "nbformat_minor": 0,
  "metadata": {
    "kernelspec": {
      "language": "python",
      "display_name": "Python 3",
      "name": "python3"
    },
    "language_info": {
      "pygments_lexer": "ipython3",
      "nbconvert_exporter": "python",
      "version": "3.6.4",
      "file_extension": ".py",
      "codemirror_mode": {
        "name": "ipython",
        "version": 3
      },
      "name": "python",
      "mimetype": "text/x-python"
    },
    "colab": {
      "name": "SHL_Pushkal Shukla.ipynb",
      "provenance": [],
      "collapsed_sections": [],
      "include_colab_link": true
    }
  },
  "cells": [
    {
      "cell_type": "markdown",
      "metadata": {
        "id": "view-in-github",
        "colab_type": "text"
      },
      "source": [
        "<a href=\"https://colab.research.google.com/github/pushkal1234/Automatic-Essay-Grading_NLP/blob/main/SHL_Pushkal_Shukla.ipynb\" target=\"_parent\"><img src=\"https://colab.research.google.com/assets/colab-badge.svg\" alt=\"Open In Colab\"/></a>"
      ]
    },
    {
      "cell_type": "code",
      "metadata": {
        "_uuid": "8f2839f25d086af736a60e9eeb907d3b93b6e0e5",
        "_cell_guid": "b1076dfc-b9ad-4769-8c92-a6c4dae69d19",
        "trusted": true,
        "colab": {
          "base_uri": "https://localhost:8080/"
        },
        "id": "dQOMYjEDuPru",
        "outputId": "a4b3124c-17c7-4ba6-e5c5-63bd76b0d0d2"
      },
      "source": [
        "\n",
        "import numpy as np # linear algebra\n",
        "import pandas as pd # data processing, CSV file I/O (e.g. pd.read_csv)\n",
        "\n",
        "# Input data files are available in the read-only \"/content/input/\" directory\n",
        "import os\n",
        "for dirname, _, filenames in os.walk('/content/input'):\n",
        "    for filename in filenames:\n",
        "        print(os.path.join(dirname, filename))"
      ],
      "execution_count": 210,
      "outputs": [
        {
          "output_type": "stream",
          "text": [
            "/content/input/all_prompts.csv\n",
            "/content/input/train.csv\n",
            "/content/input/test.csv\n"
          ],
          "name": "stdout"
        }
      ]
    },
    {
      "cell_type": "code",
      "metadata": {
        "_uuid": "d629ff2d2480ee46fbb7e2d37f6b5fab8052498a",
        "_cell_guid": "79c7e3d0-c299-4dcb-8224-4455121ee9b0",
        "trusted": true,
        "colab": {
          "base_uri": "https://localhost:8080/",
          "height": 206
        },
        "id": "_7N4fCEOuPrv",
        "outputId": "3ba78f74-8a6d-4d68-d5d3-c36ad13d827b"
      },
      "source": [
        "import os\n",
        "import pandas as pd\n",
        "\n",
        "df = pd.read_csv(\"/content/input/train.csv\")\n",
        "y = df['evaluator_rating']\n",
        "df.drop(df.columns[[0]],axis=1, inplace= True)\n",
        "df = df.dropna(axis=1)\n",
        "df.head()"
      ],
      "execution_count": 211,
      "outputs": [
        {
          "output_type": "execute_result",
          "data": {
            "text/html": [
              "<div>\n",
              "<style scoped>\n",
              "    .dataframe tbody tr th:only-of-type {\n",
              "        vertical-align: middle;\n",
              "    }\n",
              "\n",
              "    .dataframe tbody tr th {\n",
              "        vertical-align: top;\n",
              "    }\n",
              "\n",
              "    .dataframe thead th {\n",
              "        text-align: right;\n",
              "    }\n",
              "</style>\n",
              "<table border=\"1\" class=\"dataframe\">\n",
              "  <thead>\n",
              "    <tr style=\"text-align: right;\">\n",
              "      <th></th>\n",
              "      <th>promptId</th>\n",
              "      <th>uniqueId</th>\n",
              "      <th>essay</th>\n",
              "      <th>evaluator_rating</th>\n",
              "    </tr>\n",
              "  </thead>\n",
              "  <tbody>\n",
              "    <tr>\n",
              "      <th>0</th>\n",
              "      <td>1</td>\n",
              "      <td>1_323</td>\n",
              "      <td>At present age, our education system is not go...</td>\n",
              "      <td>3.0</td>\n",
              "    </tr>\n",
              "    <tr>\n",
              "      <th>1</th>\n",
              "      <td>1</td>\n",
              "      <td>1_238</td>\n",
              "      <td>I am agree the tightly defined curriculum of o...</td>\n",
              "      <td>4.0</td>\n",
              "    </tr>\n",
              "    <tr>\n",
              "      <th>2</th>\n",
              "      <td>1</td>\n",
              "      <td>1_212</td>\n",
              "      <td>I strongly agree with the statement that tight...</td>\n",
              "      <td>2.0</td>\n",
              "    </tr>\n",
              "    <tr>\n",
              "      <th>3</th>\n",
              "      <td>1</td>\n",
              "      <td>1_117</td>\n",
              "      <td>Our education system is nice quitely but i dis...</td>\n",
              "      <td>2.0</td>\n",
              "    </tr>\n",
              "    <tr>\n",
              "      <th>4</th>\n",
              "      <td>1</td>\n",
              "      <td>1_229</td>\n",
              "      <td>i am totally agree with the statement that tig...</td>\n",
              "      <td>3.0</td>\n",
              "    </tr>\n",
              "  </tbody>\n",
              "</table>\n",
              "</div>"
            ],
            "text/plain": [
              "   promptId  ... evaluator_rating\n",
              "0         1  ...              3.0\n",
              "1         1  ...              4.0\n",
              "2         1  ...              2.0\n",
              "3         1  ...              2.0\n",
              "4         1  ...              3.0\n",
              "\n",
              "[5 rows x 4 columns]"
            ]
          },
          "metadata": {
            "tags": []
          },
          "execution_count": 211
        }
      ]
    },
    {
      "cell_type": "code",
      "metadata": {
        "trusted": true,
        "colab": {
          "base_uri": "https://localhost:8080/",
          "height": 191
        },
        "id": "IwmiAFo1uPrw",
        "outputId": "4d25aa9c-afe4-4aa3-a48d-50cc7c30ae3e"
      },
      "source": [
        "df['essay'][1]"
      ],
      "execution_count": null,
      "outputs": [
        {
          "output_type": "execute_result",
          "data": {
            "application/vnd.google.colaboratory.intrinsic+json": {
              "type": "string"
            },
            "text/plain": [
              "\"I am agree the tightly defined curriculum of our education system leaves no room for imagination and creativity.A hidden curriculum can be defined as the lesson that are taught informally,and usually unintentionally in the school and colleges. These include behaviour ,perspectives and attitudes that students pick up while they are at school.This is contrasted with the formal curriculum,such as the courses and activities students participate in,The curriculum began early in the child's education. Students learn to form opinion and ideas about their environment and their classmate.They also learn what is expected of them.These attitudes and ideas are not taught in formal way,but kids absorb them through natural observation and participation in classroom more and more and also participate in social activities.Areas of hidden curriculum in our school that mold perspectives of students deal with issues such as gender,morals,social class,politics and language.Many books and magzine which are related to expected nature at this young age support the idea of today's sepration which are encourage the youths.The importance of boy athletes used to be clear example of hidden curriculum.Student imagination and creativity are also developed by some other activities.Education is the process of facilitating learning,kowledge,skills,belief and habits.Education can take place in formal or informal setting an any experience that has a formative effect on the way one think,feels and acts may be considered educational.Education is more important for every students and children.The influence of this can lead to a negative self image or hatred for reading.These researchers discuss how the student increase the knowledge related to nature and many others areas.Their goal has been to raise the general awareness of hidden education curriculum in our school in order to make education system progressive and accessible to students of all culture ,linguistic and many other areeas which are related to ediucation system.The\""
            ]
          },
          "metadata": {
            "tags": []
          },
          "execution_count": 135
        }
      ]
    },
    {
      "cell_type": "code",
      "metadata": {
        "trusted": true,
        "id": "wURR_fPBJqtl"
      },
      "source": [
        "import warnings\n",
        "warnings.filterwarnings(\"ignore\")                     #Ignoring unnecessory warnings\n",
        "\n",
        "import numpy as np                                  #for large and multi-dimensional arrays\n",
        "import pandas as pd                                 #for data manipulation and analysis\n",
        "import nltk                                         #Natural language processing tool-kit\n",
        "\n",
        "from nltk.corpus import stopwords                   #Stopwords corpus\n",
        "from nltk.stem import PorterStemmer                 # Stemmer\n",
        "\n",
        "from sklearn.feature_extraction.text import CountVectorizer          #For Bag of words\n",
        "from sklearn.feature_extraction.text import TfidfVectorizer          #For TF-IDF\n",
        "from gensim.models import Word2Vec                                   #For Word2Vec\n",
        "\n",
        "from tensorflow.keras.layers import Embedding\n",
        "from tensorflow.keras.preprocessing.sequence import pad_sequences\n",
        "from tensorflow.keras.models import Sequential\n",
        "from tensorflow.keras.preprocessing.text import one_hot\n",
        "from tensorflow.keras.layers import LSTM\n",
        "from tensorflow.keras.layers import Dropout\n",
        "from tensorflow.keras.layers import Dense"
      ],
      "execution_count": 212,
      "outputs": []
    },
    {
      "cell_type": "code",
      "metadata": {
        "colab": {
          "base_uri": "https://localhost:8080/"
        },
        "id": "KshRw69EHWgi",
        "outputId": "08697152-372b-410d-e782-7a06e4711a75"
      },
      "source": [
        "df.shape"
      ],
      "execution_count": null,
      "outputs": [
        {
          "output_type": "execute_result",
          "data": {
            "text/plain": [
              "(1240, 4)"
            ]
          },
          "metadata": {
            "tags": []
          },
          "execution_count": 137
        }
      ]
    },
    {
      "cell_type": "code",
      "metadata": {
        "trusted": true,
        "id": "nHOZZwL-uPrw"
      },
      "source": [
        "list_1 = []\n",
        "list_2 = []\n",
        "list_3 = []\n",
        "list_4 = []\n",
        "list_5 = []\n",
        "list_6 = []\n",
        "list_7 = []\n",
        "list_8 = []\n",
        "list_9 = []\n",
        "list_10 = []\n",
        "list_11 = []"
      ],
      "execution_count": 215,
      "outputs": []
    },
    {
      "cell_type": "code",
      "metadata": {
        "trusted": true,
        "id": "eERRDkBBuPrx"
      },
      "source": [
        "data = []\n",
        "num = [0,0.5,1,1.5,2,2.5,3,3.5,4,4.5,5]\n",
        "count = 0\n",
        "for i,j in zip(range(len(df)),df[\"essay\"]):\n",
        "    if df[\"evaluator_rating\"][i] == 0:\n",
        "        list_1.append(j)\n",
        "    if df[\"evaluator_rating\"][i] == 0.5:\n",
        "        list_2.append(j)\n",
        "    if df[\"evaluator_rating\"][i] == 1:\n",
        "        list_3.append(j)\n",
        "    if df[\"evaluator_rating\"][i] == 1.5:\n",
        "        list_4.append(j)\n",
        "    if df[\"evaluator_rating\"][i] == 2:\n",
        "        list_5.append(j)\n",
        "    if df[\"evaluator_rating\"][i] == 2.5:\n",
        "        list_6.append(j)\n",
        "    if df[\"evaluator_rating\"][i] == 3:\n",
        "        list_7.append(j)\n",
        "    if df[\"evaluator_rating\"][i] == 3.5:\n",
        "        list_8.append(j)\n",
        "    if df[\"evaluator_rating\"][i] == 4:\n",
        "        list_9.append(j)\n",
        "    if df[\"evaluator_rating\"][i] == 4.5:\n",
        "        list_10.append(j)\n",
        "    if df[\"evaluator_rating\"][i] == 5:\n",
        "        list_11.append(j)\n",
        "   "
      ],
      "execution_count": 216,
      "outputs": []
    },
    {
      "cell_type": "code",
      "metadata": {
        "trusted": true,
        "colab": {
          "base_uri": "https://localhost:8080/"
        },
        "id": "2NXxJztQuPrx",
        "outputId": "a7b4a9cd-7d9b-46bd-bcba-66d17a6a9657"
      },
      "source": [
        "import itertools\n",
        "data = list(itertools.chain(list_1,list_2,list_3,list_4,list_5,list_6,list_7,list_8,list_9,list_10,list_11))\n",
        "len(data)"
      ],
      "execution_count": 217,
      "outputs": [
        {
          "output_type": "execute_result",
          "data": {
            "text/plain": [
              "1240"
            ]
          },
          "metadata": {
            "tags": []
          },
          "execution_count": 217
        }
      ]
    },
    {
      "cell_type": "code",
      "metadata": {
        "trusted": true,
        "id": "cKK9-HOcuPry"
      },
      "source": [
        "def gen_num(num,length):\n",
        "    num_list = [num]*length\n",
        "    return num_list"
      ],
      "execution_count": 192,
      "outputs": []
    },
    {
      "cell_type": "code",
      "metadata": {
        "trusted": true,
        "colab": {
          "base_uri": "https://localhost:8080/"
        },
        "id": "d7lQC5SduPry",
        "outputId": "505dc8e6-ce68-4393-f219-b6fec4c99e4a"
      },
      "source": [
        "score_1 = gen_num(0,len(list_1))\n",
        "score_2 = gen_num(0.5,len(list_2))\n",
        "score_3 = gen_num(1,len(list_3))\n",
        "score_4 = gen_num(1.5,len(list_4))\n",
        "score_5 = gen_num(2,len(list_5))\n",
        "score_6 = gen_num(2.5,len(list_6))\n",
        "score_7 = gen_num(3,len(list_7))\n",
        "score_8 = gen_num(3.5,len(list_8))\n",
        "score_9 = gen_num(4,len(list_9))\n",
        "score_10 = gen_num(4.5,len(list_10))\n",
        "score_11 = gen_num(5,len(list_11))\n",
        "\n",
        "score = list(itertools.chain(score_1,score_2,score_3,score_4,score_5,score_6,score_7,score_8,score_9,score_10,score_11))\n",
        "len(score)\n"
      ],
      "execution_count": 220,
      "outputs": [
        {
          "output_type": "execute_result",
          "data": {
            "text/plain": [
              "1240"
            ]
          },
          "metadata": {
            "tags": []
          },
          "execution_count": 220
        }
      ]
    },
    {
      "cell_type": "code",
      "metadata": {
        "trusted": true,
        "colab": {
          "base_uri": "https://localhost:8080/",
          "height": 423
        },
        "id": "GHyGUqxxuPry",
        "outputId": "dde08a97-4154-4f14-ee24-eb27cfab1328"
      },
      "source": [
        "# dictionary of lists \n",
        "dictnary = {'essay': data, 'score': score}     \n",
        "df = pd.DataFrame(dictnary) \n",
        "df "
      ],
      "execution_count": 221,
      "outputs": [
        {
          "output_type": "execute_result",
          "data": {
            "text/html": [
              "<div>\n",
              "<style scoped>\n",
              "    .dataframe tbody tr th:only-of-type {\n",
              "        vertical-align: middle;\n",
              "    }\n",
              "\n",
              "    .dataframe tbody tr th {\n",
              "        vertical-align: top;\n",
              "    }\n",
              "\n",
              "    .dataframe thead th {\n",
              "        text-align: right;\n",
              "    }\n",
              "</style>\n",
              "<table border=\"1\" class=\"dataframe\">\n",
              "  <thead>\n",
              "    <tr style=\"text-align: right;\">\n",
              "      <th></th>\n",
              "      <th>essay</th>\n",
              "      <th>score</th>\n",
              "    </tr>\n",
              "  </thead>\n",
              "  <tbody>\n",
              "    <tr>\n",
              "      <th>0</th>\n",
              "      <td>Education is the most important part of our li...</td>\n",
              "      <td>0.0</td>\n",
              "    </tr>\n",
              "    <tr>\n",
              "      <th>1</th>\n",
              "      <td>Our education inindia was good,but not that mu...</td>\n",
              "      <td>0.0</td>\n",
              "    </tr>\n",
              "    <tr>\n",
              "      <th>2</th>\n",
              "      <td>Education is very important in each and every ...</td>\n",
              "      <td>0.0</td>\n",
              "    </tr>\n",
              "    <tr>\n",
              "      <th>3</th>\n",
              "      <td>education system is the most important for us ...</td>\n",
              "      <td>0.0</td>\n",
              "    </tr>\n",
              "    <tr>\n",
              "      <th>4</th>\n",
              "      <td>today's eduction system is very bad due to res...</td>\n",
              "      <td>0.0</td>\n",
              "    </tr>\n",
              "    <tr>\n",
              "      <th>...</th>\n",
              "      <td>...</td>\n",
              "      <td>...</td>\n",
              "    </tr>\n",
              "    <tr>\n",
              "      <th>1235</th>\n",
              "      <td>Imagination is the mother of invention and wit...</td>\n",
              "      <td>5.0</td>\n",
              "    </tr>\n",
              "    <tr>\n",
              "      <th>1236</th>\n",
              "      <td>Just learning a text-book by heart and getting...</td>\n",
              "      <td>5.0</td>\n",
              "    </tr>\n",
              "    <tr>\n",
              "      <th>1237</th>\n",
              "      <td>YES I AGREE WITH THIS STATEMENT THAT THE TIGHT...</td>\n",
              "      <td>5.0</td>\n",
              "    </tr>\n",
              "    <tr>\n",
              "      <th>1238</th>\n",
              "      <td>I speak about education from an unflattering p...</td>\n",
              "      <td>5.0</td>\n",
              "    </tr>\n",
              "    <tr>\n",
              "      <th>1239</th>\n",
              "      <td>Yes, it is true that the gap between rich and ...</td>\n",
              "      <td>5.0</td>\n",
              "    </tr>\n",
              "  </tbody>\n",
              "</table>\n",
              "<p>1240 rows × 2 columns</p>\n",
              "</div>"
            ],
            "text/plain": [
              "                                                  essay  score\n",
              "0     Education is the most important part of our li...    0.0\n",
              "1     Our education inindia was good,but not that mu...    0.0\n",
              "2     Education is very important in each and every ...    0.0\n",
              "3     education system is the most important for us ...    0.0\n",
              "4     today's eduction system is very bad due to res...    0.0\n",
              "...                                                 ...    ...\n",
              "1235  Imagination is the mother of invention and wit...    5.0\n",
              "1236  Just learning a text-book by heart and getting...    5.0\n",
              "1237  YES I AGREE WITH THIS STATEMENT THAT THE TIGHT...    5.0\n",
              "1238  I speak about education from an unflattering p...    5.0\n",
              "1239  Yes, it is true that the gap between rich and ...    5.0\n",
              "\n",
              "[1240 rows x 2 columns]"
            ]
          },
          "metadata": {
            "tags": []
          },
          "execution_count": 221
        }
      ]
    },
    {
      "cell_type": "code",
      "metadata": {
        "trusted": true,
        "colab": {
          "base_uri": "https://localhost:8080/"
        },
        "id": "HCuO0CpRuPrz",
        "outputId": "eda50943-3dc1-4b14-9fbe-aafac10c5ce4"
      },
      "source": [
        "nltk.download('stopwords')"
      ],
      "execution_count": 222,
      "outputs": [
        {
          "output_type": "stream",
          "text": [
            "[nltk_data] Downloading package stopwords to /root/nltk_data...\n",
            "[nltk_data]   Package stopwords is already up-to-date!\n"
          ],
          "name": "stdout"
        },
        {
          "output_type": "execute_result",
          "data": {
            "text/plain": [
              "True"
            ]
          },
          "metadata": {
            "tags": []
          },
          "execution_count": 222
        }
      ]
    },
    {
      "cell_type": "code",
      "metadata": {
        "trusted": true,
        "colab": {
          "base_uri": "https://localhost:8080/"
        },
        "id": "QsCHybZvuPrz",
        "outputId": "a0fe13c0-0cad-4f89-9a2a-d1a0acc5377a"
      },
      "source": [
        "stop_words = set(stopwords.words('english'))\n",
        "len(stop_words) #finding stop words"
      ],
      "execution_count": 223,
      "outputs": [
        {
          "output_type": "execute_result",
          "data": {
            "text/plain": [
              "179"
            ]
          },
          "metadata": {
            "tags": []
          },
          "execution_count": 223
        }
      ]
    },
    {
      "cell_type": "code",
      "metadata": {
        "trusted": true,
        "id": "CbXLMSjsuPrz"
      },
      "source": [
        "import re\n",
        "from nltk.corpus import stopwords\n",
        "from nltk.stem.porter import PorterStemmer\n",
        "snow = nltk.stem.SnowballStemmer('english')\n",
        "\n",
        "corpus = []\n",
        "for i in range(0, len(df)):\n",
        "    review = re.sub('[^a-zA-Z]', ' ', df['essay'][i])\n",
        "    review = review.lower()\n",
        "    review = review.split()\n",
        "    review = [snow.stem(word) for word in review if not word in stopwords.words('english')]\n",
        "    review = ' '.join(review)\n",
        "    corpus.append(review)"
      ],
      "execution_count": 224,
      "outputs": []
    },
    {
      "cell_type": "code",
      "metadata": {
        "colab": {
          "base_uri": "https://localhost:8080/"
        },
        "id": "Kaqc764RuPrz",
        "outputId": "af7ae6ca-46a4-4b67-c56c-1237825cedc7"
      },
      "source": [
        "voc_size=5000\n",
        "onehot_repr=[one_hot(words,voc_size)for words in corpus] \n",
        "type(onehot_repr)"
      ],
      "execution_count": 225,
      "outputs": [
        {
          "output_type": "execute_result",
          "data": {
            "text/plain": [
              "list"
            ]
          },
          "metadata": {
            "tags": []
          },
          "execution_count": 225
        }
      ]
    },
    {
      "cell_type": "code",
      "metadata": {
        "colab": {
          "base_uri": "https://localhost:8080/"
        },
        "id": "3dHeKBBtuPr0",
        "outputId": "6de46d84-a326-44fc-be8d-50313b4025e8"
      },
      "source": [
        "sent_length=500\n",
        "embedded_docs=pad_sequences(onehot_repr,padding='pre',maxlen=sent_length)\n",
        "print(embedded_docs)"
      ],
      "execution_count": 226,
      "outputs": [
        {
          "output_type": "stream",
          "text": [
            "[[   0    0    0 ... 3456  844 2884]\n",
            " [   0    0    0 ... 3846 1241 3255]\n",
            " [   0    0    0 ... 4853 1505 1888]\n",
            " ...\n",
            " [   0    0    0 ... 4912 1729 1505]\n",
            " [   0    0    0 ... 2530 1549 2686]\n",
            " [   0    0    0 ... 3125 1991 3218]]\n"
          ],
          "name": "stdout"
        }
      ]
    },
    {
      "cell_type": "code",
      "metadata": {
        "id": "2gD0YIxduPr0",
        "colab": {
          "base_uri": "https://localhost:8080/"
        },
        "outputId": "b6ef53b9-0bfb-4bff-9994-d637800efa3b"
      },
      "source": [
        "df.shape"
      ],
      "execution_count": null,
      "outputs": [
        {
          "output_type": "execute_result",
          "data": {
            "text/plain": [
              "(1240, 2)"
            ]
          },
          "metadata": {
            "tags": []
          },
          "execution_count": 149
        }
      ]
    },
    {
      "cell_type": "markdown",
      "metadata": {
        "id": "OP5wlAWkP96d"
      },
      "source": [
        "Feature Extraction Functions and conversion of them into Vector form so that we could feed our model into deep learning module"
      ]
    },
    {
      "cell_type": "code",
      "metadata": {
        "trusted": true,
        "id": "7lpd9iD3uPr0"
      },
      "source": [
        "import numpy as np\n",
        "import nltk\n",
        "import re\n",
        "from nltk.corpus import stopwords\n",
        "from gensim.models import Word2Vec\n",
        "\n",
        "def essay_to_wordlist(essay_v, remove_stopwords):\n",
        "    \"\"\"Remove the tagged labels and word tokenize the sentence.\"\"\"\n",
        "    essay_v = re.sub(\"[^a-zA-Z]\", \" \", essay_v)\n",
        "    words = essay_v.lower().split()\n",
        "    if remove_stopwords:\n",
        "        stops = set(stopwords.words(\"english\"))\n",
        "        words = [w for w in words if not w in stops]\n",
        "    return (words)\n",
        "\n",
        "def essay_to_sentences(essay_v, remove_stopwords):\n",
        "    \"\"\"Sentence tokenize the essay and call essay_to_wordlist() for word tokenization.\"\"\"\n",
        "    tokenizer = nltk.data.load('tokenizers/punkt/english.pickle')\n",
        "    raw_sentences = tokenizer.tokenize(essay_v.strip())\n",
        "    sentences = []\n",
        "    for raw_sentence in raw_sentences:\n",
        "        if len(raw_sentence) > 0:\n",
        "            sentences.append(essay_to_wordlist(raw_sentence, remove_stopwords))\n",
        "    return sentences\n",
        "\n",
        "def makeFeatureVec(words, model, num_features):\n",
        "    \"\"\"Make Feature Vector from the words list of an Essay.\"\"\"\n",
        "    featureVec = np.zeros((num_features,),dtype=\"float32\")\n",
        "    num_words = 0.\n",
        "    index2word_set = set(model.wv.index2word)\n",
        "    for word in words:\n",
        "        if word in index2word_set:\n",
        "            num_words += 1\n",
        "            featureVec = np.add(featureVec,model[word])        \n",
        "    featureVec = np.divide(featureVec,num_words)\n",
        "    return featureVec\n",
        "\n",
        "def getAvgFeatureVecs(essays, model, num_features):\n",
        "    \"\"\"Main function to generate the word vectors for word2vec model.\"\"\"\n",
        "    counter = 0\n",
        "    essayFeatureVecs = np.zeros((len(essays),num_features),dtype=\"float32\")\n",
        "    for essay in essays:\n",
        "        essayFeatureVecs[counter] = makeFeatureVec(essay, model, num_features)\n",
        "        counter = counter + 1\n",
        "    return essayFeatureVecs"
      ],
      "execution_count": 227,
      "outputs": []
    },
    {
      "cell_type": "code",
      "metadata": {
        "trusted": true,
        "colab": {
          "base_uri": "https://localhost:8080/"
        },
        "id": "AcDMEI0puPr1",
        "outputId": "d7ef6573-5619-4978-a43f-a0c3121210a8"
      },
      "source": [
        "import nltk\n",
        "\n",
        "nltk.download('stopwords')"
      ],
      "execution_count": 228,
      "outputs": [
        {
          "output_type": "stream",
          "text": [
            "[nltk_data] Downloading package stopwords to /root/nltk_data...\n",
            "[nltk_data]   Package stopwords is already up-to-date!\n"
          ],
          "name": "stdout"
        },
        {
          "output_type": "execute_result",
          "data": {
            "text/plain": [
              "True"
            ]
          },
          "metadata": {
            "tags": []
          },
          "execution_count": 228
        }
      ]
    },
    {
      "cell_type": "code",
      "metadata": {
        "trusted": true,
        "id": "P4t59QDfuPr1"
      },
      "source": [
        "from keras.layers import Embedding, LSTM, Dense, Dropout, Lambda, Flatten\n",
        "from keras.models import Sequential, load_model, model_from_config\n",
        "import keras.backend as K\n",
        "\n",
        "def get_model():\n",
        "    \"\"\"Define the model.\"\"\"\n",
        "    model = Sequential()\n",
        "    model.add(LSTM(300, dropout=0.4, recurrent_dropout=0.4, input_shape=[1, 300], return_sequences=True))\n",
        "    model.add(LSTM(64, recurrent_dropout=0.4))\n",
        "    model.add(Dropout(0.5))\n",
        "    model.add(Dense(1, activation='relu'))\n",
        "\n",
        "    model.compile(loss='mean_squared_error', optimizer='rmsprop', metrics=['accuracy','mae'])\n",
        "    model.summary()\n",
        "\n",
        "    return model"
      ],
      "execution_count": 229,
      "outputs": []
    },
    {
      "cell_type": "code",
      "metadata": {
        "trusted": true,
        "id": "4r6KuH2vuPr1"
      },
      "source": [
        "y = df['score']"
      ],
      "execution_count": 230,
      "outputs": []
    },
    {
      "cell_type": "code",
      "metadata": {
        "colab": {
          "base_uri": "https://localhost:8080/"
        },
        "id": "gCU3sGKh0N9J",
        "outputId": "9439f21e-d937-4f6d-c514-0eef6c0d197d"
      },
      "source": [
        "nltk.download('punkt')"
      ],
      "execution_count": 205,
      "outputs": [
        {
          "output_type": "stream",
          "text": [
            "[nltk_data] Downloading package punkt to /root/nltk_data...\n",
            "[nltk_data]   Package punkt is already up-to-date!\n"
          ],
          "name": "stdout"
        },
        {
          "output_type": "execute_result",
          "data": {
            "text/plain": [
              "True"
            ]
          },
          "metadata": {
            "tags": []
          },
          "execution_count": 205
        }
      ]
    },
    {
      "cell_type": "code",
      "metadata": {
        "colab": {
          "base_uri": "https://localhost:8080/"
        },
        "id": "tZU4gLAOWwiW",
        "outputId": "a9bf1f3d-26dd-4ce9-d7d0-c2f94874b5ea"
      },
      "source": [
        "df.shape"
      ],
      "execution_count": null,
      "outputs": [
        {
          "output_type": "execute_result",
          "data": {
            "text/plain": [
              "(1240, 2)"
            ]
          },
          "metadata": {
            "tags": []
          },
          "execution_count": 155
        }
      ]
    },
    {
      "cell_type": "code",
      "metadata": {
        "trusted": true,
        "colab": {
          "base_uri": "https://localhost:8080/"
        },
        "id": "jdBL98GwuPr2",
        "outputId": "4555da33-94f2-4863-f4ab-4a22a1ab27bc"
      },
      "source": [
        "from sklearn.model_selection import KFold\n",
        "from sklearn.linear_model import LinearRegression\n",
        "from sklearn.metrics import r2_score\n",
        "from sklearn.metrics import max_error\n",
        "cv = KFold(n_splits = 10, random_state=1, shuffle = True)\n",
        "results = []\n",
        "y_pred_list = []\n",
        "\n",
        "count = 1\n",
        "for traincv, testcv in cv.split(df):\n",
        "    print(\"\\n--------Fold {}--------\\n\".format(count))\n",
        "    df_test, df_train, y_test, y_train = df.iloc[testcv], df.iloc[traincv], y.iloc[testcv], y.iloc[traincv]\n",
        "    \n",
        "    train_essays = df_train['essay']\n",
        "    test_essays = df_test['essay']\n",
        "    \n",
        "    sentences = []\n",
        "    \n",
        "    for essay in train_essays:\n",
        "            # Obtaining all sentences from the training essays.\n",
        "            sentences += essay_to_sentences(essay, remove_stopwords = True)\n",
        "            \n",
        "    # Initializing variables for word2vec model.\n",
        "    num_features = 300 \n",
        "    min_word_count = 40\n",
        "    num_workers = 4\n",
        "    context = 10\n",
        "    downsampling = 1e-3\n",
        "\n",
        "    print(\"Training Word2Vec Model...\")\n",
        "    model = Word2Vec(sentences, workers=num_workers, size=num_features, min_count = min_word_count, window = context, sample = downsampling)\n",
        "\n",
        "    model.init_sims(replace=True)\n",
        "    model.wv.save_word2vec_format('word2vecmodel.bin', binary=True)\n",
        "\n",
        "    clean_train_essays = []\n",
        "    \n",
        "    # Generate training and testing data word vectors.\n",
        "    for essay_v in train_essays:\n",
        "        clean_train_essays.append(essay_to_wordlist(essay_v, remove_stopwords=True))\n",
        "    trainDataVecs = getAvgFeatureVecs(clean_train_essays, model, num_features)\n",
        "    \n",
        "    clean_test_essays = []\n",
        "    for essay_v in test_essays:\n",
        "        clean_test_essays.append(essay_to_wordlist( essay_v, remove_stopwords=True ))\n",
        "    testDataVecs = getAvgFeatureVecs( clean_test_essays, model, num_features )\n",
        "    \n",
        "    trainDataVecs = np.array(trainDataVecs)\n",
        "    testDataVecs = np.array(testDataVecs)\n",
        "    # Reshaping train and test vectors to 3 dimensions. (1 represnts one timestep)\n",
        "    trainDataVecs = np.reshape(trainDataVecs, (trainDataVecs.shape[0], 1, trainDataVecs.shape[1]))\n",
        "    testDataVecs = np.reshape(testDataVecs, (testDataVecs.shape[0], 1, testDataVecs.shape[1]))\n",
        "    \n",
        "    lstm_model = get_model()\n",
        "    lstm_model.fit(trainDataVecs, y_train, batch_size=64, epochs= 50)\n",
        "    #lstm_model.load_weights('./model_weights/final_lstm.h5')\n",
        "    y_pred = lstm_model.predict(testDataVecs)\n",
        "    \n",
        "    # Save any one of the 5 models.\n",
        "    if count == 5:\n",
        "         lstm_model.save('./final_lstm.h5')\n",
        "    \n",
        "    # Round y_pred to the nearest integer.\n",
        "    y_pred = np.around(y_pred)\n",
        "    \n",
        "    # Evaluate the model on the evaluation metric. \"Since This is an Regression Problem we will be using R2_Score\"\n",
        "    from sklearn.metrics import max_error\n",
        "    result = r2_score(y_test.values, y_pred, multioutput='variance_weighted')\n",
        "    acc = max_error(y_test.values,y_pred)\n",
        "    print(\"acc Score: {}\".format(acc))\n",
        "    print(\"R2 Score: {}\".format(result))\n",
        "    results.append(result)\n",
        "\n",
        "    count += 1\n"
      ],
      "execution_count": 207,
      "outputs": [
        {
          "output_type": "stream",
          "text": [
            "\n",
            "--------Fold 1--------\n",
            "\n",
            "Training Word2Vec Model...\n",
            "Model: \"sequential_18\"\n",
            "_________________________________________________________________\n",
            "Layer (type)                 Output Shape              Param #   \n",
            "=================================================================\n",
            "lstm_36 (LSTM)               (None, 1, 300)            721200    \n",
            "_________________________________________________________________\n",
            "lstm_37 (LSTM)               (None, 64)                93440     \n",
            "_________________________________________________________________\n",
            "dropout_18 (Dropout)         (None, 64)                0         \n",
            "_________________________________________________________________\n",
            "dense_18 (Dense)             (None, 1)                 65        \n",
            "=================================================================\n",
            "Total params: 814,705\n",
            "Trainable params: 814,705\n",
            "Non-trainable params: 0\n",
            "_________________________________________________________________\n",
            "Epoch 1/50\n",
            "146/146 [==============================] - 13s 30ms/step - loss: 7.6686 - accuracy: 0.1219 - mae: 1.9966\n",
            "Epoch 2/50\n",
            "146/146 [==============================] - 4s 30ms/step - loss: 2.2628 - accuracy: 0.1557 - mae: 1.1344\n",
            "Epoch 3/50\n",
            "146/146 [==============================] - 4s 30ms/step - loss: 1.9821 - accuracy: 0.1615 - mae: 1.0617\n",
            "Epoch 4/50\n",
            "146/146 [==============================] - 4s 30ms/step - loss: 2.0311 - accuracy: 0.1607 - mae: 1.0741\n",
            "Epoch 5/50\n",
            "146/146 [==============================] - 4s 30ms/step - loss: 1.8777 - accuracy: 0.1653 - mae: 1.0274\n",
            "Epoch 6/50\n",
            "146/146 [==============================] - 4s 30ms/step - loss: 1.8910 - accuracy: 0.1652 - mae: 1.0205\n",
            "Epoch 7/50\n",
            "146/146 [==============================] - 4s 30ms/step - loss: 1.8359 - accuracy: 0.1669 - mae: 1.0150\n",
            "Epoch 8/50\n",
            "146/146 [==============================] - 4s 30ms/step - loss: 1.7811 - accuracy: 0.1677 - mae: 0.9892\n",
            "Epoch 9/50\n",
            "146/146 [==============================] - 4s 30ms/step - loss: 1.7452 - accuracy: 0.1668 - mae: 0.9869\n",
            "Epoch 10/50\n",
            "146/146 [==============================] - 4s 31ms/step - loss: 1.7154 - accuracy: 0.1669 - mae: 0.9780\n",
            "Epoch 11/50\n",
            "146/146 [==============================] - 4s 30ms/step - loss: 1.6733 - accuracy: 0.1629 - mae: 0.9600\n",
            "Epoch 12/50\n",
            "146/146 [==============================] - 4s 30ms/step - loss: 1.6310 - accuracy: 0.1615 - mae: 0.9452\n",
            "Epoch 13/50\n",
            "146/146 [==============================] - 4s 30ms/step - loss: 1.4577 - accuracy: 0.1723 - mae: 0.9031\n",
            "Epoch 14/50\n",
            "146/146 [==============================] - 4s 30ms/step - loss: 1.3898 - accuracy: 0.1635 - mae: 0.8869\n",
            "Epoch 15/50\n",
            "146/146 [==============================] - 4s 30ms/step - loss: 1.3666 - accuracy: 0.1673 - mae: 0.8797\n",
            "Epoch 16/50\n",
            "146/146 [==============================] - 4s 30ms/step - loss: 1.3598 - accuracy: 0.1724 - mae: 0.8752\n",
            "Epoch 17/50\n",
            "146/146 [==============================] - 4s 30ms/step - loss: 1.3216 - accuracy: 0.1611 - mae: 0.8621\n",
            "Epoch 18/50\n",
            "146/146 [==============================] - 4s 30ms/step - loss: 1.3022 - accuracy: 0.1587 - mae: 0.8553\n",
            "Epoch 19/50\n",
            "146/146 [==============================] - 4s 30ms/step - loss: 1.2748 - accuracy: 0.1696 - mae: 0.8444\n",
            "Epoch 20/50\n",
            "146/146 [==============================] - 4s 30ms/step - loss: 1.2362 - accuracy: 0.1661 - mae: 0.8465\n",
            "Epoch 21/50\n",
            "146/146 [==============================] - 4s 30ms/step - loss: 1.2126 - accuracy: 0.1659 - mae: 0.8218\n",
            "Epoch 22/50\n",
            "146/146 [==============================] - 4s 30ms/step - loss: 1.1873 - accuracy: 0.1676 - mae: 0.8217\n",
            "Epoch 23/50\n",
            "146/146 [==============================] - 4s 30ms/step - loss: 1.1361 - accuracy: 0.1691 - mae: 0.8064\n",
            "Epoch 24/50\n",
            "146/146 [==============================] - 4s 30ms/step - loss: 1.1191 - accuracy: 0.1670 - mae: 0.8024\n",
            "Epoch 25/50\n",
            "146/146 [==============================] - 4s 30ms/step - loss: 1.1041 - accuracy: 0.1626 - mae: 0.8031\n",
            "Epoch 26/50\n",
            "146/146 [==============================] - 4s 30ms/step - loss: 1.1065 - accuracy: 0.1678 - mae: 0.7913\n",
            "Epoch 27/50\n",
            "146/146 [==============================] - 4s 30ms/step - loss: 1.1002 - accuracy: 0.1620 - mae: 0.7913\n",
            "Epoch 28/50\n",
            "146/146 [==============================] - 4s 30ms/step - loss: 1.0968 - accuracy: 0.1660 - mae: 0.7896\n",
            "Epoch 29/50\n",
            "146/146 [==============================] - 4s 30ms/step - loss: 1.0540 - accuracy: 0.1677 - mae: 0.7772\n",
            "Epoch 30/50\n",
            "146/146 [==============================] - 4s 30ms/step - loss: 1.0640 - accuracy: 0.1644 - mae: 0.7813\n",
            "Epoch 31/50\n",
            "146/146 [==============================] - 4s 30ms/step - loss: 1.0768 - accuracy: 0.1696 - mae: 0.7869\n",
            "Epoch 32/50\n",
            "146/146 [==============================] - 4s 30ms/step - loss: 1.0014 - accuracy: 0.1751 - mae: 0.7561\n",
            "Epoch 33/50\n",
            "146/146 [==============================] - 4s 30ms/step - loss: 0.9857 - accuracy: 0.1623 - mae: 0.7533\n",
            "Epoch 34/50\n",
            "146/146 [==============================] - 4s 30ms/step - loss: 0.9637 - accuracy: 0.1631 - mae: 0.7452\n",
            "Epoch 35/50\n",
            "146/146 [==============================] - 4s 30ms/step - loss: 1.0112 - accuracy: 0.1763 - mae: 0.7570\n",
            "Epoch 36/50\n",
            "146/146 [==============================] - 4s 30ms/step - loss: 0.9967 - accuracy: 0.1648 - mae: 0.7534\n",
            "Epoch 37/50\n",
            "146/146 [==============================] - 4s 30ms/step - loss: 0.9413 - accuracy: 0.1655 - mae: 0.7443\n",
            "Epoch 38/50\n",
            "146/146 [==============================] - 4s 30ms/step - loss: 0.9689 - accuracy: 0.1689 - mae: 0.7497\n",
            "Epoch 39/50\n",
            "146/146 [==============================] - 4s 30ms/step - loss: 0.9200 - accuracy: 0.1726 - mae: 0.7230\n",
            "Epoch 40/50\n",
            "146/146 [==============================] - 4s 30ms/step - loss: 0.9177 - accuracy: 0.1685 - mae: 0.7348\n",
            "Epoch 41/50\n",
            "146/146 [==============================] - 4s 30ms/step - loss: 0.9650 - accuracy: 0.1745 - mae: 0.7417\n",
            "Epoch 42/50\n",
            "146/146 [==============================] - 4s 30ms/step - loss: 0.9264 - accuracy: 0.1724 - mae: 0.7284\n",
            "Epoch 43/50\n",
            "146/146 [==============================] - 4s 31ms/step - loss: 0.9121 - accuracy: 0.1659 - mae: 0.7193\n",
            "Epoch 44/50\n",
            "146/146 [==============================] - 4s 30ms/step - loss: 0.9385 - accuracy: 0.1643 - mae: 0.7339\n",
            "Epoch 45/50\n",
            "146/146 [==============================] - 4s 30ms/step - loss: 0.8727 - accuracy: 0.1699 - mae: 0.7111\n",
            "Epoch 46/50\n",
            "146/146 [==============================] - 4s 30ms/step - loss: 0.8669 - accuracy: 0.1628 - mae: 0.7095\n",
            "Epoch 47/50\n",
            "146/146 [==============================] - 4s 30ms/step - loss: 0.8408 - accuracy: 0.1662 - mae: 0.7014\n",
            "Epoch 48/50\n",
            "146/146 [==============================] - 4s 31ms/step - loss: 0.8728 - accuracy: 0.1679 - mae: 0.7108\n",
            "Epoch 49/50\n",
            "146/146 [==============================] - 4s 30ms/step - loss: 0.8653 - accuracy: 0.1730 - mae: 0.7074\n",
            "Epoch 50/50\n",
            "146/146 [==============================] - 4s 30ms/step - loss: 0.8450 - accuracy: 0.1617 - mae: 0.6970\n",
            "acc Score: 4.0\n",
            "R2 Score: 0.8648354255200559\n",
            "\n",
            "--------Fold 2--------\n",
            "\n",
            "Training Word2Vec Model...\n",
            "Model: \"sequential_19\"\n",
            "_________________________________________________________________\n",
            "Layer (type)                 Output Shape              Param #   \n",
            "=================================================================\n",
            "lstm_38 (LSTM)               (None, 1, 300)            721200    \n",
            "_________________________________________________________________\n",
            "lstm_39 (LSTM)               (None, 64)                93440     \n",
            "_________________________________________________________________\n",
            "dropout_19 (Dropout)         (None, 64)                0         \n",
            "_________________________________________________________________\n",
            "dense_19 (Dense)             (None, 1)                 65        \n",
            "=================================================================\n",
            "Total params: 814,705\n",
            "Trainable params: 814,705\n",
            "Non-trainable params: 0\n",
            "_________________________________________________________________\n",
            "Epoch 1/50\n",
            "146/146 [==============================] - 10s 26ms/step - loss: 7.5256 - accuracy: 0.1267 - mae: 1.9479\n",
            "Epoch 2/50\n",
            "146/146 [==============================] - 4s 26ms/step - loss: 2.1169 - accuracy: 0.1677 - mae: 1.0969\n",
            "Epoch 3/50\n",
            "146/146 [==============================] - 4s 26ms/step - loss: 1.9099 - accuracy: 0.1595 - mae: 1.0500\n",
            "Epoch 4/50\n",
            "146/146 [==============================] - 4s 26ms/step - loss: 1.9357 - accuracy: 0.1629 - mae: 1.0453\n",
            "Epoch 5/50\n",
            "146/146 [==============================] - 4s 25ms/step - loss: 1.8892 - accuracy: 0.1744 - mae: 1.0365\n",
            "Epoch 6/50\n",
            "146/146 [==============================] - 4s 26ms/step - loss: 1.8494 - accuracy: 0.1721 - mae: 1.0147\n",
            "Epoch 7/50\n",
            "146/146 [==============================] - 4s 25ms/step - loss: 1.8003 - accuracy: 0.1688 - mae: 0.9957\n",
            "Epoch 8/50\n",
            "146/146 [==============================] - 4s 25ms/step - loss: 1.6798 - accuracy: 0.1686 - mae: 0.9745\n",
            "Epoch 9/50\n",
            "146/146 [==============================] - 4s 26ms/step - loss: 1.6420 - accuracy: 0.1665 - mae: 0.9638\n",
            "Epoch 10/50\n",
            "146/146 [==============================] - 4s 26ms/step - loss: 1.6550 - accuracy: 0.1631 - mae: 0.9669\n",
            "Epoch 11/50\n",
            "146/146 [==============================] - 4s 26ms/step - loss: 1.5514 - accuracy: 0.1652 - mae: 0.9370\n",
            "Epoch 12/50\n",
            "146/146 [==============================] - 4s 26ms/step - loss: 1.5839 - accuracy: 0.1711 - mae: 0.9336\n",
            "Epoch 13/50\n",
            "146/146 [==============================] - 4s 26ms/step - loss: 1.5227 - accuracy: 0.1743 - mae: 0.9262\n",
            "Epoch 14/50\n",
            "146/146 [==============================] - 4s 26ms/step - loss: 1.4459 - accuracy: 0.1727 - mae: 0.8965\n",
            "Epoch 15/50\n",
            "146/146 [==============================] - 4s 26ms/step - loss: 1.3275 - accuracy: 0.1668 - mae: 0.8658\n",
            "Epoch 16/50\n",
            "146/146 [==============================] - 4s 26ms/step - loss: 1.3155 - accuracy: 0.1629 - mae: 0.8700\n",
            "Epoch 17/50\n",
            "146/146 [==============================] - 4s 26ms/step - loss: 1.3225 - accuracy: 0.1666 - mae: 0.8685\n",
            "Epoch 18/50\n",
            "146/146 [==============================] - 4s 26ms/step - loss: 1.2608 - accuracy: 0.1641 - mae: 0.8501\n",
            "Epoch 19/50\n",
            "146/146 [==============================] - 4s 26ms/step - loss: 1.2269 - accuracy: 0.1705 - mae: 0.8391\n",
            "Epoch 20/50\n",
            "146/146 [==============================] - 4s 26ms/step - loss: 1.1910 - accuracy: 0.1689 - mae: 0.8175\n",
            "Epoch 21/50\n",
            "146/146 [==============================] - 4s 25ms/step - loss: 1.1424 - accuracy: 0.1688 - mae: 0.8119\n",
            "Epoch 22/50\n",
            "146/146 [==============================] - 4s 26ms/step - loss: 1.0840 - accuracy: 0.1648 - mae: 0.7933\n",
            "Epoch 23/50\n",
            "146/146 [==============================] - 4s 26ms/step - loss: 1.1201 - accuracy: 0.1703 - mae: 0.8074\n",
            "Epoch 24/50\n",
            "146/146 [==============================] - 4s 26ms/step - loss: 1.0770 - accuracy: 0.1667 - mae: 0.7890\n",
            "Epoch 25/50\n",
            "146/146 [==============================] - 4s 26ms/step - loss: 1.0639 - accuracy: 0.1694 - mae: 0.7824\n",
            "Epoch 26/50\n",
            "146/146 [==============================] - 4s 25ms/step - loss: 1.0470 - accuracy: 0.1719 - mae: 0.7733\n",
            "Epoch 27/50\n",
            "146/146 [==============================] - 4s 26ms/step - loss: 1.0573 - accuracy: 0.1713 - mae: 0.7693\n",
            "Epoch 28/50\n",
            "146/146 [==============================] - 4s 27ms/step - loss: 1.0228 - accuracy: 0.1706 - mae: 0.7710\n",
            "Epoch 29/50\n",
            "146/146 [==============================] - 4s 26ms/step - loss: 1.0127 - accuracy: 0.1713 - mae: 0.7664\n",
            "Epoch 30/50\n",
            "146/146 [==============================] - 4s 26ms/step - loss: 0.9814 - accuracy: 0.1710 - mae: 0.7583\n",
            "Epoch 31/50\n",
            "146/146 [==============================] - 4s 26ms/step - loss: 0.9841 - accuracy: 0.1729 - mae: 0.7522\n",
            "Epoch 32/50\n",
            "146/146 [==============================] - 4s 26ms/step - loss: 1.0095 - accuracy: 0.1662 - mae: 0.7522\n",
            "Epoch 33/50\n",
            "146/146 [==============================] - 4s 26ms/step - loss: 1.0091 - accuracy: 0.1723 - mae: 0.7564\n",
            "Epoch 34/50\n",
            "146/146 [==============================] - 4s 26ms/step - loss: 0.9882 - accuracy: 0.1640 - mae: 0.7434\n",
            "Epoch 35/50\n",
            "146/146 [==============================] - 4s 26ms/step - loss: 0.9779 - accuracy: 0.1693 - mae: 0.7446\n",
            "Epoch 36/50\n",
            "146/146 [==============================] - 4s 25ms/step - loss: 0.9672 - accuracy: 0.1718 - mae: 0.7412\n",
            "Epoch 37/50\n",
            "146/146 [==============================] - 4s 26ms/step - loss: 0.9173 - accuracy: 0.1659 - mae: 0.7264\n",
            "Epoch 38/50\n",
            "146/146 [==============================] - 4s 26ms/step - loss: 0.9307 - accuracy: 0.1603 - mae: 0.7311\n",
            "Epoch 39/50\n",
            "146/146 [==============================] - 4s 26ms/step - loss: 0.9641 - accuracy: 0.1647 - mae: 0.7352\n",
            "Epoch 40/50\n",
            "146/146 [==============================] - 4s 26ms/step - loss: 0.9305 - accuracy: 0.1693 - mae: 0.7384\n",
            "Epoch 41/50\n",
            "146/146 [==============================] - 4s 26ms/step - loss: 0.9312 - accuracy: 0.1666 - mae: 0.7279\n",
            "Epoch 42/50\n",
            "146/146 [==============================] - 4s 26ms/step - loss: 0.8949 - accuracy: 0.1697 - mae: 0.7235\n",
            "Epoch 43/50\n",
            "146/146 [==============================] - 4s 26ms/step - loss: 0.9295 - accuracy: 0.1672 - mae: 0.7323\n",
            "Epoch 44/50\n",
            "146/146 [==============================] - 4s 26ms/step - loss: 0.8952 - accuracy: 0.1580 - mae: 0.7163\n",
            "Epoch 45/50\n",
            "146/146 [==============================] - 4s 26ms/step - loss: 0.8674 - accuracy: 0.1665 - mae: 0.7054\n",
            "Epoch 46/50\n",
            "146/146 [==============================] - 4s 26ms/step - loss: 0.8624 - accuracy: 0.1710 - mae: 0.7019\n",
            "Epoch 47/50\n",
            "146/146 [==============================] - 4s 26ms/step - loss: 0.8709 - accuracy: 0.1715 - mae: 0.7023\n",
            "Epoch 48/50\n",
            "146/146 [==============================] - 4s 26ms/step - loss: 0.9046 - accuracy: 0.1628 - mae: 0.7187\n",
            "Epoch 49/50\n",
            "146/146 [==============================] - 4s 26ms/step - loss: 0.8658 - accuracy: 0.1660 - mae: 0.7010\n",
            "Epoch 50/50\n",
            "146/146 [==============================] - 4s 26ms/step - loss: 0.8829 - accuracy: 0.1713 - mae: 0.7096\n",
            "acc Score: 6.0\n",
            "R2 Score: 0.8728165661508636\n",
            "\n",
            "--------Fold 3--------\n",
            "\n",
            "Training Word2Vec Model...\n",
            "Model: \"sequential_20\"\n",
            "_________________________________________________________________\n",
            "Layer (type)                 Output Shape              Param #   \n",
            "=================================================================\n",
            "lstm_40 (LSTM)               (None, 1, 300)            721200    \n",
            "_________________________________________________________________\n",
            "lstm_41 (LSTM)               (None, 64)                93440     \n",
            "_________________________________________________________________\n",
            "dropout_20 (Dropout)         (None, 64)                0         \n",
            "_________________________________________________________________\n",
            "dense_20 (Dense)             (None, 1)                 65        \n",
            "=================================================================\n",
            "Total params: 814,705\n",
            "Trainable params: 814,705\n",
            "Non-trainable params: 0\n",
            "_________________________________________________________________\n",
            "Epoch 1/50\n",
            "146/146 [==============================] - 11s 26ms/step - loss: 7.5354 - accuracy: 0.1244 - mae: 1.9374\n",
            "Epoch 2/50\n",
            "146/146 [==============================] - 4s 26ms/step - loss: 2.0409 - accuracy: 0.1664 - mae: 1.0795\n",
            "Epoch 3/50\n",
            "146/146 [==============================] - 4s 26ms/step - loss: 1.8832 - accuracy: 0.1712 - mae: 1.0341\n",
            "Epoch 4/50\n",
            "146/146 [==============================] - 4s 26ms/step - loss: 1.8239 - accuracy: 0.1693 - mae: 1.0136\n",
            "Epoch 5/50\n",
            "146/146 [==============================] - 4s 26ms/step - loss: 1.7858 - accuracy: 0.1706 - mae: 0.9889\n",
            "Epoch 6/50\n",
            "146/146 [==============================] - 4s 26ms/step - loss: 1.8602 - accuracy: 0.1753 - mae: 1.0113\n",
            "Epoch 7/50\n",
            "146/146 [==============================] - 4s 26ms/step - loss: 1.7482 - accuracy: 0.1767 - mae: 0.9803\n",
            "Epoch 8/50\n",
            "146/146 [==============================] - 4s 26ms/step - loss: 1.7177 - accuracy: 0.1699 - mae: 0.9790\n",
            "Epoch 9/50\n",
            "146/146 [==============================] - 4s 26ms/step - loss: 1.6691 - accuracy: 0.1690 - mae: 0.9585\n",
            "Epoch 10/50\n",
            "146/146 [==============================] - 4s 26ms/step - loss: 1.6372 - accuracy: 0.1720 - mae: 0.9505\n",
            "Epoch 11/50\n",
            "146/146 [==============================] - 4s 26ms/step - loss: 1.5620 - accuracy: 0.1646 - mae: 0.9336\n",
            "Epoch 12/50\n",
            "146/146 [==============================] - 4s 26ms/step - loss: 1.5409 - accuracy: 0.1662 - mae: 0.9259\n",
            "Epoch 13/50\n",
            "146/146 [==============================] - 4s 26ms/step - loss: 1.4779 - accuracy: 0.1716 - mae: 0.9092\n",
            "Epoch 14/50\n",
            "146/146 [==============================] - 4s 27ms/step - loss: 1.4183 - accuracy: 0.1798 - mae: 0.8965\n",
            "Epoch 15/50\n",
            "146/146 [==============================] - 4s 27ms/step - loss: 1.4301 - accuracy: 0.1672 - mae: 0.8943\n",
            "Epoch 16/50\n",
            "146/146 [==============================] - 4s 26ms/step - loss: 1.2934 - accuracy: 0.1716 - mae: 0.8636\n",
            "Epoch 17/50\n",
            "146/146 [==============================] - 4s 26ms/step - loss: 1.3122 - accuracy: 0.1681 - mae: 0.8571\n",
            "Epoch 18/50\n",
            "146/146 [==============================] - 4s 26ms/step - loss: 1.2691 - accuracy: 0.1702 - mae: 0.8526\n",
            "Epoch 19/50\n",
            "146/146 [==============================] - 4s 26ms/step - loss: 1.2070 - accuracy: 0.1738 - mae: 0.8360\n",
            "Epoch 20/50\n",
            "146/146 [==============================] - 4s 26ms/step - loss: 1.2261 - accuracy: 0.1679 - mae: 0.8272\n",
            "Epoch 21/50\n",
            "146/146 [==============================] - 4s 27ms/step - loss: 1.2039 - accuracy: 0.1712 - mae: 0.8364\n",
            "Epoch 22/50\n",
            "146/146 [==============================] - 4s 26ms/step - loss: 1.1191 - accuracy: 0.1664 - mae: 0.8052\n",
            "Epoch 23/50\n",
            "146/146 [==============================] - 4s 26ms/step - loss: 1.1260 - accuracy: 0.1623 - mae: 0.8073\n",
            "Epoch 24/50\n",
            "146/146 [==============================] - 4s 26ms/step - loss: 1.1640 - accuracy: 0.1680 - mae: 0.8115\n",
            "Epoch 25/50\n",
            "146/146 [==============================] - 4s 26ms/step - loss: 1.0908 - accuracy: 0.1709 - mae: 0.7903\n",
            "Epoch 26/50\n",
            "146/146 [==============================] - 4s 26ms/step - loss: 1.0751 - accuracy: 0.1704 - mae: 0.7803\n",
            "Epoch 27/50\n",
            "146/146 [==============================] - 4s 27ms/step - loss: 1.0667 - accuracy: 0.1658 - mae: 0.7822\n",
            "Epoch 28/50\n",
            "146/146 [==============================] - 4s 27ms/step - loss: 1.0791 - accuracy: 0.1707 - mae: 0.7822\n",
            "Epoch 29/50\n",
            "146/146 [==============================] - 4s 27ms/step - loss: 1.0125 - accuracy: 0.1685 - mae: 0.7606\n",
            "Epoch 30/50\n",
            "146/146 [==============================] - 4s 27ms/step - loss: 1.0638 - accuracy: 0.1691 - mae: 0.7730\n",
            "Epoch 31/50\n",
            "146/146 [==============================] - 4s 27ms/step - loss: 1.0397 - accuracy: 0.1736 - mae: 0.7734\n",
            "Epoch 32/50\n",
            "146/146 [==============================] - 4s 26ms/step - loss: 1.0508 - accuracy: 0.1730 - mae: 0.7707\n",
            "Epoch 33/50\n",
            "146/146 [==============================] - 4s 26ms/step - loss: 0.9880 - accuracy: 0.1722 - mae: 0.7619\n",
            "Epoch 34/50\n",
            "146/146 [==============================] - 4s 27ms/step - loss: 0.9873 - accuracy: 0.1715 - mae: 0.7506\n",
            "Epoch 35/50\n",
            "146/146 [==============================] - 4s 27ms/step - loss: 0.9418 - accuracy: 0.1718 - mae: 0.7329\n",
            "Epoch 36/50\n",
            "146/146 [==============================] - 4s 26ms/step - loss: 0.9599 - accuracy: 0.1699 - mae: 0.7418\n",
            "Epoch 37/50\n",
            "146/146 [==============================] - 4s 27ms/step - loss: 0.9283 - accuracy: 0.1689 - mae: 0.7302\n",
            "Epoch 38/50\n",
            "146/146 [==============================] - 4s 27ms/step - loss: 0.9431 - accuracy: 0.1681 - mae: 0.7320\n",
            "Epoch 39/50\n",
            "146/146 [==============================] - 4s 27ms/step - loss: 0.9620 - accuracy: 0.1702 - mae: 0.7372\n",
            "Epoch 40/50\n",
            "146/146 [==============================] - 4s 26ms/step - loss: 0.8883 - accuracy: 0.1750 - mae: 0.7173\n",
            "Epoch 41/50\n",
            "146/146 [==============================] - 4s 26ms/step - loss: 0.9141 - accuracy: 0.1690 - mae: 0.7239\n",
            "Epoch 42/50\n",
            "146/146 [==============================] - 4s 27ms/step - loss: 0.9130 - accuracy: 0.1724 - mae: 0.7208\n",
            "Epoch 43/50\n",
            "146/146 [==============================] - 4s 27ms/step - loss: 0.9565 - accuracy: 0.1743 - mae: 0.7335\n",
            "Epoch 44/50\n",
            "146/146 [==============================] - 4s 26ms/step - loss: 0.8779 - accuracy: 0.1711 - mae: 0.7092\n",
            "Epoch 45/50\n",
            "146/146 [==============================] - 4s 27ms/step - loss: 0.8957 - accuracy: 0.1704 - mae: 0.7156\n",
            "Epoch 46/50\n",
            "146/146 [==============================] - 4s 27ms/step - loss: 0.8990 - accuracy: 0.1731 - mae: 0.7149\n",
            "Epoch 47/50\n",
            "146/146 [==============================] - 4s 26ms/step - loss: 0.8483 - accuracy: 0.1746 - mae: 0.7079\n",
            "Epoch 48/50\n",
            "146/146 [==============================] - 4s 26ms/step - loss: 0.8787 - accuracy: 0.1715 - mae: 0.7119\n",
            "Epoch 49/50\n",
            "146/146 [==============================] - 4s 27ms/step - loss: 0.8882 - accuracy: 0.1670 - mae: 0.7128\n",
            "Epoch 50/50\n",
            "146/146 [==============================] - 4s 27ms/step - loss: 0.8464 - accuracy: 0.1711 - mae: 0.6969\n",
            "acc Score: 5.0\n",
            "R2 Score: 0.8576120086860937\n",
            "\n",
            "--------Fold 4--------\n",
            "\n",
            "Training Word2Vec Model...\n",
            "Model: \"sequential_21\"\n",
            "_________________________________________________________________\n",
            "Layer (type)                 Output Shape              Param #   \n",
            "=================================================================\n",
            "lstm_42 (LSTM)               (None, 1, 300)            721200    \n",
            "_________________________________________________________________\n",
            "lstm_43 (LSTM)               (None, 64)                93440     \n",
            "_________________________________________________________________\n",
            "dropout_21 (Dropout)         (None, 64)                0         \n",
            "_________________________________________________________________\n",
            "dense_21 (Dense)             (None, 1)                 65        \n",
            "=================================================================\n",
            "Total params: 814,705\n",
            "Trainable params: 814,705\n",
            "Non-trainable params: 0\n",
            "_________________________________________________________________\n",
            "Epoch 1/50\n",
            "146/146 [==============================] - 11s 27ms/step - loss: 7.8664 - accuracy: 0.1251 - mae: 1.9987\n",
            "Epoch 2/50\n",
            "146/146 [==============================] - 4s 27ms/step - loss: 2.0511 - accuracy: 0.1611 - mae: 1.0897\n",
            "Epoch 3/50\n",
            "146/146 [==============================] - 4s 27ms/step - loss: 1.9522 - accuracy: 0.1624 - mae: 1.0630\n",
            "Epoch 4/50\n",
            "146/146 [==============================] - 4s 27ms/step - loss: 1.9607 - accuracy: 0.1662 - mae: 1.0515\n",
            "Epoch 5/50\n",
            "146/146 [==============================] - 4s 27ms/step - loss: 1.8036 - accuracy: 0.1752 - mae: 1.0168\n",
            "Epoch 6/50\n",
            "146/146 [==============================] - 4s 27ms/step - loss: 1.8273 - accuracy: 0.1665 - mae: 1.0094\n",
            "Epoch 7/50\n",
            "146/146 [==============================] - 4s 27ms/step - loss: 1.7689 - accuracy: 0.1744 - mae: 0.9964\n",
            "Epoch 8/50\n",
            "146/146 [==============================] - 4s 27ms/step - loss: 1.7508 - accuracy: 0.1707 - mae: 0.9927\n",
            "Epoch 9/50\n",
            "146/146 [==============================] - 4s 26ms/step - loss: 1.7805 - accuracy: 0.1691 - mae: 0.9860\n",
            "Epoch 10/50\n",
            "146/146 [==============================] - 4s 27ms/step - loss: 1.6478 - accuracy: 0.1730 - mae: 0.9583\n",
            "Epoch 11/50\n",
            "146/146 [==============================] - 4s 27ms/step - loss: 1.5513 - accuracy: 0.1646 - mae: 0.9423\n",
            "Epoch 12/50\n",
            "146/146 [==============================] - 4s 26ms/step - loss: 1.5871 - accuracy: 0.1678 - mae: 0.9348\n",
            "Epoch 13/50\n",
            "146/146 [==============================] - 4s 26ms/step - loss: 1.5259 - accuracy: 0.1682 - mae: 0.9305\n",
            "Epoch 14/50\n",
            "146/146 [==============================] - 4s 27ms/step - loss: 1.4772 - accuracy: 0.1731 - mae: 0.9080\n",
            "Epoch 15/50\n",
            "146/146 [==============================] - 4s 27ms/step - loss: 1.3940 - accuracy: 0.1692 - mae: 0.8855\n",
            "Epoch 16/50\n",
            "146/146 [==============================] - 4s 27ms/step - loss: 1.3404 - accuracy: 0.1669 - mae: 0.8745\n",
            "Epoch 17/50\n",
            "146/146 [==============================] - 4s 27ms/step - loss: 1.3176 - accuracy: 0.1723 - mae: 0.8550\n",
            "Epoch 18/50\n",
            "146/146 [==============================] - 4s 26ms/step - loss: 1.2850 - accuracy: 0.1734 - mae: 0.8530\n",
            "Epoch 19/50\n",
            "146/146 [==============================] - 4s 27ms/step - loss: 1.2558 - accuracy: 0.1727 - mae: 0.8409\n",
            "Epoch 20/50\n",
            "146/146 [==============================] - 4s 26ms/step - loss: 1.2054 - accuracy: 0.1725 - mae: 0.8291\n",
            "Epoch 21/50\n",
            "146/146 [==============================] - 4s 26ms/step - loss: 1.1993 - accuracy: 0.1683 - mae: 0.8226\n",
            "Epoch 22/50\n",
            "146/146 [==============================] - 4s 26ms/step - loss: 1.1618 - accuracy: 0.1616 - mae: 0.8046\n",
            "Epoch 23/50\n",
            "146/146 [==============================] - 4s 27ms/step - loss: 1.1567 - accuracy: 0.1703 - mae: 0.8054\n",
            "Epoch 24/50\n",
            "146/146 [==============================] - 4s 27ms/step - loss: 1.1226 - accuracy: 0.1708 - mae: 0.8037\n",
            "Epoch 25/50\n",
            "146/146 [==============================] - 4s 26ms/step - loss: 1.0939 - accuracy: 0.1657 - mae: 0.7951\n",
            "Epoch 26/50\n",
            "146/146 [==============================] - 4s 27ms/step - loss: 1.1146 - accuracy: 0.1695 - mae: 0.7986\n",
            "Epoch 27/50\n",
            "146/146 [==============================] - 4s 26ms/step - loss: 1.0846 - accuracy: 0.1675 - mae: 0.7880\n",
            "Epoch 28/50\n",
            "146/146 [==============================] - 4s 27ms/step - loss: 1.0508 - accuracy: 0.1726 - mae: 0.7704\n",
            "Epoch 29/50\n",
            "146/146 [==============================] - 4s 27ms/step - loss: 1.0579 - accuracy: 0.1726 - mae: 0.7812\n",
            "Epoch 30/50\n",
            "146/146 [==============================] - 4s 28ms/step - loss: 0.9617 - accuracy: 0.1664 - mae: 0.7481\n",
            "Epoch 31/50\n",
            "146/146 [==============================] - 4s 27ms/step - loss: 0.9933 - accuracy: 0.1640 - mae: 0.7532\n",
            "Epoch 32/50\n",
            "146/146 [==============================] - 4s 27ms/step - loss: 1.0027 - accuracy: 0.1701 - mae: 0.7554\n",
            "Epoch 33/50\n",
            "146/146 [==============================] - 4s 27ms/step - loss: 0.9738 - accuracy: 0.1760 - mae: 0.7521\n",
            "Epoch 34/50\n",
            "146/146 [==============================] - 4s 27ms/step - loss: 0.9922 - accuracy: 0.1644 - mae: 0.7538\n",
            "Epoch 35/50\n",
            "146/146 [==============================] - 4s 27ms/step - loss: 0.9350 - accuracy: 0.1691 - mae: 0.7384\n",
            "Epoch 36/50\n",
            "146/146 [==============================] - 4s 27ms/step - loss: 0.9668 - accuracy: 0.1652 - mae: 0.7368\n",
            "Epoch 37/50\n",
            "146/146 [==============================] - 4s 27ms/step - loss: 0.9648 - accuracy: 0.1748 - mae: 0.7375\n",
            "Epoch 38/50\n",
            "146/146 [==============================] - 4s 27ms/step - loss: 0.9439 - accuracy: 0.1669 - mae: 0.7385\n",
            "Epoch 39/50\n",
            "146/146 [==============================] - 4s 27ms/step - loss: 0.9245 - accuracy: 0.1693 - mae: 0.7299\n",
            "Epoch 40/50\n",
            "146/146 [==============================] - 4s 27ms/step - loss: 0.8654 - accuracy: 0.1695 - mae: 0.7138\n",
            "Epoch 41/50\n",
            "146/146 [==============================] - 4s 27ms/step - loss: 0.8936 - accuracy: 0.1727 - mae: 0.7219\n",
            "Epoch 42/50\n",
            "146/146 [==============================] - 4s 28ms/step - loss: 0.9017 - accuracy: 0.1658 - mae: 0.7188\n",
            "Epoch 43/50\n",
            "146/146 [==============================] - 4s 27ms/step - loss: 0.8828 - accuracy: 0.1614 - mae: 0.7195\n",
            "Epoch 44/50\n",
            "146/146 [==============================] - 4s 27ms/step - loss: 0.8952 - accuracy: 0.1722 - mae: 0.7233\n",
            "Epoch 45/50\n",
            "146/146 [==============================] - 4s 27ms/step - loss: 0.8555 - accuracy: 0.1734 - mae: 0.7079\n",
            "Epoch 46/50\n",
            "146/146 [==============================] - 4s 27ms/step - loss: 0.8312 - accuracy: 0.1688 - mae: 0.6998\n",
            "Epoch 47/50\n",
            "146/146 [==============================] - 4s 27ms/step - loss: 0.8825 - accuracy: 0.1620 - mae: 0.7099\n",
            "Epoch 48/50\n",
            "146/146 [==============================] - 4s 27ms/step - loss: 0.9254 - accuracy: 0.1678 - mae: 0.7202\n",
            "Epoch 49/50\n",
            "146/146 [==============================] - 4s 27ms/step - loss: 0.8602 - accuracy: 0.1697 - mae: 0.7020\n",
            "Epoch 50/50\n",
            "146/146 [==============================] - 4s 27ms/step - loss: 0.8543 - accuracy: 0.1662 - mae: 0.7028\n",
            "acc Score: 8.0\n",
            "R2 Score: 0.8641836153293532\n",
            "\n",
            "--------Fold 5--------\n",
            "\n",
            "Training Word2Vec Model...\n",
            "Model: \"sequential_22\"\n",
            "_________________________________________________________________\n",
            "Layer (type)                 Output Shape              Param #   \n",
            "=================================================================\n",
            "lstm_44 (LSTM)               (None, 1, 300)            721200    \n",
            "_________________________________________________________________\n",
            "lstm_45 (LSTM)               (None, 64)                93440     \n",
            "_________________________________________________________________\n",
            "dropout_22 (Dropout)         (None, 64)                0         \n",
            "_________________________________________________________________\n",
            "dense_22 (Dense)             (None, 1)                 65        \n",
            "=================================================================\n",
            "Total params: 814,705\n",
            "Trainable params: 814,705\n",
            "Non-trainable params: 0\n",
            "_________________________________________________________________\n",
            "Epoch 1/50\n",
            "146/146 [==============================] - 12s 27ms/step - loss: 7.7973 - accuracy: 0.1298 - mae: 1.9742\n",
            "Epoch 2/50\n",
            "146/146 [==============================] - 4s 27ms/step - loss: 2.1182 - accuracy: 0.1609 - mae: 1.1035\n",
            "Epoch 3/50\n",
            "146/146 [==============================] - 4s 27ms/step - loss: 1.9091 - accuracy: 0.1734 - mae: 1.0410\n",
            "Epoch 4/50\n",
            "146/146 [==============================] - 4s 27ms/step - loss: 1.8984 - accuracy: 0.1626 - mae: 1.0428\n",
            "Epoch 5/50\n",
            "146/146 [==============================] - 4s 27ms/step - loss: 1.8326 - accuracy: 0.1666 - mae: 1.0202\n",
            "Epoch 6/50\n",
            "146/146 [==============================] - 4s 27ms/step - loss: 1.8011 - accuracy: 0.1670 - mae: 1.0120\n",
            "Epoch 7/50\n",
            "146/146 [==============================] - 4s 27ms/step - loss: 1.7837 - accuracy: 0.1751 - mae: 0.9964\n",
            "Epoch 8/50\n",
            "146/146 [==============================] - 4s 27ms/step - loss: 1.7232 - accuracy: 0.1618 - mae: 0.9874\n",
            "Epoch 9/50\n",
            "146/146 [==============================] - 4s 27ms/step - loss: 1.7852 - accuracy: 0.1596 - mae: 0.9966\n",
            "Epoch 10/50\n",
            "146/146 [==============================] - 4s 27ms/step - loss: 1.6244 - accuracy: 0.1722 - mae: 0.9544\n",
            "Epoch 11/50\n",
            "146/146 [==============================] - 4s 27ms/step - loss: 1.7537 - accuracy: 0.1643 - mae: 0.9667\n",
            "Epoch 12/50\n",
            "146/146 [==============================] - 4s 27ms/step - loss: 1.6814 - accuracy: 0.1633 - mae: 0.9577\n",
            "Epoch 13/50\n",
            "146/146 [==============================] - 4s 27ms/step - loss: 1.4817 - accuracy: 0.1681 - mae: 0.9108\n",
            "Epoch 14/50\n",
            "146/146 [==============================] - 4s 27ms/step - loss: 1.4058 - accuracy: 0.1630 - mae: 0.8953\n",
            "Epoch 15/50\n",
            "146/146 [==============================] - 4s 27ms/step - loss: 1.4046 - accuracy: 0.1753 - mae: 0.8875\n",
            "Epoch 16/50\n",
            "146/146 [==============================] - 4s 27ms/step - loss: 1.3521 - accuracy: 0.1692 - mae: 0.8785\n",
            "Epoch 17/50\n",
            "146/146 [==============================] - 4s 27ms/step - loss: 1.2854 - accuracy: 0.1639 - mae: 0.8566\n",
            "Epoch 18/50\n",
            "146/146 [==============================] - 4s 27ms/step - loss: 1.2566 - accuracy: 0.1709 - mae: 0.8527\n",
            "Epoch 19/50\n",
            "146/146 [==============================] - 4s 27ms/step - loss: 1.3550 - accuracy: 0.1680 - mae: 0.8710\n",
            "Epoch 20/50\n",
            "146/146 [==============================] - 4s 27ms/step - loss: 1.2443 - accuracy: 0.1694 - mae: 0.8398\n",
            "Epoch 21/50\n",
            "146/146 [==============================] - 4s 27ms/step - loss: 1.2468 - accuracy: 0.1636 - mae: 0.8365\n",
            "Epoch 22/50\n",
            "146/146 [==============================] - 4s 27ms/step - loss: 1.2208 - accuracy: 0.1633 - mae: 0.8358\n",
            "Epoch 23/50\n",
            "146/146 [==============================] - 4s 26ms/step - loss: 1.2025 - accuracy: 0.1680 - mae: 0.8220\n",
            "Epoch 24/50\n",
            "146/146 [==============================] - 4s 26ms/step - loss: 1.1734 - accuracy: 0.1717 - mae: 0.8212\n",
            "Epoch 25/50\n",
            "146/146 [==============================] - 4s 26ms/step - loss: 1.1422 - accuracy: 0.1700 - mae: 0.8039\n",
            "Epoch 26/50\n",
            "146/146 [==============================] - 4s 26ms/step - loss: 1.1025 - accuracy: 0.1741 - mae: 0.7979\n",
            "Epoch 27/50\n",
            "146/146 [==============================] - 4s 26ms/step - loss: 1.1378 - accuracy: 0.1691 - mae: 0.7991\n",
            "Epoch 28/50\n",
            "146/146 [==============================] - 4s 26ms/step - loss: 1.0912 - accuracy: 0.1671 - mae: 0.7821\n",
            "Epoch 29/50\n",
            "146/146 [==============================] - 4s 26ms/step - loss: 1.0920 - accuracy: 0.1671 - mae: 0.7841\n",
            "Epoch 30/50\n",
            "146/146 [==============================] - 4s 27ms/step - loss: 1.0935 - accuracy: 0.1691 - mae: 0.7852\n",
            "Epoch 31/50\n",
            "146/146 [==============================] - 4s 26ms/step - loss: 1.0514 - accuracy: 0.1709 - mae: 0.7708\n",
            "Epoch 32/50\n",
            "146/146 [==============================] - 4s 26ms/step - loss: 1.0489 - accuracy: 0.1674 - mae: 0.7691\n",
            "Epoch 33/50\n",
            "146/146 [==============================] - 4s 26ms/step - loss: 1.0112 - accuracy: 0.1678 - mae: 0.7599\n",
            "Epoch 34/50\n",
            "146/146 [==============================] - 4s 26ms/step - loss: 0.9575 - accuracy: 0.1703 - mae: 0.7412\n",
            "Epoch 35/50\n",
            "146/146 [==============================] - 4s 26ms/step - loss: 1.0241 - accuracy: 0.1679 - mae: 0.7598\n",
            "Epoch 36/50\n",
            "146/146 [==============================] - 4s 26ms/step - loss: 1.0066 - accuracy: 0.1782 - mae: 0.7550\n",
            "Epoch 37/50\n",
            "146/146 [==============================] - 4s 26ms/step - loss: 0.9335 - accuracy: 0.1685 - mae: 0.7301\n",
            "Epoch 38/50\n",
            "146/146 [==============================] - 4s 26ms/step - loss: 0.9344 - accuracy: 0.1651 - mae: 0.7345\n",
            "Epoch 39/50\n",
            "146/146 [==============================] - 4s 26ms/step - loss: 0.9727 - accuracy: 0.1690 - mae: 0.7440\n",
            "Epoch 40/50\n",
            "146/146 [==============================] - 4s 26ms/step - loss: 1.0030 - accuracy: 0.1693 - mae: 0.7489\n",
            "Epoch 41/50\n",
            "146/146 [==============================] - 4s 26ms/step - loss: 0.9377 - accuracy: 0.1711 - mae: 0.7308\n",
            "Epoch 42/50\n",
            "146/146 [==============================] - 4s 26ms/step - loss: 0.9398 - accuracy: 0.1708 - mae: 0.7303\n",
            "Epoch 43/50\n",
            "146/146 [==============================] - 4s 26ms/step - loss: 0.9280 - accuracy: 0.1674 - mae: 0.7300\n",
            "Epoch 44/50\n",
            "146/146 [==============================] - 4s 26ms/step - loss: 0.9476 - accuracy: 0.1716 - mae: 0.7343\n",
            "Epoch 45/50\n",
            "146/146 [==============================] - 4s 26ms/step - loss: 0.8993 - accuracy: 0.1733 - mae: 0.7193\n",
            "Epoch 46/50\n",
            "146/146 [==============================] - 4s 26ms/step - loss: 0.8670 - accuracy: 0.1680 - mae: 0.7078\n",
            "Epoch 47/50\n",
            "146/146 [==============================] - 4s 26ms/step - loss: 0.9377 - accuracy: 0.1659 - mae: 0.7208\n",
            "Epoch 48/50\n",
            "146/146 [==============================] - 4s 26ms/step - loss: 0.8938 - accuracy: 0.1685 - mae: 0.7153\n",
            "Epoch 49/50\n",
            "146/146 [==============================] - 4s 26ms/step - loss: 0.8803 - accuracy: 0.1637 - mae: 0.7067\n",
            "Epoch 50/50\n",
            "146/146 [==============================] - 4s 26ms/step - loss: 0.8719 - accuracy: 0.1653 - mae: 0.7040\n",
            "acc Score: 6.0\n",
            "R2 Score: 0.8618513079188245\n",
            "\n",
            "--------Fold 6--------\n",
            "\n",
            "Training Word2Vec Model...\n",
            "Model: \"sequential_23\"\n",
            "_________________________________________________________________\n",
            "Layer (type)                 Output Shape              Param #   \n",
            "=================================================================\n",
            "lstm_46 (LSTM)               (None, 1, 300)            721200    \n",
            "_________________________________________________________________\n",
            "lstm_47 (LSTM)               (None, 64)                93440     \n",
            "_________________________________________________________________\n",
            "dropout_23 (Dropout)         (None, 64)                0         \n",
            "_________________________________________________________________\n",
            "dense_23 (Dense)             (None, 1)                 65        \n",
            "=================================================================\n",
            "Total params: 814,705\n",
            "Trainable params: 814,705\n",
            "Non-trainable params: 0\n",
            "_________________________________________________________________\n",
            "Epoch 1/50\n",
            "146/146 [==============================] - 11s 27ms/step - loss: 7.9989 - accuracy: 0.1244 - mae: 2.0104\n",
            "Epoch 2/50\n",
            "146/146 [==============================] - 4s 28ms/step - loss: 2.1710 - accuracy: 0.1578 - mae: 1.1242\n",
            "Epoch 3/50\n",
            "146/146 [==============================] - 4s 27ms/step - loss: 1.9987 - accuracy: 0.1662 - mae: 1.0665\n",
            "Epoch 4/50\n",
            "146/146 [==============================] - 4s 27ms/step - loss: 1.9337 - accuracy: 0.1677 - mae: 1.0489\n",
            "Epoch 5/50\n",
            "146/146 [==============================] - 4s 28ms/step - loss: 1.7738 - accuracy: 0.1677 - mae: 0.9974\n",
            "Epoch 6/50\n",
            "146/146 [==============================] - 4s 27ms/step - loss: 1.7787 - accuracy: 0.1663 - mae: 1.0013\n",
            "Epoch 7/50\n",
            "146/146 [==============================] - 4s 27ms/step - loss: 1.7476 - accuracy: 0.1678 - mae: 0.9939\n",
            "Epoch 8/50\n",
            "146/146 [==============================] - 4s 27ms/step - loss: 1.7558 - accuracy: 0.1677 - mae: 0.9943\n",
            "Epoch 9/50\n",
            "146/146 [==============================] - 4s 28ms/step - loss: 1.8119 - accuracy: 0.1677 - mae: 0.9901\n",
            "Epoch 10/50\n",
            "146/146 [==============================] - 4s 28ms/step - loss: 1.7132 - accuracy: 0.1683 - mae: 0.9693\n",
            "Epoch 11/50\n",
            "146/146 [==============================] - 4s 27ms/step - loss: 1.6591 - accuracy: 0.1637 - mae: 0.9528\n",
            "Epoch 12/50\n",
            "146/146 [==============================] - 4s 28ms/step - loss: 1.5840 - accuracy: 0.1734 - mae: 0.9450\n",
            "Epoch 13/50\n",
            "146/146 [==============================] - 4s 28ms/step - loss: 1.5353 - accuracy: 0.1630 - mae: 0.9301\n",
            "Epoch 14/50\n",
            "146/146 [==============================] - 4s 28ms/step - loss: 1.5123 - accuracy: 0.1644 - mae: 0.9143\n",
            "Epoch 15/50\n",
            "146/146 [==============================] - 4s 28ms/step - loss: 1.3965 - accuracy: 0.1687 - mae: 0.8877\n",
            "Epoch 16/50\n",
            "146/146 [==============================] - 4s 28ms/step - loss: 1.4080 - accuracy: 0.1657 - mae: 0.8893\n",
            "Epoch 17/50\n",
            "146/146 [==============================] - 4s 28ms/step - loss: 1.3034 - accuracy: 0.1682 - mae: 0.8582\n",
            "Epoch 18/50\n",
            "146/146 [==============================] - 4s 28ms/step - loss: 1.2950 - accuracy: 0.1754 - mae: 0.8555\n",
            "Epoch 19/50\n",
            "146/146 [==============================] - 4s 27ms/step - loss: 1.2153 - accuracy: 0.1692 - mae: 0.8270\n",
            "Epoch 20/50\n",
            "146/146 [==============================] - 4s 28ms/step - loss: 1.2380 - accuracy: 0.1628 - mae: 0.8425\n",
            "Epoch 21/50\n",
            "146/146 [==============================] - 4s 28ms/step - loss: 1.1863 - accuracy: 0.1738 - mae: 0.8227\n",
            "Epoch 22/50\n",
            "146/146 [==============================] - 4s 28ms/step - loss: 1.1848 - accuracy: 0.1682 - mae: 0.8135\n",
            "Epoch 23/50\n",
            "146/146 [==============================] - 4s 28ms/step - loss: 1.0976 - accuracy: 0.1624 - mae: 0.7922\n",
            "Epoch 24/50\n",
            "146/146 [==============================] - 4s 28ms/step - loss: 1.0858 - accuracy: 0.1741 - mae: 0.7886\n",
            "Epoch 25/50\n",
            "146/146 [==============================] - 4s 28ms/step - loss: 1.1199 - accuracy: 0.1705 - mae: 0.7952\n",
            "Epoch 26/50\n",
            "146/146 [==============================] - 4s 28ms/step - loss: 1.0764 - accuracy: 0.1675 - mae: 0.7831\n",
            "Epoch 27/50\n",
            "146/146 [==============================] - 4s 29ms/step - loss: 1.0775 - accuracy: 0.1752 - mae: 0.7795\n",
            "Epoch 28/50\n",
            "146/146 [==============================] - 4s 29ms/step - loss: 1.0765 - accuracy: 0.1669 - mae: 0.7812\n",
            "Epoch 29/50\n",
            "146/146 [==============================] - 4s 28ms/step - loss: 1.0026 - accuracy: 0.1666 - mae: 0.7605\n",
            "Epoch 30/50\n",
            "146/146 [==============================] - 4s 28ms/step - loss: 1.0334 - accuracy: 0.1684 - mae: 0.7705\n",
            "Epoch 31/50\n",
            "146/146 [==============================] - 4s 28ms/step - loss: 0.9783 - accuracy: 0.1624 - mae: 0.7505\n",
            "Epoch 32/50\n",
            "146/146 [==============================] - 4s 28ms/step - loss: 1.0227 - accuracy: 0.1702 - mae: 0.7662\n",
            "Epoch 33/50\n",
            "146/146 [==============================] - 4s 28ms/step - loss: 1.0148 - accuracy: 0.1650 - mae: 0.7566\n",
            "Epoch 34/50\n",
            "146/146 [==============================] - 4s 28ms/step - loss: 1.0179 - accuracy: 0.1693 - mae: 0.7512\n",
            "Epoch 35/50\n",
            "146/146 [==============================] - 4s 28ms/step - loss: 0.9940 - accuracy: 0.1647 - mae: 0.7512\n",
            "Epoch 36/50\n",
            "146/146 [==============================] - 4s 28ms/step - loss: 0.9738 - accuracy: 0.1669 - mae: 0.7472\n",
            "Epoch 37/50\n",
            "146/146 [==============================] - 4s 28ms/step - loss: 0.9452 - accuracy: 0.1692 - mae: 0.7298\n",
            "Epoch 38/50\n",
            "146/146 [==============================] - 4s 28ms/step - loss: 0.9655 - accuracy: 0.1701 - mae: 0.7438\n",
            "Epoch 39/50\n",
            "146/146 [==============================] - 4s 28ms/step - loss: 0.9740 - accuracy: 0.1678 - mae: 0.7383\n",
            "Epoch 40/50\n",
            "146/146 [==============================] - 4s 28ms/step - loss: 0.9651 - accuracy: 0.1697 - mae: 0.7386\n",
            "Epoch 41/50\n",
            "146/146 [==============================] - 4s 28ms/step - loss: 0.9369 - accuracy: 0.1690 - mae: 0.7310\n",
            "Epoch 42/50\n",
            "146/146 [==============================] - 4s 28ms/step - loss: 0.9211 - accuracy: 0.1704 - mae: 0.7309\n",
            "Epoch 43/50\n",
            "146/146 [==============================] - 4s 28ms/step - loss: 0.9132 - accuracy: 0.1733 - mae: 0.7241\n",
            "Epoch 44/50\n",
            "146/146 [==============================] - 4s 28ms/step - loss: 0.9538 - accuracy: 0.1724 - mae: 0.7324\n",
            "Epoch 45/50\n",
            "146/146 [==============================] - 4s 28ms/step - loss: 0.9175 - accuracy: 0.1722 - mae: 0.7263\n",
            "Epoch 46/50\n",
            "146/146 [==============================] - 4s 28ms/step - loss: 0.8684 - accuracy: 0.1673 - mae: 0.7089\n",
            "Epoch 47/50\n",
            "146/146 [==============================] - 4s 28ms/step - loss: 0.8434 - accuracy: 0.1630 - mae: 0.6990\n",
            "Epoch 48/50\n",
            "146/146 [==============================] - 4s 28ms/step - loss: 0.8602 - accuracy: 0.1695 - mae: 0.7074\n",
            "Epoch 49/50\n",
            "146/146 [==============================] - 4s 28ms/step - loss: 0.8738 - accuracy: 0.1676 - mae: 0.7045\n",
            "Epoch 50/50\n",
            "146/146 [==============================] - 4s 28ms/step - loss: 0.8824 - accuracy: 0.1638 - mae: 0.7107\n",
            "acc Score: 5.0\n",
            "R2 Score: 0.8770713375869601\n",
            "\n",
            "--------Fold 7--------\n",
            "\n",
            "Training Word2Vec Model...\n",
            "Model: \"sequential_24\"\n",
            "_________________________________________________________________\n",
            "Layer (type)                 Output Shape              Param #   \n",
            "=================================================================\n",
            "lstm_48 (LSTM)               (None, 1, 300)            721200    \n",
            "_________________________________________________________________\n",
            "lstm_49 (LSTM)               (None, 64)                93440     \n",
            "_________________________________________________________________\n",
            "dropout_24 (Dropout)         (None, 64)                0         \n",
            "_________________________________________________________________\n",
            "dense_24 (Dense)             (None, 1)                 65        \n",
            "=================================================================\n",
            "Total params: 814,705\n",
            "Trainable params: 814,705\n",
            "Non-trainable params: 0\n",
            "_________________________________________________________________\n",
            "Epoch 1/50\n",
            "146/146 [==============================] - 12s 29ms/step - loss: 7.6819 - accuracy: 0.1251 - mae: 1.9709\n",
            "Epoch 2/50\n",
            "146/146 [==============================] - 4s 29ms/step - loss: 2.1045 - accuracy: 0.1611 - mae: 1.1084\n",
            "Epoch 3/50\n",
            "146/146 [==============================] - 4s 29ms/step - loss: 1.9714 - accuracy: 0.1596 - mae: 1.0499\n",
            "Epoch 4/50\n",
            "146/146 [==============================] - 4s 28ms/step - loss: 1.9159 - accuracy: 0.1679 - mae: 1.0476\n",
            "Epoch 5/50\n",
            "146/146 [==============================] - 4s 29ms/step - loss: 1.8555 - accuracy: 0.1675 - mae: 1.0163\n",
            "Epoch 6/50\n",
            "146/146 [==============================] - 4s 28ms/step - loss: 1.7713 - accuracy: 0.1746 - mae: 0.9964\n",
            "Epoch 7/50\n",
            "146/146 [==============================] - 4s 28ms/step - loss: 1.8236 - accuracy: 0.1658 - mae: 1.0007\n",
            "Epoch 8/50\n",
            "146/146 [==============================] - 4s 28ms/step - loss: 1.8673 - accuracy: 0.1699 - mae: 1.0190\n",
            "Epoch 9/50\n",
            "146/146 [==============================] - 4s 28ms/step - loss: 1.7553 - accuracy: 0.1643 - mae: 0.9912\n",
            "Epoch 10/50\n",
            "146/146 [==============================] - 4s 28ms/step - loss: 1.6751 - accuracy: 0.1629 - mae: 0.9611\n",
            "Epoch 11/50\n",
            "146/146 [==============================] - 4s 28ms/step - loss: 1.6369 - accuracy: 0.1618 - mae: 0.9551\n",
            "Epoch 12/50\n",
            "146/146 [==============================] - 4s 28ms/step - loss: 1.6464 - accuracy: 0.1644 - mae: 0.9499\n",
            "Epoch 13/50\n",
            "146/146 [==============================] - 4s 28ms/step - loss: 1.5193 - accuracy: 0.1616 - mae: 0.9261\n",
            "Epoch 14/50\n",
            "146/146 [==============================] - 4s 28ms/step - loss: 1.4942 - accuracy: 0.1690 - mae: 0.9207\n",
            "Epoch 15/50\n",
            "146/146 [==============================] - 4s 28ms/step - loss: 1.4041 - accuracy: 0.1682 - mae: 0.8855\n",
            "Epoch 16/50\n",
            "146/146 [==============================] - 4s 28ms/step - loss: 1.3309 - accuracy: 0.1654 - mae: 0.8690\n",
            "Epoch 17/50\n",
            "146/146 [==============================] - 4s 28ms/step - loss: 1.3820 - accuracy: 0.1626 - mae: 0.8747\n",
            "Epoch 18/50\n",
            "146/146 [==============================] - 4s 29ms/step - loss: 1.2583 - accuracy: 0.1714 - mae: 0.8575\n",
            "Epoch 19/50\n",
            "146/146 [==============================] - 4s 28ms/step - loss: 1.2265 - accuracy: 0.1609 - mae: 0.8387\n",
            "Epoch 20/50\n",
            "146/146 [==============================] - 4s 28ms/step - loss: 1.2292 - accuracy: 0.1632 - mae: 0.8405\n",
            "Epoch 21/50\n",
            "146/146 [==============================] - 4s 28ms/step - loss: 1.1945 - accuracy: 0.1657 - mae: 0.8261\n",
            "Epoch 22/50\n",
            "146/146 [==============================] - 4s 28ms/step - loss: 1.1683 - accuracy: 0.1718 - mae: 0.8233\n",
            "Epoch 23/50\n",
            "146/146 [==============================] - 4s 29ms/step - loss: 1.1635 - accuracy: 0.1703 - mae: 0.8096\n",
            "Epoch 24/50\n",
            "146/146 [==============================] - 4s 29ms/step - loss: 1.1450 - accuracy: 0.1672 - mae: 0.8103\n",
            "Epoch 25/50\n",
            "146/146 [==============================] - 4s 28ms/step - loss: 1.1018 - accuracy: 0.1724 - mae: 0.7999\n",
            "Epoch 26/50\n",
            "146/146 [==============================] - 4s 29ms/step - loss: 1.1197 - accuracy: 0.1636 - mae: 0.8002\n",
            "Epoch 27/50\n",
            "146/146 [==============================] - 4s 28ms/step - loss: 1.0169 - accuracy: 0.1648 - mae: 0.7671\n",
            "Epoch 28/50\n",
            "146/146 [==============================] - 4s 28ms/step - loss: 1.0406 - accuracy: 0.1745 - mae: 0.7714\n",
            "Epoch 29/50\n",
            "146/146 [==============================] - 4s 29ms/step - loss: 1.0323 - accuracy: 0.1686 - mae: 0.7688\n",
            "Epoch 30/50\n",
            "146/146 [==============================] - 4s 29ms/step - loss: 1.0624 - accuracy: 0.1650 - mae: 0.7748\n",
            "Epoch 31/50\n",
            "146/146 [==============================] - 4s 29ms/step - loss: 1.0528 - accuracy: 0.1687 - mae: 0.7742\n",
            "Epoch 32/50\n",
            "146/146 [==============================] - 4s 28ms/step - loss: 1.0059 - accuracy: 0.1700 - mae: 0.7681\n",
            "Epoch 33/50\n",
            "146/146 [==============================] - 4s 28ms/step - loss: 0.9854 - accuracy: 0.1669 - mae: 0.7551\n",
            "Epoch 34/50\n",
            "146/146 [==============================] - 4s 29ms/step - loss: 1.0240 - accuracy: 0.1697 - mae: 0.7629\n",
            "Epoch 35/50\n",
            "146/146 [==============================] - 4s 28ms/step - loss: 0.9896 - accuracy: 0.1672 - mae: 0.7513\n",
            "Epoch 36/50\n",
            "146/146 [==============================] - 4s 29ms/step - loss: 0.9718 - accuracy: 0.1631 - mae: 0.7532\n",
            "Epoch 37/50\n",
            "146/146 [==============================] - 4s 29ms/step - loss: 0.9236 - accuracy: 0.1714 - mae: 0.7334\n",
            "Epoch 38/50\n",
            "146/146 [==============================] - 4s 28ms/step - loss: 0.9616 - accuracy: 0.1686 - mae: 0.7416\n",
            "Epoch 39/50\n",
            "146/146 [==============================] - 4s 28ms/step - loss: 0.9121 - accuracy: 0.1697 - mae: 0.7303\n",
            "Epoch 40/50\n",
            "146/146 [==============================] - 4s 29ms/step - loss: 0.9103 - accuracy: 0.1630 - mae: 0.7246\n",
            "Epoch 41/50\n",
            "146/146 [==============================] - 4s 29ms/step - loss: 0.8926 - accuracy: 0.1637 - mae: 0.7233\n",
            "Epoch 42/50\n",
            "146/146 [==============================] - 4s 28ms/step - loss: 0.8884 - accuracy: 0.1667 - mae: 0.7191\n",
            "Epoch 43/50\n",
            "146/146 [==============================] - 4s 29ms/step - loss: 0.9125 - accuracy: 0.1737 - mae: 0.7243\n",
            "Epoch 44/50\n",
            "146/146 [==============================] - 4s 29ms/step - loss: 0.9079 - accuracy: 0.1713 - mae: 0.7214\n",
            "Epoch 45/50\n",
            "146/146 [==============================] - 4s 29ms/step - loss: 0.8604 - accuracy: 0.1662 - mae: 0.7081\n",
            "Epoch 46/50\n",
            "146/146 [==============================] - 4s 29ms/step - loss: 0.9061 - accuracy: 0.1655 - mae: 0.7220\n",
            "Epoch 47/50\n",
            "146/146 [==============================] - 4s 29ms/step - loss: 0.8686 - accuracy: 0.1660 - mae: 0.7138\n",
            "Epoch 48/50\n",
            "146/146 [==============================] - 4s 29ms/step - loss: 0.8855 - accuracy: 0.1689 - mae: 0.7139\n",
            "Epoch 49/50\n",
            "146/146 [==============================] - 4s 29ms/step - loss: 0.8578 - accuracy: 0.1661 - mae: 0.7059\n",
            "Epoch 50/50\n",
            "146/146 [==============================] - 4s 29ms/step - loss: 0.8432 - accuracy: 0.1702 - mae: 0.6995\n",
            "acc Score: 9.0\n",
            "R2 Score: 0.868992046830543\n",
            "\n",
            "--------Fold 8--------\n",
            "\n",
            "Training Word2Vec Model...\n",
            "Model: \"sequential_25\"\n",
            "_________________________________________________________________\n",
            "Layer (type)                 Output Shape              Param #   \n",
            "=================================================================\n",
            "lstm_50 (LSTM)               (None, 1, 300)            721200    \n",
            "_________________________________________________________________\n",
            "lstm_51 (LSTM)               (None, 64)                93440     \n",
            "_________________________________________________________________\n",
            "dropout_25 (Dropout)         (None, 64)                0         \n",
            "_________________________________________________________________\n",
            "dense_25 (Dense)             (None, 1)                 65        \n",
            "=================================================================\n",
            "Total params: 814,705\n",
            "Trainable params: 814,705\n",
            "Non-trainable params: 0\n",
            "_________________________________________________________________\n",
            "Epoch 1/50\n",
            "146/146 [==============================] - 11s 29ms/step - loss: 8.0863 - accuracy: 0.1272 - mae: 2.0158\n",
            "Epoch 2/50\n",
            "146/146 [==============================] - 4s 28ms/step - loss: 2.1140 - accuracy: 0.1692 - mae: 1.0994\n",
            "Epoch 3/50\n",
            "146/146 [==============================] - 4s 29ms/step - loss: 1.9925 - accuracy: 0.1664 - mae: 1.0615\n",
            "Epoch 4/50\n",
            "146/146 [==============================] - 4s 29ms/step - loss: 1.8356 - accuracy: 0.1687 - mae: 1.0149\n",
            "Epoch 5/50\n",
            "146/146 [==============================] - 4s 28ms/step - loss: 1.8332 - accuracy: 0.1667 - mae: 1.0207\n",
            "Epoch 6/50\n",
            "146/146 [==============================] - 4s 29ms/step - loss: 1.7693 - accuracy: 0.1633 - mae: 0.9995\n",
            "Epoch 7/50\n",
            "146/146 [==============================] - 4s 29ms/step - loss: 1.7124 - accuracy: 0.1706 - mae: 0.9797\n",
            "Epoch 8/50\n",
            "146/146 [==============================] - 4s 29ms/step - loss: 1.8017 - accuracy: 0.1713 - mae: 0.9956\n",
            "Epoch 9/50\n",
            "146/146 [==============================] - 4s 29ms/step - loss: 1.6747 - accuracy: 0.1759 - mae: 0.9782\n",
            "Epoch 10/50\n",
            "146/146 [==============================] - 4s 29ms/step - loss: 1.6323 - accuracy: 0.1748 - mae: 0.9494\n",
            "Epoch 11/50\n",
            "146/146 [==============================] - 4s 28ms/step - loss: 1.6615 - accuracy: 0.1684 - mae: 0.9569\n",
            "Epoch 12/50\n",
            "146/146 [==============================] - 4s 28ms/step - loss: 1.6023 - accuracy: 0.1741 - mae: 0.9338\n",
            "Epoch 13/50\n",
            "146/146 [==============================] - 4s 29ms/step - loss: 1.4312 - accuracy: 0.1726 - mae: 0.9044\n",
            "Epoch 14/50\n",
            "146/146 [==============================] - 4s 29ms/step - loss: 1.3526 - accuracy: 0.1706 - mae: 0.8819\n",
            "Epoch 15/50\n",
            "146/146 [==============================] - 4s 29ms/step - loss: 1.3779 - accuracy: 0.1773 - mae: 0.8857\n",
            "Epoch 16/50\n",
            "146/146 [==============================] - 4s 29ms/step - loss: 1.3511 - accuracy: 0.1731 - mae: 0.8773\n",
            "Epoch 17/50\n",
            "146/146 [==============================] - 4s 29ms/step - loss: 1.2694 - accuracy: 0.1679 - mae: 0.8571\n",
            "Epoch 18/50\n",
            "146/146 [==============================] - 4s 29ms/step - loss: 1.2502 - accuracy: 0.1725 - mae: 0.8422\n",
            "Epoch 19/50\n",
            "146/146 [==============================] - 4s 29ms/step - loss: 1.2843 - accuracy: 0.1678 - mae: 0.8474\n",
            "Epoch 20/50\n",
            "146/146 [==============================] - 4s 29ms/step - loss: 1.1853 - accuracy: 0.1716 - mae: 0.8303\n",
            "Epoch 21/50\n",
            "146/146 [==============================] - 4s 29ms/step - loss: 1.1508 - accuracy: 0.1657 - mae: 0.8027\n",
            "Epoch 22/50\n",
            "146/146 [==============================] - 4s 29ms/step - loss: 1.1579 - accuracy: 0.1706 - mae: 0.8069\n",
            "Epoch 23/50\n",
            "146/146 [==============================] - 4s 29ms/step - loss: 1.1863 - accuracy: 0.1656 - mae: 0.8154\n",
            "Epoch 24/50\n",
            "146/146 [==============================] - 4s 29ms/step - loss: 1.0876 - accuracy: 0.1733 - mae: 0.7884\n",
            "Epoch 25/50\n",
            "146/146 [==============================] - 4s 29ms/step - loss: 1.0972 - accuracy: 0.1706 - mae: 0.7900\n",
            "Epoch 26/50\n",
            "146/146 [==============================] - 4s 29ms/step - loss: 1.0517 - accuracy: 0.1680 - mae: 0.7761\n",
            "Epoch 27/50\n",
            "146/146 [==============================] - 4s 29ms/step - loss: 1.0799 - accuracy: 0.1673 - mae: 0.7695\n",
            "Epoch 28/50\n",
            "146/146 [==============================] - 4s 29ms/step - loss: 1.0715 - accuracy: 0.1679 - mae: 0.7758\n",
            "Epoch 29/50\n",
            "146/146 [==============================] - 4s 29ms/step - loss: 1.0581 - accuracy: 0.1637 - mae: 0.7716\n",
            "Epoch 30/50\n",
            "146/146 [==============================] - 4s 29ms/step - loss: 1.0531 - accuracy: 0.1618 - mae: 0.7712\n",
            "Epoch 31/50\n",
            "146/146 [==============================] - 4s 29ms/step - loss: 1.0099 - accuracy: 0.1724 - mae: 0.7616\n",
            "Epoch 32/50\n",
            "146/146 [==============================] - 4s 29ms/step - loss: 1.0395 - accuracy: 0.1705 - mae: 0.7714\n",
            "Epoch 33/50\n",
            "146/146 [==============================] - 4s 29ms/step - loss: 0.9267 - accuracy: 0.1718 - mae: 0.7336\n",
            "Epoch 34/50\n",
            "146/146 [==============================] - 4s 29ms/step - loss: 0.9604 - accuracy: 0.1677 - mae: 0.7384\n",
            "Epoch 35/50\n",
            "146/146 [==============================] - 4s 29ms/step - loss: 0.9319 - accuracy: 0.1723 - mae: 0.7414\n",
            "Epoch 36/50\n",
            "146/146 [==============================] - 4s 29ms/step - loss: 0.9358 - accuracy: 0.1658 - mae: 0.7323\n",
            "Epoch 37/50\n",
            "146/146 [==============================] - 4s 29ms/step - loss: 0.9255 - accuracy: 0.1744 - mae: 0.7288\n",
            "Epoch 38/50\n",
            "146/146 [==============================] - 4s 29ms/step - loss: 0.9580 - accuracy: 0.1673 - mae: 0.7410\n",
            "Epoch 39/50\n",
            "146/146 [==============================] - 4s 29ms/step - loss: 0.9388 - accuracy: 0.1700 - mae: 0.7372\n",
            "Epoch 40/50\n",
            "146/146 [==============================] - 4s 29ms/step - loss: 0.8717 - accuracy: 0.1706 - mae: 0.7103\n",
            "Epoch 41/50\n",
            "146/146 [==============================] - 4s 29ms/step - loss: 0.9311 - accuracy: 0.1700 - mae: 0.7262\n",
            "Epoch 42/50\n",
            "146/146 [==============================] - 4s 29ms/step - loss: 0.9196 - accuracy: 0.1690 - mae: 0.7221\n",
            "Epoch 43/50\n",
            "146/146 [==============================] - 4s 29ms/step - loss: 0.8841 - accuracy: 0.1758 - mae: 0.7184\n",
            "Epoch 44/50\n",
            "146/146 [==============================] - 4s 29ms/step - loss: 0.8770 - accuracy: 0.1673 - mae: 0.7160\n",
            "Epoch 45/50\n",
            "146/146 [==============================] - 4s 29ms/step - loss: 0.8645 - accuracy: 0.1685 - mae: 0.7029\n",
            "Epoch 46/50\n",
            "146/146 [==============================] - 4s 29ms/step - loss: 0.9057 - accuracy: 0.1735 - mae: 0.7218\n",
            "Epoch 47/50\n",
            "146/146 [==============================] - 4s 29ms/step - loss: 0.9073 - accuracy: 0.1705 - mae: 0.7238\n",
            "Epoch 48/50\n",
            "146/146 [==============================] - 4s 29ms/step - loss: 0.8640 - accuracy: 0.1663 - mae: 0.7034\n",
            "Epoch 49/50\n",
            "146/146 [==============================] - 4s 29ms/step - loss: 0.8749 - accuracy: 0.1749 - mae: 0.7113\n",
            "Epoch 50/50\n",
            "146/146 [==============================] - 4s 29ms/step - loss: 0.8244 - accuracy: 0.1699 - mae: 0.6932\n",
            "acc Score: 6.0\n",
            "R2 Score: 0.8644118842346658\n",
            "\n",
            "--------Fold 9--------\n",
            "\n",
            "Training Word2Vec Model...\n",
            "Model: \"sequential_26\"\n",
            "_________________________________________________________________\n",
            "Layer (type)                 Output Shape              Param #   \n",
            "=================================================================\n",
            "lstm_52 (LSTM)               (None, 1, 300)            721200    \n",
            "_________________________________________________________________\n",
            "lstm_53 (LSTM)               (None, 64)                93440     \n",
            "_________________________________________________________________\n",
            "dropout_26 (Dropout)         (None, 64)                0         \n",
            "_________________________________________________________________\n",
            "dense_26 (Dense)             (None, 1)                 65        \n",
            "=================================================================\n",
            "Total params: 814,705\n",
            "Trainable params: 814,705\n",
            "Non-trainable params: 0\n",
            "_________________________________________________________________\n",
            "Epoch 1/50\n",
            "146/146 [==============================] - 11s 29ms/step - loss: 7.8044 - accuracy: 0.1251 - mae: 2.0102\n",
            "Epoch 2/50\n",
            "146/146 [==============================] - 4s 29ms/step - loss: 2.0303 - accuracy: 0.1668 - mae: 1.0855\n",
            "Epoch 3/50\n",
            "146/146 [==============================] - 4s 29ms/step - loss: 1.9388 - accuracy: 0.1663 - mae: 1.0546\n",
            "Epoch 4/50\n",
            "146/146 [==============================] - 4s 29ms/step - loss: 1.8868 - accuracy: 0.1686 - mae: 1.0291\n",
            "Epoch 5/50\n",
            "146/146 [==============================] - 4s 29ms/step - loss: 1.8231 - accuracy: 0.1623 - mae: 1.0186\n",
            "Epoch 6/50\n",
            "146/146 [==============================] - 4s 29ms/step - loss: 1.8567 - accuracy: 0.1659 - mae: 1.0163\n",
            "Epoch 7/50\n",
            "146/146 [==============================] - 4s 29ms/step - loss: 1.8001 - accuracy: 0.1677 - mae: 0.9985\n",
            "Epoch 8/50\n",
            "146/146 [==============================] - 4s 29ms/step - loss: 1.7837 - accuracy: 0.1597 - mae: 0.9862\n",
            "Epoch 9/50\n",
            "146/146 [==============================] - 4s 29ms/step - loss: 1.6989 - accuracy: 0.1697 - mae: 0.9810\n",
            "Epoch 10/50\n",
            "146/146 [==============================] - 4s 29ms/step - loss: 1.6998 - accuracy: 0.1674 - mae: 0.9704\n",
            "Epoch 11/50\n",
            "146/146 [==============================] - 4s 29ms/step - loss: 1.5756 - accuracy: 0.1604 - mae: 0.9408\n",
            "Epoch 12/50\n",
            "146/146 [==============================] - 4s 29ms/step - loss: 1.5535 - accuracy: 0.1682 - mae: 0.9336\n",
            "Epoch 13/50\n",
            "146/146 [==============================] - 4s 29ms/step - loss: 1.5206 - accuracy: 0.1634 - mae: 0.9142\n",
            "Epoch 14/50\n",
            "146/146 [==============================] - 4s 29ms/step - loss: 1.3840 - accuracy: 0.1670 - mae: 0.8891\n",
            "Epoch 15/50\n",
            "146/146 [==============================] - 4s 29ms/step - loss: 1.3383 - accuracy: 0.1665 - mae: 0.8813\n",
            "Epoch 16/50\n",
            "146/146 [==============================] - 4s 29ms/step - loss: 1.3340 - accuracy: 0.1626 - mae: 0.8690\n",
            "Epoch 17/50\n",
            "146/146 [==============================] - 4s 29ms/step - loss: 1.3025 - accuracy: 0.1697 - mae: 0.8617\n",
            "Epoch 18/50\n",
            "146/146 [==============================] - 4s 29ms/step - loss: 1.2701 - accuracy: 0.1701 - mae: 0.8505\n",
            "Epoch 19/50\n",
            "146/146 [==============================] - 4s 29ms/step - loss: 1.2283 - accuracy: 0.1647 - mae: 0.8383\n",
            "Epoch 20/50\n",
            "146/146 [==============================] - 4s 29ms/step - loss: 1.1999 - accuracy: 0.1667 - mae: 0.8284\n",
            "Epoch 21/50\n",
            "146/146 [==============================] - 4s 29ms/step - loss: 1.2282 - accuracy: 0.1740 - mae: 0.8358\n",
            "Epoch 22/50\n",
            "146/146 [==============================] - 4s 29ms/step - loss: 1.2077 - accuracy: 0.1661 - mae: 0.8194\n",
            "Epoch 23/50\n",
            "146/146 [==============================] - 4s 29ms/step - loss: 1.1225 - accuracy: 0.1653 - mae: 0.8047\n",
            "Epoch 24/50\n",
            "146/146 [==============================] - 4s 29ms/step - loss: 1.0911 - accuracy: 0.1689 - mae: 0.7956\n",
            "Epoch 25/50\n",
            "146/146 [==============================] - 4s 29ms/step - loss: 1.0959 - accuracy: 0.1665 - mae: 0.7867\n",
            "Epoch 26/50\n",
            "146/146 [==============================] - 4s 29ms/step - loss: 1.1293 - accuracy: 0.1649 - mae: 0.7986\n",
            "Epoch 27/50\n",
            "146/146 [==============================] - 4s 29ms/step - loss: 1.0703 - accuracy: 0.1642 - mae: 0.7816\n",
            "Epoch 28/50\n",
            "146/146 [==============================] - 4s 29ms/step - loss: 1.0282 - accuracy: 0.1662 - mae: 0.7708\n",
            "Epoch 29/50\n",
            "146/146 [==============================] - 4s 30ms/step - loss: 0.9992 - accuracy: 0.1743 - mae: 0.7604\n",
            "Epoch 30/50\n",
            "146/146 [==============================] - 4s 29ms/step - loss: 1.0552 - accuracy: 0.1617 - mae: 0.7714\n",
            "Epoch 31/50\n",
            "146/146 [==============================] - 4s 30ms/step - loss: 0.9959 - accuracy: 0.1663 - mae: 0.7573\n",
            "Epoch 32/50\n",
            "146/146 [==============================] - 4s 29ms/step - loss: 1.0101 - accuracy: 0.1707 - mae: 0.7696\n",
            "Epoch 33/50\n",
            "146/146 [==============================] - 4s 29ms/step - loss: 0.9787 - accuracy: 0.1686 - mae: 0.7479\n",
            "Epoch 34/50\n",
            "146/146 [==============================] - 4s 29ms/step - loss: 1.0310 - accuracy: 0.1649 - mae: 0.7656\n",
            "Epoch 35/50\n",
            "146/146 [==============================] - 4s 29ms/step - loss: 0.9996 - accuracy: 0.1667 - mae: 0.7535\n",
            "Epoch 36/50\n",
            "146/146 [==============================] - 4s 30ms/step - loss: 0.9524 - accuracy: 0.1728 - mae: 0.7417\n",
            "Epoch 37/50\n",
            "146/146 [==============================] - 4s 30ms/step - loss: 0.9673 - accuracy: 0.1663 - mae: 0.7510\n",
            "Epoch 38/50\n",
            "146/146 [==============================] - 4s 29ms/step - loss: 0.9241 - accuracy: 0.1657 - mae: 0.7306\n",
            "Epoch 39/50\n",
            "146/146 [==============================] - 4s 29ms/step - loss: 0.9758 - accuracy: 0.1634 - mae: 0.7410\n",
            "Epoch 40/50\n",
            "146/146 [==============================] - 4s 29ms/step - loss: 1.0003 - accuracy: 0.1668 - mae: 0.7525\n",
            "Epoch 41/50\n",
            "146/146 [==============================] - 4s 29ms/step - loss: 0.9462 - accuracy: 0.1646 - mae: 0.7348\n",
            "Epoch 42/50\n",
            "146/146 [==============================] - 4s 29ms/step - loss: 0.9615 - accuracy: 0.1730 - mae: 0.7418\n",
            "Epoch 43/50\n",
            "146/146 [==============================] - 4s 29ms/step - loss: 0.9091 - accuracy: 0.1660 - mae: 0.7266\n",
            "Epoch 44/50\n",
            "146/146 [==============================] - 4s 29ms/step - loss: 0.8947 - accuracy: 0.1709 - mae: 0.7243\n",
            "Epoch 45/50\n",
            "146/146 [==============================] - 4s 29ms/step - loss: 0.9211 - accuracy: 0.1647 - mae: 0.7215\n",
            "Epoch 46/50\n",
            "146/146 [==============================] - 4s 29ms/step - loss: 0.9054 - accuracy: 0.1655 - mae: 0.7212\n",
            "Epoch 47/50\n",
            "146/146 [==============================] - 4s 29ms/step - loss: 0.8880 - accuracy: 0.1633 - mae: 0.7104\n",
            "Epoch 48/50\n",
            "146/146 [==============================] - 4s 29ms/step - loss: 0.8585 - accuracy: 0.1599 - mae: 0.7097\n",
            "Epoch 49/50\n",
            "146/146 [==============================] - 4s 29ms/step - loss: 0.8995 - accuracy: 0.1658 - mae: 0.7182\n",
            "Epoch 50/50\n",
            "146/146 [==============================] - 4s 29ms/step - loss: 0.8420 - accuracy: 0.1655 - mae: 0.6980\n",
            "acc Score: 7.0\n",
            "R2 Score: 0.8540518292854821\n",
            "\n",
            "--------Fold 10--------\n",
            "\n",
            "Training Word2Vec Model...\n",
            "Model: \"sequential_27\"\n",
            "_________________________________________________________________\n",
            "Layer (type)                 Output Shape              Param #   \n",
            "=================================================================\n",
            "lstm_54 (LSTM)               (None, 1, 300)            721200    \n",
            "_________________________________________________________________\n",
            "lstm_55 (LSTM)               (None, 64)                93440     \n",
            "_________________________________________________________________\n",
            "dropout_27 (Dropout)         (None, 64)                0         \n",
            "_________________________________________________________________\n",
            "dense_27 (Dense)             (None, 1)                 65        \n",
            "=================================================================\n",
            "Total params: 814,705\n",
            "Trainable params: 814,705\n",
            "Non-trainable params: 0\n",
            "_________________________________________________________________\n",
            "Epoch 1/50\n",
            "146/146 [==============================] - 11s 29ms/step - loss: 7.7834 - accuracy: 0.1274 - mae: 1.9853\n",
            "Epoch 2/50\n",
            "146/146 [==============================] - 4s 30ms/step - loss: 2.0940 - accuracy: 0.1641 - mae: 1.0916\n",
            "Epoch 3/50\n",
            "146/146 [==============================] - 4s 30ms/step - loss: 1.9740 - accuracy: 0.1708 - mae: 1.0611\n",
            "Epoch 4/50\n",
            "146/146 [==============================] - 4s 30ms/step - loss: 1.8537 - accuracy: 0.1640 - mae: 1.0177\n",
            "Epoch 5/50\n",
            "146/146 [==============================] - 4s 29ms/step - loss: 1.8458 - accuracy: 0.1662 - mae: 1.0175\n",
            "Epoch 6/50\n",
            "146/146 [==============================] - 4s 30ms/step - loss: 1.7459 - accuracy: 0.1679 - mae: 0.9828\n",
            "Epoch 7/50\n",
            "146/146 [==============================] - 4s 30ms/step - loss: 1.7561 - accuracy: 0.1667 - mae: 0.9955\n",
            "Epoch 8/50\n",
            "146/146 [==============================] - 4s 30ms/step - loss: 1.7305 - accuracy: 0.1660 - mae: 0.9799\n",
            "Epoch 9/50\n",
            "146/146 [==============================] - 4s 30ms/step - loss: 1.7409 - accuracy: 0.1673 - mae: 0.9774\n",
            "Epoch 10/50\n",
            "146/146 [==============================] - 4s 30ms/step - loss: 1.6080 - accuracy: 0.1642 - mae: 0.9467\n",
            "Epoch 11/50\n",
            "146/146 [==============================] - 4s 30ms/step - loss: 1.5817 - accuracy: 0.1722 - mae: 0.9363\n",
            "Epoch 12/50\n",
            "146/146 [==============================] - 4s 30ms/step - loss: 1.5502 - accuracy: 0.1716 - mae: 0.9242\n",
            "Epoch 13/50\n",
            "146/146 [==============================] - 4s 30ms/step - loss: 1.5034 - accuracy: 0.1677 - mae: 0.9174\n",
            "Epoch 14/50\n",
            "146/146 [==============================] - 4s 30ms/step - loss: 1.4302 - accuracy: 0.1701 - mae: 0.8961\n",
            "Epoch 15/50\n",
            "146/146 [==============================] - 4s 30ms/step - loss: 1.3999 - accuracy: 0.1737 - mae: 0.8953\n",
            "Epoch 16/50\n",
            "146/146 [==============================] - 4s 29ms/step - loss: 1.3411 - accuracy: 0.1689 - mae: 0.8725\n",
            "Epoch 17/50\n",
            "146/146 [==============================] - 4s 29ms/step - loss: 1.3112 - accuracy: 0.1698 - mae: 0.8513\n",
            "Epoch 18/50\n",
            "146/146 [==============================] - 4s 29ms/step - loss: 1.2593 - accuracy: 0.1703 - mae: 0.8442\n",
            "Epoch 19/50\n",
            "146/146 [==============================] - 4s 29ms/step - loss: 1.2059 - accuracy: 0.1714 - mae: 0.8262\n",
            "Epoch 20/50\n",
            "146/146 [==============================] - 4s 29ms/step - loss: 1.2486 - accuracy: 0.1666 - mae: 0.8394\n",
            "Epoch 21/50\n",
            "146/146 [==============================] - 4s 30ms/step - loss: 1.1670 - accuracy: 0.1675 - mae: 0.8133\n",
            "Epoch 22/50\n",
            "146/146 [==============================] - 4s 29ms/step - loss: 1.1985 - accuracy: 0.1675 - mae: 0.8239\n",
            "Epoch 23/50\n",
            "146/146 [==============================] - 4s 29ms/step - loss: 1.1740 - accuracy: 0.1716 - mae: 0.8159\n",
            "Epoch 24/50\n",
            "146/146 [==============================] - 4s 29ms/step - loss: 1.1471 - accuracy: 0.1697 - mae: 0.8005\n",
            "Epoch 25/50\n",
            "146/146 [==============================] - 4s 29ms/step - loss: 1.1006 - accuracy: 0.1708 - mae: 0.7931\n",
            "Epoch 26/50\n",
            "146/146 [==============================] - 4s 29ms/step - loss: 1.0921 - accuracy: 0.1744 - mae: 0.7879\n",
            "Epoch 27/50\n",
            "146/146 [==============================] - 4s 30ms/step - loss: 1.0452 - accuracy: 0.1692 - mae: 0.7728\n",
            "Epoch 28/50\n",
            "146/146 [==============================] - 4s 29ms/step - loss: 1.0362 - accuracy: 0.1685 - mae: 0.7710\n",
            "Epoch 29/50\n",
            "146/146 [==============================] - 4s 29ms/step - loss: 1.0473 - accuracy: 0.1685 - mae: 0.7697\n",
            "Epoch 30/50\n",
            "146/146 [==============================] - 4s 30ms/step - loss: 1.0589 - accuracy: 0.1639 - mae: 0.7751\n",
            "Epoch 31/50\n",
            "146/146 [==============================] - 4s 30ms/step - loss: 0.9984 - accuracy: 0.1684 - mae: 0.7586\n",
            "Epoch 32/50\n",
            "146/146 [==============================] - 4s 30ms/step - loss: 0.9827 - accuracy: 0.1673 - mae: 0.7543\n",
            "Epoch 33/50\n",
            "146/146 [==============================] - 4s 30ms/step - loss: 1.0133 - accuracy: 0.1634 - mae: 0.7641\n",
            "Epoch 34/50\n",
            "146/146 [==============================] - 4s 29ms/step - loss: 1.0164 - accuracy: 0.1646 - mae: 0.7579\n",
            "Epoch 35/50\n",
            "146/146 [==============================] - 4s 29ms/step - loss: 0.9859 - accuracy: 0.1627 - mae: 0.7452\n",
            "Epoch 36/50\n",
            "146/146 [==============================] - 4s 29ms/step - loss: 0.9787 - accuracy: 0.1747 - mae: 0.7541\n",
            "Epoch 37/50\n",
            "146/146 [==============================] - 4s 29ms/step - loss: 0.9605 - accuracy: 0.1672 - mae: 0.7494\n",
            "Epoch 38/50\n",
            "146/146 [==============================] - 4s 29ms/step - loss: 0.9201 - accuracy: 0.1631 - mae: 0.7257\n",
            "Epoch 39/50\n",
            "146/146 [==============================] - 4s 29ms/step - loss: 0.9094 - accuracy: 0.1670 - mae: 0.7280\n",
            "Epoch 40/50\n",
            "146/146 [==============================] - 4s 29ms/step - loss: 0.9300 - accuracy: 0.1655 - mae: 0.7306\n",
            "Epoch 41/50\n",
            "146/146 [==============================] - 4s 29ms/step - loss: 0.9109 - accuracy: 0.1650 - mae: 0.7241\n",
            "Epoch 42/50\n",
            "146/146 [==============================] - 4s 30ms/step - loss: 0.8775 - accuracy: 0.1693 - mae: 0.7126\n",
            "Epoch 43/50\n",
            "146/146 [==============================] - 4s 29ms/step - loss: 0.9094 - accuracy: 0.1700 - mae: 0.7218\n",
            "Epoch 44/50\n",
            "146/146 [==============================] - 4s 30ms/step - loss: 0.8745 - accuracy: 0.1687 - mae: 0.7137\n",
            "Epoch 45/50\n",
            "146/146 [==============================] - 4s 29ms/step - loss: 0.8637 - accuracy: 0.1701 - mae: 0.7147\n",
            "Epoch 46/50\n",
            "146/146 [==============================] - 4s 29ms/step - loss: 0.8818 - accuracy: 0.1632 - mae: 0.7141\n",
            "Epoch 47/50\n",
            "146/146 [==============================] - 4s 29ms/step - loss: 0.8603 - accuracy: 0.1712 - mae: 0.7015\n",
            "Epoch 48/50\n",
            "146/146 [==============================] - 4s 30ms/step - loss: 0.8596 - accuracy: 0.1747 - mae: 0.7007\n",
            "Epoch 49/50\n",
            "146/146 [==============================] - 4s 30ms/step - loss: 0.8397 - accuracy: 0.1665 - mae: 0.6971\n",
            "Epoch 50/50\n",
            "146/146 [==============================] - 4s 30ms/step - loss: 0.8627 - accuracy: 0.1724 - mae: 0.7032\n",
            "acc Score: 6.0\n",
            "R2 Score: 0.8713926580469559\n"
          ],
          "name": "stdout"
        }
      ]
    },
    {
      "cell_type": "code",
      "metadata": {
        "trusted": true,
        "colab": {
          "base_uri": "https://localhost:8080/"
        },
        "id": "o_D5nWbouPr2",
        "outputId": "b97e544e-d265-4acb-ff04-9ea3005ea18a"
      },
      "source": [
        "print(\"Average R2 score after a 10-fold cross validation: \",np.around(np.array(results).mean(),decimals=4))"
      ],
      "execution_count": 209,
      "outputs": [
        {
          "output_type": "stream",
          "text": [
            "Average R2 score after a 10-fold cross validation:  0.8657\n"
          ],
          "name": "stdout"
        }
      ]
    },
    {
      "cell_type": "markdown",
      "metadata": {
        "id": "fi8ysr-Q3Yik"
      },
      "source": [
        "Hence we can find Above after running 10 Fold Cross Validation we get R2 Score as 0.8657 \n",
        "This model Performs well in such Small Dataset as well.\n"
      ]
    },
    {
      "cell_type": "code",
      "metadata": {
        "colab": {
          "base_uri": "https://localhost:8080/",
          "height": 423
        },
        "id": "oC7vpUsx-t3C",
        "outputId": "8c0974ad-eac7-4f12-b44f-a8d446a85834"
      },
      "source": [
        "#content = pd.read_csv(\"/content/input/test.csv\")\n",
        "testset = pd.read_csv(\"/content/input/test.csv\")\n",
        "testset.drop(testset.columns[[0]],axis=1, inplace= True)\n",
        "testset = testset.dropna(axis=1)\n",
        "testset"
      ],
      "execution_count": null,
      "outputs": [
        {
          "output_type": "execute_result",
          "data": {
            "text/html": [
              "<div>\n",
              "<style scoped>\n",
              "    .dataframe tbody tr th:only-of-type {\n",
              "        vertical-align: middle;\n",
              "    }\n",
              "\n",
              "    .dataframe tbody tr th {\n",
              "        vertical-align: top;\n",
              "    }\n",
              "\n",
              "    .dataframe thead th {\n",
              "        text-align: right;\n",
              "    }\n",
              "</style>\n",
              "<table border=\"1\" class=\"dataframe\">\n",
              "  <thead>\n",
              "    <tr style=\"text-align: right;\">\n",
              "      <th></th>\n",
              "      <th>promptId</th>\n",
              "      <th>uniqueId</th>\n",
              "      <th>essay</th>\n",
              "    </tr>\n",
              "  </thead>\n",
              "  <tbody>\n",
              "    <tr>\n",
              "      <th>0</th>\n",
              "      <td>1</td>\n",
              "      <td>1_315</td>\n",
              "      <td>Curriculum has been adopted in many schools. T...</td>\n",
              "    </tr>\n",
              "    <tr>\n",
              "      <th>1</th>\n",
              "      <td>1</td>\n",
              "      <td>1_214</td>\n",
              "      <td>I strongly agree with the statement ,  The tig...</td>\n",
              "    </tr>\n",
              "    <tr>\n",
              "      <th>2</th>\n",
              "      <td>1</td>\n",
              "      <td>1_196</td>\n",
              "      <td>Imagination and creativity is the most importa...</td>\n",
              "    </tr>\n",
              "    <tr>\n",
              "      <th>3</th>\n",
              "      <td>1</td>\n",
              "      <td>1_178</td>\n",
              "      <td>In our eduction system leaves no room for imag...</td>\n",
              "    </tr>\n",
              "    <tr>\n",
              "      <th>4</th>\n",
              "      <td>1</td>\n",
              "      <td>1_201</td>\n",
              "      <td>I will agree at some what extend, because if w...</td>\n",
              "    </tr>\n",
              "    <tr>\n",
              "      <th>...</th>\n",
              "      <td>...</td>\n",
              "      <td>...</td>\n",
              "      <td>...</td>\n",
              "    </tr>\n",
              "    <tr>\n",
              "      <th>300</th>\n",
              "      <td>5</td>\n",
              "      <td>5_146</td>\n",
              "      <td>Earth is a creation of God and everything that...</td>\n",
              "    </tr>\n",
              "    <tr>\n",
              "      <th>301</th>\n",
              "      <td>5</td>\n",
              "      <td>5_65</td>\n",
              "      <td>production of arms and weapons in this present...</td>\n",
              "    </tr>\n",
              "    <tr>\n",
              "      <th>302</th>\n",
              "      <td>5</td>\n",
              "      <td>5_151</td>\n",
              "      <td>Race to become more powerful can destroy the e...</td>\n",
              "    </tr>\n",
              "    <tr>\n",
              "      <th>303</th>\n",
              "      <td>5</td>\n",
              "      <td>5_404</td>\n",
              "      <td>In its attempt to harness the power of the ato...</td>\n",
              "    </tr>\n",
              "    <tr>\n",
              "      <th>304</th>\n",
              "      <td>5</td>\n",
              "      <td>5_360</td>\n",
              "      <td>Racein the production of arms and weapons in t...</td>\n",
              "    </tr>\n",
              "  </tbody>\n",
              "</table>\n",
              "<p>305 rows × 3 columns</p>\n",
              "</div>"
            ],
            "text/plain": [
              "     promptId uniqueId                                              essay\n",
              "0           1    1_315  Curriculum has been adopted in many schools. T...\n",
              "1           1    1_214  I strongly agree with the statement ,  The tig...\n",
              "2           1    1_196  Imagination and creativity is the most importa...\n",
              "3           1    1_178  In our eduction system leaves no room for imag...\n",
              "4           1    1_201  I will agree at some what extend, because if w...\n",
              "..        ...      ...                                                ...\n",
              "300         5    5_146  Earth is a creation of God and everything that...\n",
              "301         5     5_65  production of arms and weapons in this present...\n",
              "302         5    5_151  Race to become more powerful can destroy the e...\n",
              "303         5    5_404  In its attempt to harness the power of the ato...\n",
              "304         5    5_360  Racein the production of arms and weapons in t...\n",
              "\n",
              "[305 rows x 3 columns]"
            ]
          },
          "metadata": {
            "tags": []
          },
          "execution_count": 158
        }
      ]
    },
    {
      "cell_type": "markdown",
      "metadata": {
        "id": "1zjnpmv93pq9"
      },
      "source": [
        "Now, Moving towards subimission.csv file extraction from the weights as learned in the module, we will apply same weights and bias to get the prediction"
      ]
    },
    {
      "cell_type": "code",
      "metadata": {
        "colab": {
          "base_uri": "https://localhost:8080/",
          "height": 191
        },
        "id": "l4ZsCOzBVLZT",
        "outputId": "15c22dd6-4aa7-48af-cbec-ca50bf331cbe"
      },
      "source": [
        "x1 = testset['essay'][1]\n",
        "x1"
      ],
      "execution_count": null,
      "outputs": [
        {
          "output_type": "execute_result",
          "data": {
            "application/vnd.google.colaboratory.intrinsic+json": {
              "type": "string"
            },
            "text/plain": [
              "\"I strongly agree with the statement ,  The tightly defined curriculum of our education system leaves no room or imagination and creativityToday's education system is completely theory based. More focus is given on theory,text books and pre-defined things set. No room for practical things,experiments, innovation and creativity.Our education system is mainly rather completely pre-defined curriculum structure as to syllabus is concerned , then examination pattern, marking system is all decided by the respective state government. In each state curriculum followed is different and preset by our older generation/people. No new concepts are added , no innovative systems are created.Syallbus is changed once in every ten years, which is a long gap and in between various things are changing , the world around is changing rapidly but our education system is still lacking behind. Also our system in based on gradation which creates inferority among them.If you see in western part of the world, thier education system is completely based on innovation, imagination, creativity which creates and ehances the skills of the students thier.People their are more creative and have great imagination power as compared to our students. our students have a habit to work under a structure and in adisplined way since we have a tightly defined curriculum and it become a habit offollowing the same type of system furher ; when given the work which involves creativity we lack behind as compared to them.It allows us to thing in the same way i.e the traditional way of solving the problem nad not lateral thinking i.e looking at the problem in different angles.\""
            ]
          },
          "metadata": {
            "tags": []
          },
          "execution_count": 159
        }
      ]
    },
    {
      "cell_type": "code",
      "metadata": {
        "colab": {
          "base_uri": "https://localhost:8080/",
          "height": 191
        },
        "id": "bbWsHet4ZzDB",
        "outputId": "79398143-b5b4-4b18-9fca-4ee9ac686948"
      },
      "source": [
        "x2 = testset['essay'][2]\n",
        "x2"
      ],
      "execution_count": null,
      "outputs": [
        {
          "output_type": "execute_result",
          "data": {
            "application/vnd.google.colaboratory.intrinsic+json": {
              "type": "string"
            },
            "text/plain": [
              "'Imagination and creativity is the most important thing to develope any idea and innovation.if you have no of us than is to difficults to innovation.In education we have no room for that things than our education is menningless.because when we do imagination after that we create somethings.so imagination and creativity is value able in our room so nothing happen in our education. when we saw any thing immediatly we starting the imagination and than we make something.so its important things in our life.without this we cannot make or create any things.so imagination and creativity is most important think nowdays. if it has no seperate room for imagination and creativity so out that any peple thing or imagin wrong thing or create that thing so its to harmfull to us.we take one example on this currently one of most concerning aspects of raising children is the amount of time they spend in front of screens,whether it tv,video etc,imagination and creativity is most important thing to develope any idea and innovation,if you have no of us than is to difficuts to innovation.imagination and creative play is a more natural way for children to learn about the word and does involve the whole body.children manipulate to le'"
            ]
          },
          "metadata": {
            "tags": []
          },
          "execution_count": 160
        }
      ]
    },
    {
      "cell_type": "code",
      "metadata": {
        "colab": {
          "base_uri": "https://localhost:8080/",
          "height": 191
        },
        "id": "p0LKWjGcZ6GI",
        "outputId": "36686726-3a99-405c-8dda-73dcd2a59194"
      },
      "source": [
        "x3 = testset['essay'][3]\n",
        "x3"
      ],
      "execution_count": null,
      "outputs": [
        {
          "output_type": "execute_result",
          "data": {
            "application/vnd.google.colaboratory.intrinsic+json": {
              "type": "string"
            },
            "text/plain": [
              "'In our eduction system leaves no room for imagination and creativity.In education system some staff are applied the rules and regulation.The staff are forcing the do many things at a time.Student brain are very small they cannot do many thing at a time.The staff are gives the many activity and said to student complete one or two days but this activity is big then student not completed at given time its need to complete given task at more extra time.Now a days the staff are not teach perfectly to the particular subject and not give the explanation of topics its just writing topic name and give the two or three line explanation.Now a days the some students going to school,college regularly and attend the all lectures but she/he cannot getting on what actually teach and how its work when and who is developed.In this situation and case the some students are feel tightly.In eduction system do not applied force for any students.The subject is teach very carefully and topic is explained by point wise and give the the depth explanation to the student.The student are not getting something then again repeated the topic and explain again.'"
            ]
          },
          "metadata": {
            "tags": []
          },
          "execution_count": 161
        }
      ]
    },
    {
      "cell_type": "code",
      "metadata": {
        "colab": {
          "base_uri": "https://localhost:8080/",
          "height": 191
        },
        "id": "RGKSeAJRZ61p",
        "outputId": "a9e6d2c4-2e54-463c-eb15-f701e1fda731"
      },
      "source": [
        "x5 = testset['essay'][4]\n",
        "x5"
      ],
      "execution_count": null,
      "outputs": [
        {
          "output_type": "execute_result",
          "data": {
            "application/vnd.google.colaboratory.intrinsic+json": {
              "type": "string"
            },
            "text/plain": [
              "'I will agree at some what extend, because if we think on regular basic of university of mumbai curriculam we didnt get time to do different things simelteneously with the study, study having lot of assignments, sheets, practicle even a theory,for that we have to come in the clg for 8 hours in travelling 2 hours wasted every day,9 hours went in the sleep,5 hour remaining in which we do our daily work, over an all the shedule is tight and we are not able to do creative things and for creation imagination is needed. this is one side of our lifeBut on other hand if we thought like in clg we have many practicle,events and also free time , in that free time regarding to the curriculum taking it as creation and make it more innovative and interesting as an project that will be awsome , it is tough to do but not an impossible , every work is hard but not imppossible. we can change in our daily shedule to give time for creativity and imagination. that would be more preferable and good for health if we do less laziness, sometime people take time to do this things but that is also fine because insted of just siitting free minded we atleast start to think and this think can make you the way for susscess.So taking both view in mind i think is depend on the everyone mentallity, and thinking power, if we think only about the passing and get job somewhere its fine , but it not make you active so far, so be active ,throw your laziness, take a part in every activity of clg , live every moment of life which will make you more creative by imagining the things. and one thing participation makes you imagine the things, and through imagination we can be creative.'"
            ]
          },
          "metadata": {
            "tags": []
          },
          "execution_count": 162
        }
      ]
    },
    {
      "cell_type": "markdown",
      "metadata": {
        "id": "RjmsgC_qaNhG"
      },
      "source": [
        "We are having 4 Sample essay as provided in our Dataset, Now we will run our predictive Analysis to get score of these eassy and extract out Test_submission.csv file for further Evaluation.\n",
        " "
      ]
    },
    {
      "cell_type": "code",
      "metadata": {
        "trusted": true,
        "id": "yqdRloexuPr3"
      },
      "source": [
        "from gensim.models import Word2Vec\n",
        "from gensim.models import KeyedVectors\n",
        "num_features = 300\n",
        "      \n",
        "model = KeyedVectors.load_word2vec_format( \"/content/word2vecmodel.bin\", binary=True)\n",
        "clean_test_essays = []\n",
        "clean_test_essays.append(essay_to_wordlist(x1, remove_stopwords=True ))\n",
        "testDataVecs = getAvgFeatureVecs( clean_test_essays, model, num_features )\n",
        "testDataVecs = np.array(testDataVecs)\n",
        "testDataVecs = np.reshape(testDataVecs, (testDataVecs.shape[0], 1, testDataVecs.shape[1]))\n",
        "\n",
        "# lstm_model = get_model()\n",
        "lstm_model.load_weights(\"/content/final_lstm.h5\")\n",
        "preds = lstm_model.predict(testDataVecs)"
      ],
      "execution_count": null,
      "outputs": []
    },
    {
      "cell_type": "code",
      "metadata": {
        "trusted": true,
        "colab": {
          "base_uri": "https://localhost:8080/"
        },
        "id": "mFPD0IRVuPr4",
        "outputId": "6570c58a-3684-4488-f21e-3ad8905451d7"
      },
      "source": [
        "pred1 = int(np.around(preds))\n",
        "pred1"
      ],
      "execution_count": null,
      "outputs": [
        {
          "output_type": "execute_result",
          "data": {
            "text/plain": [
              "3"
            ]
          },
          "metadata": {
            "tags": []
          },
          "execution_count": 164
        }
      ]
    },
    {
      "cell_type": "code",
      "metadata": {
        "colab": {
          "base_uri": "https://localhost:8080/"
        },
        "id": "-vj0R-dKapK3",
        "outputId": "70ddebc6-9456-4387-aefc-7ca407650cbf"
      },
      "source": [
        "pred2 = int(np.around(preds))\n",
        "pred2"
      ],
      "execution_count": null,
      "outputs": [
        {
          "output_type": "execute_result",
          "data": {
            "text/plain": [
              "3"
            ]
          },
          "metadata": {
            "tags": []
          },
          "execution_count": 165
        }
      ]
    },
    {
      "cell_type": "code",
      "metadata": {
        "colab": {
          "base_uri": "https://localhost:8080/"
        },
        "id": "lyxJPMAQapM8",
        "outputId": "c4a0037b-fd9a-40e6-ba59-5ab729822624"
      },
      "source": [
        "pred3 = int(np.around(preds))\n",
        "pred3"
      ],
      "execution_count": null,
      "outputs": [
        {
          "output_type": "execute_result",
          "data": {
            "text/plain": [
              "3"
            ]
          },
          "metadata": {
            "tags": []
          },
          "execution_count": 166
        }
      ]
    },
    {
      "cell_type": "code",
      "metadata": {
        "colab": {
          "base_uri": "https://localhost:8080/"
        },
        "id": "1SvspuvSapnL",
        "outputId": "65feca7f-fd48-4744-dfb2-72e27ab160b5"
      },
      "source": [
        "pred5 = int(np.around(preds))\n",
        "pred5"
      ],
      "execution_count": null,
      "outputs": [
        {
          "output_type": "execute_result",
          "data": {
            "text/plain": [
              "3"
            ]
          },
          "metadata": {
            "tags": []
          },
          "execution_count": 167
        }
      ]
    },
    {
      "cell_type": "code",
      "metadata": {
        "colab": {
          "base_uri": "https://localhost:8080/"
        },
        "id": "INZ0k_0DauSn",
        "outputId": "0b3ccb49-68e8-4bfd-bee8-46241c18c8dd"
      },
      "source": [
        "testset.T.shape"
      ],
      "execution_count": null,
      "outputs": [
        {
          "output_type": "execute_result",
          "data": {
            "text/plain": [
              "(3, 305)"
            ]
          },
          "metadata": {
            "tags": []
          },
          "execution_count": 168
        }
      ]
    },
    {
      "cell_type": "code",
      "metadata": {
        "trusted": true,
        "id": "L8Rdh3wkuPr4"
      },
      "source": [
        "y_pred1 = y_pred.T.reshape(206,)"
      ],
      "execution_count": null,
      "outputs": []
    },
    {
      "cell_type": "code",
      "metadata": {
        "colab": {
          "base_uri": "https://localhost:8080/"
        },
        "id": "las_-aiwbNYc",
        "outputId": "8ca4cb69-43ea-4968-d716-23553d0b8257"
      },
      "source": [
        "y_pred1"
      ],
      "execution_count": null,
      "outputs": [
        {
          "output_type": "execute_result",
          "data": {
            "text/plain": [
              "array([3., 2., 3., 3., 3., 2., 2., 2., 2., 2., 3., 3., 3., 2., 3., 2., 3.,\n",
              "       3., 3., 3., 3., 2., 3., 2., 3., 2., 2., 2., 3., 3., 3., 3., 3., 3.,\n",
              "       3., 3., 3., 2., 2., 3., 2., 3., 3., 2., 3., 2., 3., 2., 2., 3., 3.,\n",
              "       3., 3., 3., 3., 3., 3., 3., 3., 3., 2., 2., 3., 2., 3., 3., 3., 3.,\n",
              "       3., 3., 3., 3., 3., 3., 3., 2., 2., 2., 3., 2., 2., 2., 3., 2., 2.,\n",
              "       3., 3., 3., 3., 3., 3., 3., 3., 3., 3., 3., 3., 3., 2., 2., 2., 3.,\n",
              "       3., 2., 2., 3., 2., 3., 3., 2., 2., 3., 3., 3., 3., 3., 3., 3., 3.,\n",
              "       3., 3., 3., 3., 3., 3., 3., 3., 3., 2., 2., 2., 2., 2., 3., 3., 3.,\n",
              "       3., 3., 3., 3., 2., 2., 2., 3., 3., 3., 3., 2., 2., 3., 3., 3., 3.,\n",
              "       3., 3., 3., 3., 3., 3., 3., 3., 3., 3., 3., 3., 3., 3., 3., 3., 3.,\n",
              "       3., 3., 3., 3., 2., 3., 2., 2., 2., 2., 2., 2., 3., 3., 3., 3., 3.,\n",
              "       3., 2., 3., 3., 3., 3., 3., 3., 3., 2., 2., 2., 3., 3., 3., 3., 3.,\n",
              "       3., 3.], dtype=float32)"
            ]
          },
          "metadata": {
            "tags": []
          },
          "execution_count": 171
        }
      ]
    },
    {
      "cell_type": "code",
      "metadata": {
        "id": "jUiMvVzSWr66"
      },
      "source": [
        "outputfile = pd.DataFrame(y_pred1).to_csv(\"submission_Test.csv\")"
      ],
      "execution_count": null,
      "outputs": []
    },
    {
      "cell_type": "markdown",
      "metadata": {
        "id": "mmWC7TKp37C4"
      },
      "source": [
        "Done!!\n",
        "It was an Excellent Problem Statement Involving multiple Concepts, thanks a lot to the team Involved. "
      ]
    }
  ]
}