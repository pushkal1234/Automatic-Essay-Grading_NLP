{
  "nbformat": 4,
  "nbformat_minor": 0,
  "metadata": {
    "kernelspec": {
      "language": "python",
      "display_name": "Python 3",
      "name": "python3"
    },
    "language_info": {
      "pygments_lexer": "ipython3",
      "nbconvert_exporter": "python",
      "version": "3.6.4",
      "file_extension": ".py",
      "codemirror_mode": {
        "name": "ipython",
        "version": 3
      },
      "name": "python",
      "mimetype": "text/x-python"
    },
    "colab": {
      "name": "SHL_Pushkal Shukla.ipynb",
      "provenance": [],
      "collapsed_sections": [],
      "include_colab_link": true
    }
  },
  "cells": [
    {
      "cell_type": "markdown",
      "metadata": {
        "id": "view-in-github",
        "colab_type": "text"
      },
      "source": [
        "<a href=\"https://colab.research.google.com/github/pushkal1234/Automatic-Essay-Grading_NLP/blob/main/SHL_Pushkal_Shukla.ipynb\" target=\"_parent\"><img src=\"https://colab.research.google.com/assets/colab-badge.svg\" alt=\"Open In Colab\"/></a>"
      ]
    },
    {
      "cell_type": "code",
      "metadata": {
        "_uuid": "8f2839f25d086af736a60e9eeb907d3b93b6e0e5",
        "_cell_guid": "b1076dfc-b9ad-4769-8c92-a6c4dae69d19",
        "trusted": true,
        "colab": {
          "base_uri": "https://localhost:8080/"
        },
        "id": "dQOMYjEDuPru",
        "outputId": "a897698a-a493-4644-92d8-42269f7c9ed6"
      },
      "source": [
        "\n",
        "import numpy as np # linear algebra\n",
        "import pandas as pd # data processing, CSV file I/O (e.g. pd.read_csv)\n",
        "\n",
        "# Input data files are available in the read-only \"/content/input/\" directory\n",
        "import os\n",
        "for dirname, _, filenames in os.walk('/content/input'):\n",
        "    for filename in filenames:\n",
        "        print(os.path.join(dirname, filename))"
      ],
      "execution_count": 133,
      "outputs": [
        {
          "output_type": "stream",
          "text": [
            "/content/input/all_prompts.csv\n",
            "/content/input/train.csv\n",
            "/content/input/test.csv\n"
          ],
          "name": "stdout"
        }
      ]
    },
    {
      "cell_type": "code",
      "metadata": {
        "_uuid": "d629ff2d2480ee46fbb7e2d37f6b5fab8052498a",
        "_cell_guid": "79c7e3d0-c299-4dcb-8224-4455121ee9b0",
        "trusted": true,
        "colab": {
          "base_uri": "https://localhost:8080/",
          "height": 206
        },
        "id": "_7N4fCEOuPrv",
        "outputId": "547f7877-a2e8-4ae0-e576-0675bfae8d69"
      },
      "source": [
        "import os\n",
        "import pandas as pd\n",
        "\n",
        "df = pd.read_csv(\"/content/input/train.csv\")\n",
        "y = df['evaluator_rating']\n",
        "df.drop(df.columns[[0]],axis=1, inplace= True)\n",
        "df = df.dropna(axis=1)\n",
        "df.head()"
      ],
      "execution_count": 134,
      "outputs": [
        {
          "output_type": "execute_result",
          "data": {
            "text/html": [
              "<div>\n",
              "<style scoped>\n",
              "    .dataframe tbody tr th:only-of-type {\n",
              "        vertical-align: middle;\n",
              "    }\n",
              "\n",
              "    .dataframe tbody tr th {\n",
              "        vertical-align: top;\n",
              "    }\n",
              "\n",
              "    .dataframe thead th {\n",
              "        text-align: right;\n",
              "    }\n",
              "</style>\n",
              "<table border=\"1\" class=\"dataframe\">\n",
              "  <thead>\n",
              "    <tr style=\"text-align: right;\">\n",
              "      <th></th>\n",
              "      <th>promptId</th>\n",
              "      <th>uniqueId</th>\n",
              "      <th>essay</th>\n",
              "      <th>evaluator_rating</th>\n",
              "    </tr>\n",
              "  </thead>\n",
              "  <tbody>\n",
              "    <tr>\n",
              "      <th>0</th>\n",
              "      <td>1</td>\n",
              "      <td>1_323</td>\n",
              "      <td>At present age, our education system is not go...</td>\n",
              "      <td>3.0</td>\n",
              "    </tr>\n",
              "    <tr>\n",
              "      <th>1</th>\n",
              "      <td>1</td>\n",
              "      <td>1_238</td>\n",
              "      <td>I am agree the tightly defined curriculum of o...</td>\n",
              "      <td>4.0</td>\n",
              "    </tr>\n",
              "    <tr>\n",
              "      <th>2</th>\n",
              "      <td>1</td>\n",
              "      <td>1_212</td>\n",
              "      <td>I strongly agree with the statement that tight...</td>\n",
              "      <td>2.0</td>\n",
              "    </tr>\n",
              "    <tr>\n",
              "      <th>3</th>\n",
              "      <td>1</td>\n",
              "      <td>1_117</td>\n",
              "      <td>Our education system is nice quitely but i dis...</td>\n",
              "      <td>2.0</td>\n",
              "    </tr>\n",
              "    <tr>\n",
              "      <th>4</th>\n",
              "      <td>1</td>\n",
              "      <td>1_229</td>\n",
              "      <td>i am totally agree with the statement that tig...</td>\n",
              "      <td>3.0</td>\n",
              "    </tr>\n",
              "  </tbody>\n",
              "</table>\n",
              "</div>"
            ],
            "text/plain": [
              "   promptId  ... evaluator_rating\n",
              "0         1  ...              3.0\n",
              "1         1  ...              4.0\n",
              "2         1  ...              2.0\n",
              "3         1  ...              2.0\n",
              "4         1  ...              3.0\n",
              "\n",
              "[5 rows x 4 columns]"
            ]
          },
          "metadata": {
            "tags": []
          },
          "execution_count": 134
        }
      ]
    },
    {
      "cell_type": "code",
      "metadata": {
        "trusted": true,
        "colab": {
          "base_uri": "https://localhost:8080/",
          "height": 191
        },
        "id": "IwmiAFo1uPrw",
        "outputId": "4d25aa9c-afe4-4aa3-a48d-50cc7c30ae3e"
      },
      "source": [
        "df['essay'][1]"
      ],
      "execution_count": 135,
      "outputs": [
        {
          "output_type": "execute_result",
          "data": {
            "application/vnd.google.colaboratory.intrinsic+json": {
              "type": "string"
            },
            "text/plain": [
              "\"I am agree the tightly defined curriculum of our education system leaves no room for imagination and creativity.A hidden curriculum can be defined as the lesson that are taught informally,and usually unintentionally in the school and colleges. These include behaviour ,perspectives and attitudes that students pick up while they are at school.This is contrasted with the formal curriculum,such as the courses and activities students participate in,The curriculum began early in the child's education. Students learn to form opinion and ideas about their environment and their classmate.They also learn what is expected of them.These attitudes and ideas are not taught in formal way,but kids absorb them through natural observation and participation in classroom more and more and also participate in social activities.Areas of hidden curriculum in our school that mold perspectives of students deal with issues such as gender,morals,social class,politics and language.Many books and magzine which are related to expected nature at this young age support the idea of today's sepration which are encourage the youths.The importance of boy athletes used to be clear example of hidden curriculum.Student imagination and creativity are also developed by some other activities.Education is the process of facilitating learning,kowledge,skills,belief and habits.Education can take place in formal or informal setting an any experience that has a formative effect on the way one think,feels and acts may be considered educational.Education is more important for every students and children.The influence of this can lead to a negative self image or hatred for reading.These researchers discuss how the student increase the knowledge related to nature and many others areas.Their goal has been to raise the general awareness of hidden education curriculum in our school in order to make education system progressive and accessible to students of all culture ,linguistic and many other areeas which are related to ediucation system.The\""
            ]
          },
          "metadata": {
            "tags": []
          },
          "execution_count": 135
        }
      ]
    },
    {
      "cell_type": "code",
      "metadata": {
        "trusted": true,
        "id": "wURR_fPBJqtl"
      },
      "source": [
        "import warnings\n",
        "warnings.filterwarnings(\"ignore\")                     #Ignoring unnecessory warnings\n",
        "\n",
        "import numpy as np                                  #for large and multi-dimensional arrays\n",
        "import pandas as pd                                 #for data manipulation and analysis\n",
        "import nltk                                         #Natural language processing tool-kit\n",
        "\n",
        "from nltk.corpus import stopwords                   #Stopwords corpus\n",
        "from nltk.stem import PorterStemmer                 # Stemmer\n",
        "\n",
        "from sklearn.feature_extraction.text import CountVectorizer          #For Bag of words\n",
        "from sklearn.feature_extraction.text import TfidfVectorizer          #For TF-IDF\n",
        "from gensim.models import Word2Vec                                   #For Word2Vec\n",
        "\n",
        "from tensorflow.keras.layers import Embedding\n",
        "from tensorflow.keras.preprocessing.sequence import pad_sequences\n",
        "from tensorflow.keras.models import Sequential\n",
        "from tensorflow.keras.preprocessing.text import one_hot\n",
        "from tensorflow.keras.layers import LSTM\n",
        "from tensorflow.keras.layers import Dropout\n",
        "from tensorflow.keras.layers import Dense"
      ],
      "execution_count": 136,
      "outputs": []
    },
    {
      "cell_type": "code",
      "metadata": {
        "colab": {
          "base_uri": "https://localhost:8080/"
        },
        "id": "KshRw69EHWgi",
        "outputId": "08697152-372b-410d-e782-7a06e4711a75"
      },
      "source": [
        "df.shape"
      ],
      "execution_count": 137,
      "outputs": [
        {
          "output_type": "execute_result",
          "data": {
            "text/plain": [
              "(1240, 4)"
            ]
          },
          "metadata": {
            "tags": []
          },
          "execution_count": 137
        }
      ]
    },
    {
      "cell_type": "code",
      "metadata": {
        "trusted": true,
        "id": "nHOZZwL-uPrw"
      },
      "source": [
        "list_1 = []\n",
        "list_2 = []\n",
        "list_3 = []\n",
        "list_4 = []\n",
        "list_5 = []\n",
        "list_6 = []\n",
        "list_7 = []\n",
        "list_8 = []\n",
        "list_9 = []\n",
        "list_10 = []\n",
        "list_11 = []"
      ],
      "execution_count": 138,
      "outputs": []
    },
    {
      "cell_type": "code",
      "metadata": {
        "trusted": true,
        "id": "eERRDkBBuPrx"
      },
      "source": [
        "data = []\n",
        "num = [0,0.5,1,1.5,2,2.5,3,3.5,4,4.5,5]\n",
        "count = 0\n",
        "for i,j in zip(range(len(df)),df[\"essay\"]):\n",
        "    if df[\"evaluator_rating\"][i] == 0:\n",
        "        list_1.append(j)\n",
        "    if df[\"evaluator_rating\"][i] == 0.5:\n",
        "        list_2.append(j)\n",
        "    if df[\"evaluator_rating\"][i] == 1:\n",
        "        list_3.append(j)\n",
        "    if df[\"evaluator_rating\"][i] == 1.5:\n",
        "        list_4.append(j)\n",
        "    if df[\"evaluator_rating\"][i] == 2:\n",
        "        list_5.append(j)\n",
        "    if df[\"evaluator_rating\"][i] == 2.5:\n",
        "        list_6.append(j)\n",
        "    if df[\"evaluator_rating\"][i] == 3:\n",
        "        list_7.append(j)\n",
        "    if df[\"evaluator_rating\"][i] == 3.5:\n",
        "        list_8.append(j)\n",
        "    if df[\"evaluator_rating\"][i] == 4:\n",
        "        list_9.append(j)\n",
        "    if df[\"evaluator_rating\"][i] == 4.5:\n",
        "        list_10.append(j)\n",
        "    if df[\"evaluator_rating\"][i] == 5:\n",
        "        list_11.append(j)\n",
        "   "
      ],
      "execution_count": 139,
      "outputs": []
    },
    {
      "cell_type": "code",
      "metadata": {
        "trusted": true,
        "colab": {
          "base_uri": "https://localhost:8080/"
        },
        "id": "2NXxJztQuPrx",
        "outputId": "e335b2f0-1753-4121-97ab-bc9045e05a18"
      },
      "source": [
        "import itertools\n",
        "data = list(itertools.chain(list_1,list_2,list_3,list_4,list_5,list_6,list_7,list_8,list_9,list_10,list_11))\n",
        "len(data)"
      ],
      "execution_count": 140,
      "outputs": [
        {
          "output_type": "execute_result",
          "data": {
            "text/plain": [
              "1240"
            ]
          },
          "metadata": {
            "tags": []
          },
          "execution_count": 140
        }
      ]
    },
    {
      "cell_type": "code",
      "metadata": {
        "trusted": true,
        "id": "cKK9-HOcuPry"
      },
      "source": [
        "def gen_num(num,length):\n",
        "    num_list = [num]*length\n",
        "    return num_list"
      ],
      "execution_count": 141,
      "outputs": []
    },
    {
      "cell_type": "code",
      "metadata": {
        "trusted": true,
        "colab": {
          "base_uri": "https://localhost:8080/"
        },
        "id": "d7lQC5SduPry",
        "outputId": "32d28750-99b7-4072-e5e4-b095b0735b39"
      },
      "source": [
        "score_1 = gen_num(0,len(list_1))\n",
        "score_2 = gen_num(0.5,len(list_2))\n",
        "score_3 = gen_num(1,len(list_3))\n",
        "score_4 = gen_num(1.5,len(list_4))\n",
        "score_5 = gen_num(2,len(list_5))\n",
        "score_6 = gen_num(2.5,len(list_6))\n",
        "score_7 = gen_num(3,len(list_7))\n",
        "score_8 = gen_num(3.5,len(list_8))\n",
        "score_9 = gen_num(4,len(list_9))\n",
        "score_10 = gen_num(4.5,len(list_10))\n",
        "score_11 = gen_num(5,len(list_11))\n",
        "\n",
        "score = list(itertools.chain(score_1,score_2,score_3,score_4,score_5,score_6,score_7,score_8,score_9,score_10,score_11))\n",
        "len(score)\n"
      ],
      "execution_count": 142,
      "outputs": [
        {
          "output_type": "execute_result",
          "data": {
            "text/plain": [
              "1240"
            ]
          },
          "metadata": {
            "tags": []
          },
          "execution_count": 142
        }
      ]
    },
    {
      "cell_type": "code",
      "metadata": {
        "trusted": true,
        "colab": {
          "base_uri": "https://localhost:8080/",
          "height": 423
        },
        "id": "GHyGUqxxuPry",
        "outputId": "3ad10935-0ec8-4f92-ebd9-1969681c32cf"
      },
      "source": [
        "# dictionary of lists \n",
        "dictnary = {'essay': data, 'score': score}     \n",
        "df = pd.DataFrame(dictnary) \n",
        "df "
      ],
      "execution_count": 143,
      "outputs": [
        {
          "output_type": "execute_result",
          "data": {
            "text/html": [
              "<div>\n",
              "<style scoped>\n",
              "    .dataframe tbody tr th:only-of-type {\n",
              "        vertical-align: middle;\n",
              "    }\n",
              "\n",
              "    .dataframe tbody tr th {\n",
              "        vertical-align: top;\n",
              "    }\n",
              "\n",
              "    .dataframe thead th {\n",
              "        text-align: right;\n",
              "    }\n",
              "</style>\n",
              "<table border=\"1\" class=\"dataframe\">\n",
              "  <thead>\n",
              "    <tr style=\"text-align: right;\">\n",
              "      <th></th>\n",
              "      <th>essay</th>\n",
              "      <th>score</th>\n",
              "    </tr>\n",
              "  </thead>\n",
              "  <tbody>\n",
              "    <tr>\n",
              "      <th>0</th>\n",
              "      <td>Education is the most important part of our li...</td>\n",
              "      <td>0.0</td>\n",
              "    </tr>\n",
              "    <tr>\n",
              "      <th>1</th>\n",
              "      <td>Our education inindia was good,but not that mu...</td>\n",
              "      <td>0.0</td>\n",
              "    </tr>\n",
              "    <tr>\n",
              "      <th>2</th>\n",
              "      <td>Education is very important in each and every ...</td>\n",
              "      <td>0.0</td>\n",
              "    </tr>\n",
              "    <tr>\n",
              "      <th>3</th>\n",
              "      <td>education system is the most important for us ...</td>\n",
              "      <td>0.0</td>\n",
              "    </tr>\n",
              "    <tr>\n",
              "      <th>4</th>\n",
              "      <td>today's eduction system is very bad due to res...</td>\n",
              "      <td>0.0</td>\n",
              "    </tr>\n",
              "    <tr>\n",
              "      <th>...</th>\n",
              "      <td>...</td>\n",
              "      <td>...</td>\n",
              "    </tr>\n",
              "    <tr>\n",
              "      <th>1235</th>\n",
              "      <td>Imagination is the mother of invention and wit...</td>\n",
              "      <td>5.0</td>\n",
              "    </tr>\n",
              "    <tr>\n",
              "      <th>1236</th>\n",
              "      <td>Just learning a text-book by heart and getting...</td>\n",
              "      <td>5.0</td>\n",
              "    </tr>\n",
              "    <tr>\n",
              "      <th>1237</th>\n",
              "      <td>YES I AGREE WITH THIS STATEMENT THAT THE TIGHT...</td>\n",
              "      <td>5.0</td>\n",
              "    </tr>\n",
              "    <tr>\n",
              "      <th>1238</th>\n",
              "      <td>I speak about education from an unflattering p...</td>\n",
              "      <td>5.0</td>\n",
              "    </tr>\n",
              "    <tr>\n",
              "      <th>1239</th>\n",
              "      <td>Yes, it is true that the gap between rich and ...</td>\n",
              "      <td>5.0</td>\n",
              "    </tr>\n",
              "  </tbody>\n",
              "</table>\n",
              "<p>1240 rows × 2 columns</p>\n",
              "</div>"
            ],
            "text/plain": [
              "                                                  essay  score\n",
              "0     Education is the most important part of our li...    0.0\n",
              "1     Our education inindia was good,but not that mu...    0.0\n",
              "2     Education is very important in each and every ...    0.0\n",
              "3     education system is the most important for us ...    0.0\n",
              "4     today's eduction system is very bad due to res...    0.0\n",
              "...                                                 ...    ...\n",
              "1235  Imagination is the mother of invention and wit...    5.0\n",
              "1236  Just learning a text-book by heart and getting...    5.0\n",
              "1237  YES I AGREE WITH THIS STATEMENT THAT THE TIGHT...    5.0\n",
              "1238  I speak about education from an unflattering p...    5.0\n",
              "1239  Yes, it is true that the gap between rich and ...    5.0\n",
              "\n",
              "[1240 rows x 2 columns]"
            ]
          },
          "metadata": {
            "tags": []
          },
          "execution_count": 143
        }
      ]
    },
    {
      "cell_type": "code",
      "metadata": {
        "trusted": true,
        "colab": {
          "base_uri": "https://localhost:8080/"
        },
        "id": "HCuO0CpRuPrz",
        "outputId": "a22a2328-e718-45fa-e06b-298b10ebd35a"
      },
      "source": [
        "nltk.download('stopwords')"
      ],
      "execution_count": 144,
      "outputs": [
        {
          "output_type": "stream",
          "text": [
            "[nltk_data] Downloading package stopwords to /root/nltk_data...\n",
            "[nltk_data]   Package stopwords is already up-to-date!\n"
          ],
          "name": "stdout"
        },
        {
          "output_type": "execute_result",
          "data": {
            "text/plain": [
              "True"
            ]
          },
          "metadata": {
            "tags": []
          },
          "execution_count": 144
        }
      ]
    },
    {
      "cell_type": "code",
      "metadata": {
        "trusted": true,
        "colab": {
          "base_uri": "https://localhost:8080/"
        },
        "id": "QsCHybZvuPrz",
        "outputId": "7d194927-a57a-4a46-a4bc-127ac103412b"
      },
      "source": [
        "stop_words = set(stopwords.words('english'))\n",
        "len(stop_words) #finding stop words"
      ],
      "execution_count": 145,
      "outputs": [
        {
          "output_type": "execute_result",
          "data": {
            "text/plain": [
              "179"
            ]
          },
          "metadata": {
            "tags": []
          },
          "execution_count": 145
        }
      ]
    },
    {
      "cell_type": "code",
      "metadata": {
        "trusted": true,
        "id": "CbXLMSjsuPrz"
      },
      "source": [
        "import re\n",
        "from nltk.corpus import stopwords\n",
        "from nltk.stem.porter import PorterStemmer\n",
        "snow = nltk.stem.SnowballStemmer('english')\n",
        "\n",
        "corpus = []\n",
        "for i in range(0, len(df)):\n",
        "    review = re.sub('[^a-zA-Z]', ' ', df['essay'][i])\n",
        "    review = review.lower()\n",
        "    review = review.split()\n",
        "    review = [snow.stem(word) for word in review if not word in stopwords.words('english')]\n",
        "    review = ' '.join(review)\n",
        "    corpus.append(review)"
      ],
      "execution_count": 146,
      "outputs": []
    },
    {
      "cell_type": "code",
      "metadata": {
        "colab": {
          "base_uri": "https://localhost:8080/"
        },
        "id": "Kaqc764RuPrz",
        "outputId": "7f7a79d3-0679-465f-905a-4551fd743273"
      },
      "source": [
        "voc_size=5000\n",
        "onehot_repr=[one_hot(words,voc_size)for words in corpus] \n",
        "type(onehot_repr)"
      ],
      "execution_count": 147,
      "outputs": [
        {
          "output_type": "execute_result",
          "data": {
            "text/plain": [
              "list"
            ]
          },
          "metadata": {
            "tags": []
          },
          "execution_count": 147
        }
      ]
    },
    {
      "cell_type": "code",
      "metadata": {
        "colab": {
          "base_uri": "https://localhost:8080/"
        },
        "id": "3dHeKBBtuPr0",
        "outputId": "dc8c2796-d371-4af4-ffa7-7e2a3910d4a2"
      },
      "source": [
        "sent_length=500\n",
        "embedded_docs=pad_sequences(onehot_repr,padding='pre',maxlen=sent_length)\n",
        "print(embedded_docs)"
      ],
      "execution_count": 148,
      "outputs": [
        {
          "output_type": "stream",
          "text": [
            "[[   0    0    0 ... 3456  844 2884]\n",
            " [   0    0    0 ... 3846 1241 3255]\n",
            " [   0    0    0 ... 4853 1505 1888]\n",
            " ...\n",
            " [   0    0    0 ... 4912 1729 1505]\n",
            " [   0    0    0 ... 2530 1549 2686]\n",
            " [   0    0    0 ... 3125 1991 3218]]\n"
          ],
          "name": "stdout"
        }
      ]
    },
    {
      "cell_type": "code",
      "metadata": {
        "id": "2gD0YIxduPr0",
        "colab": {
          "base_uri": "https://localhost:8080/"
        },
        "outputId": "b6ef53b9-0bfb-4bff-9994-d637800efa3b"
      },
      "source": [
        "df.shape"
      ],
      "execution_count": 149,
      "outputs": [
        {
          "output_type": "execute_result",
          "data": {
            "text/plain": [
              "(1240, 2)"
            ]
          },
          "metadata": {
            "tags": []
          },
          "execution_count": 149
        }
      ]
    },
    {
      "cell_type": "markdown",
      "metadata": {
        "id": "OP5wlAWkP96d"
      },
      "source": [
        "Feature Extraction Functions and conversion of them into Vector form so that we could feed our model into deep learning module"
      ]
    },
    {
      "cell_type": "code",
      "metadata": {
        "trusted": true,
        "id": "7lpd9iD3uPr0"
      },
      "source": [
        "import numpy as np\n",
        "import nltk\n",
        "import re\n",
        "from nltk.corpus import stopwords\n",
        "from gensim.models import Word2Vec\n",
        "\n",
        "def essay_to_wordlist(essay_v, remove_stopwords):\n",
        "    \"\"\"Remove the tagged labels and word tokenize the sentence.\"\"\"\n",
        "    essay_v = re.sub(\"[^a-zA-Z]\", \" \", essay_v)\n",
        "    words = essay_v.lower().split()\n",
        "    if remove_stopwords:\n",
        "        stops = set(stopwords.words(\"english\"))\n",
        "        words = [w for w in words if not w in stops]\n",
        "    return (words)\n",
        "\n",
        "def essay_to_sentences(essay_v, remove_stopwords):\n",
        "    \"\"\"Sentence tokenize the essay and call essay_to_wordlist() for word tokenization.\"\"\"\n",
        "    tokenizer = nltk.data.load('tokenizers/punkt/english.pickle')\n",
        "    raw_sentences = tokenizer.tokenize(essay_v.strip())\n",
        "    sentences = []\n",
        "    for raw_sentence in raw_sentences:\n",
        "        if len(raw_sentence) > 0:\n",
        "            sentences.append(essay_to_wordlist(raw_sentence, remove_stopwords))\n",
        "    return sentences\n",
        "\n",
        "def makeFeatureVec(words, model, num_features):\n",
        "    \"\"\"Make Feature Vector from the words list of an Essay.\"\"\"\n",
        "    featureVec = np.zeros((num_features,),dtype=\"float32\")\n",
        "    num_words = 0.\n",
        "    index2word_set = set(model.wv.index2word)\n",
        "    for word in words:\n",
        "        if word in index2word_set:\n",
        "            num_words += 1\n",
        "            featureVec = np.add(featureVec,model[word])        \n",
        "    featureVec = np.divide(featureVec,num_words)\n",
        "    return featureVec\n",
        "\n",
        "def getAvgFeatureVecs(essays, model, num_features):\n",
        "    \"\"\"Main function to generate the word vectors for word2vec model.\"\"\"\n",
        "    counter = 0\n",
        "    essayFeatureVecs = np.zeros((len(essays),num_features),dtype=\"float32\")\n",
        "    for essay in essays:\n",
        "        essayFeatureVecs[counter] = makeFeatureVec(essay, model, num_features)\n",
        "        counter = counter + 1\n",
        "    return essayFeatureVecs"
      ],
      "execution_count": 150,
      "outputs": []
    },
    {
      "cell_type": "code",
      "metadata": {
        "trusted": true,
        "colab": {
          "base_uri": "https://localhost:8080/"
        },
        "id": "AcDMEI0puPr1",
        "outputId": "08f89198-c021-44b7-8031-edbf19891efc"
      },
      "source": [
        "import nltk\n",
        "\n",
        "nltk.download('stopwords')"
      ],
      "execution_count": 151,
      "outputs": [
        {
          "output_type": "stream",
          "text": [
            "[nltk_data] Downloading package stopwords to /root/nltk_data...\n",
            "[nltk_data]   Package stopwords is already up-to-date!\n"
          ],
          "name": "stdout"
        },
        {
          "output_type": "execute_result",
          "data": {
            "text/plain": [
              "True"
            ]
          },
          "metadata": {
            "tags": []
          },
          "execution_count": 151
        }
      ]
    },
    {
      "cell_type": "code",
      "metadata": {
        "trusted": true,
        "id": "P4t59QDfuPr1"
      },
      "source": [
        "from keras.layers import Embedding, LSTM, Dense, Dropout, Lambda, Flatten\n",
        "from keras.models import Sequential, load_model, model_from_config\n",
        "import keras.backend as K\n",
        "\n",
        "def get_model():\n",
        "    \"\"\"Define the model.\"\"\"\n",
        "    model = Sequential()\n",
        "    model.add(LSTM(300, dropout=0.4, recurrent_dropout=0.4, input_shape=[1, 300], return_sequences=True))\n",
        "    model.add(LSTM(64, recurrent_dropout=0.4))\n",
        "    model.add(Dropout(0.5))\n",
        "    model.add(Dense(1, activation='relu'))\n",
        "\n",
        "    model.compile(loss='mean_squared_error', optimizer='rmsprop', metrics=['accuracy','mae'])\n",
        "    model.summary()\n",
        "\n",
        "    return model"
      ],
      "execution_count": 152,
      "outputs": []
    },
    {
      "cell_type": "code",
      "metadata": {
        "trusted": true,
        "id": "4r6KuH2vuPr1"
      },
      "source": [
        "y = df['score']"
      ],
      "execution_count": 153,
      "outputs": []
    },
    {
      "cell_type": "code",
      "metadata": {
        "colab": {
          "base_uri": "https://localhost:8080/"
        },
        "id": "gCU3sGKh0N9J",
        "outputId": "a3303ce3-bbba-4459-bc32-1a3a0ce86d9f"
      },
      "source": [
        "nltk.download('punkt')"
      ],
      "execution_count": 154,
      "outputs": [
        {
          "output_type": "stream",
          "text": [
            "[nltk_data] Downloading package punkt to /root/nltk_data...\n",
            "[nltk_data]   Package punkt is already up-to-date!\n"
          ],
          "name": "stdout"
        },
        {
          "output_type": "execute_result",
          "data": {
            "text/plain": [
              "True"
            ]
          },
          "metadata": {
            "tags": []
          },
          "execution_count": 154
        }
      ]
    },
    {
      "cell_type": "code",
      "metadata": {
        "colab": {
          "base_uri": "https://localhost:8080/"
        },
        "id": "tZU4gLAOWwiW",
        "outputId": "a9bf1f3d-26dd-4ce9-d7d0-c2f94874b5ea"
      },
      "source": [
        "df.shape"
      ],
      "execution_count": 155,
      "outputs": [
        {
          "output_type": "execute_result",
          "data": {
            "text/plain": [
              "(1240, 2)"
            ]
          },
          "metadata": {
            "tags": []
          },
          "execution_count": 155
        }
      ]
    },
    {
      "cell_type": "code",
      "metadata": {
        "trusted": true,
        "colab": {
          "base_uri": "https://localhost:8080/"
        },
        "id": "jdBL98GwuPr2",
        "outputId": "678c2d33-ace5-438b-bed0-b011a1cc34e4"
      },
      "source": [
        "from sklearn.model_selection import KFold\n",
        "from sklearn.linear_model import LinearRegression\n",
        "from sklearn.metrics import r2_score\n",
        "from sklearn.metrics import max_error\n",
        "cv = KFold(n_splits = 6, random_state=1, shuffle = True)\n",
        "results = []\n",
        "y_pred_list = []\n",
        "\n",
        "count = 1\n",
        "for traincv, testcv in cv.split(df):\n",
        "    print(\"\\n--------Fold {}--------\\n\".format(count))\n",
        "    df_test, df_train, y_test, y_train = df.iloc[testcv], df.iloc[traincv], y.iloc[testcv], y.iloc[traincv]\n",
        "    \n",
        "    train_essays = df_train['essay']\n",
        "    test_essays = df_test['essay']\n",
        "    \n",
        "    sentences = []\n",
        "    \n",
        "    for essay in train_essays:\n",
        "            # Obtaining all sentences from the training essays.\n",
        "            sentences += essay_to_sentences(essay, remove_stopwords = True)\n",
        "            \n",
        "    # Initializing variables for word2vec model.\n",
        "    num_features = 300 \n",
        "    min_word_count = 40\n",
        "    num_workers = 4\n",
        "    context = 10\n",
        "    downsampling = 1e-3\n",
        "\n",
        "    print(\"Training Word2Vec Model...\")\n",
        "    model = Word2Vec(sentences, workers=num_workers, size=num_features, min_count = min_word_count, window = context, sample = downsampling)\n",
        "\n",
        "    model.init_sims(replace=True)\n",
        "    model.wv.save_word2vec_format('word2vecmodel.bin', binary=True)\n",
        "\n",
        "    clean_train_essays = []\n",
        "    \n",
        "    # Generate training and testing data word vectors.\n",
        "    for essay_v in train_essays:\n",
        "        clean_train_essays.append(essay_to_wordlist(essay_v, remove_stopwords=True))\n",
        "    trainDataVecs = getAvgFeatureVecs(clean_train_essays, model, num_features)\n",
        "    \n",
        "    clean_test_essays = []\n",
        "    for essay_v in test_essays:\n",
        "        clean_test_essays.append(essay_to_wordlist( essay_v, remove_stopwords=True ))\n",
        "    testDataVecs = getAvgFeatureVecs( clean_test_essays, model, num_features )\n",
        "    \n",
        "    trainDataVecs = np.array(trainDataVecs)\n",
        "    testDataVecs = np.array(testDataVecs)\n",
        "    # Reshaping train and test vectors to 3 dimensions. (1 represnts one timestep)\n",
        "    trainDataVecs = np.reshape(trainDataVecs, (trainDataVecs.shape[0], 1, trainDataVecs.shape[1]))\n",
        "    testDataVecs = np.reshape(testDataVecs, (testDataVecs.shape[0], 1, testDataVecs.shape[1]))\n",
        "    \n",
        "    lstm_model = get_model()\n",
        "    lstm_model.fit(trainDataVecs, y_train, batch_size=64, epochs= 50)\n",
        "    #lstm_model.load_weights('./model_weights/final_lstm.h5')\n",
        "    y_pred = lstm_model.predict(testDataVecs)\n",
        "    \n",
        "    # Save any one of the 5 models.\n",
        "    if count == 5:\n",
        "         lstm_model.save('./final_lstm.h5')\n",
        "    \n",
        "    # Round y_pred to the nearest integer.\n",
        "    y_pred = np.around(y_pred)\n",
        "    \n",
        "    # Evaluate the model on the evaluation metric. \"Since This is an Regression Problem we will be using R2_Score\"\n",
        "    from sklearn.metrics import max_error\n",
        "    result = r2_score(y_test.values, y_pred, multioutput='variance_weighted')\n",
        "    acc = max_error(y_test.values,y_pred)\n",
        "    print(\"acc Score: {}\".format(acc))\n",
        "    print(\"R2 Score: {}\".format(result))\n",
        "    results.append(result)\n",
        "\n",
        "    count += 1\n"
      ],
      "execution_count": 156,
      "outputs": [
        {
          "output_type": "stream",
          "text": [
            "\n",
            "--------Fold 1--------\n",
            "\n",
            "Training Word2Vec Model...\n",
            "Model: \"sequential_12\"\n",
            "_________________________________________________________________\n",
            "Layer (type)                 Output Shape              Param #   \n",
            "=================================================================\n",
            "lstm_24 (LSTM)               (None, 1, 300)            721200    \n",
            "_________________________________________________________________\n",
            "lstm_25 (LSTM)               (None, 64)                93440     \n",
            "_________________________________________________________________\n",
            "dropout_12 (Dropout)         (None, 64)                0         \n",
            "_________________________________________________________________\n",
            "dense_12 (Dense)             (None, 1)                 65        \n",
            "=================================================================\n",
            "Total params: 814,705\n",
            "Trainable params: 814,705\n",
            "Non-trainable params: 0\n",
            "_________________________________________________________________\n",
            "Epoch 1/50\n",
            "17/17 [==============================] - 8s 29ms/step - loss: 6.1025 - accuracy: 0.0514 - mae: 2.2229\n",
            "Epoch 2/50\n",
            "17/17 [==============================] - 1s 30ms/step - loss: 1.2716 - accuracy: 0.0226 - mae: 0.8477\n",
            "Epoch 3/50\n",
            "17/17 [==============================] - 1s 31ms/step - loss: 1.2836 - accuracy: 0.0223 - mae: 0.8865\n",
            "Epoch 4/50\n",
            "17/17 [==============================] - 1s 31ms/step - loss: 1.2396 - accuracy: 0.0253 - mae: 0.8506\n",
            "Epoch 5/50\n",
            "17/17 [==============================] - 1s 31ms/step - loss: 1.1853 - accuracy: 0.0324 - mae: 0.8244\n",
            "Epoch 6/50\n",
            "17/17 [==============================] - 0s 29ms/step - loss: 1.3641 - accuracy: 0.0165 - mae: 0.9181\n",
            "Epoch 7/50\n",
            "17/17 [==============================] - 1s 30ms/step - loss: 1.2286 - accuracy: 0.0210 - mae: 0.8328\n",
            "Epoch 8/50\n",
            "17/17 [==============================] - 1s 30ms/step - loss: 1.1935 - accuracy: 0.0163 - mae: 0.8126\n",
            "Epoch 9/50\n",
            "17/17 [==============================] - 1s 30ms/step - loss: 1.3454 - accuracy: 0.0238 - mae: 0.8741\n",
            "Epoch 10/50\n",
            "17/17 [==============================] - 1s 30ms/step - loss: 1.2520 - accuracy: 0.0237 - mae: 0.8546\n",
            "Epoch 11/50\n",
            "17/17 [==============================] - 1s 30ms/step - loss: 1.1720 - accuracy: 0.0285 - mae: 0.8193\n",
            "Epoch 12/50\n",
            "17/17 [==============================] - 1s 30ms/step - loss: 1.1630 - accuracy: 0.0148 - mae: 0.8128\n",
            "Epoch 13/50\n",
            "17/17 [==============================] - 1s 30ms/step - loss: 1.3209 - accuracy: 0.0237 - mae: 0.8849\n",
            "Epoch 14/50\n",
            "17/17 [==============================] - 0s 29ms/step - loss: 1.1513 - accuracy: 0.0272 - mae: 0.8139\n",
            "Epoch 15/50\n",
            "17/17 [==============================] - 1s 30ms/step - loss: 1.2185 - accuracy: 0.0207 - mae: 0.8334\n",
            "Epoch 16/50\n",
            "17/17 [==============================] - 0s 29ms/step - loss: 1.1891 - accuracy: 0.0246 - mae: 0.8338\n",
            "Epoch 17/50\n",
            "17/17 [==============================] - 1s 30ms/step - loss: 1.2483 - accuracy: 0.0255 - mae: 0.8628\n",
            "Epoch 18/50\n",
            "17/17 [==============================] - 1s 30ms/step - loss: 1.2746 - accuracy: 0.0245 - mae: 0.8528\n",
            "Epoch 19/50\n",
            "17/17 [==============================] - 1s 30ms/step - loss: 1.2347 - accuracy: 0.0240 - mae: 0.8301\n",
            "Epoch 20/50\n",
            "17/17 [==============================] - 0s 29ms/step - loss: 1.1635 - accuracy: 0.0342 - mae: 0.8112\n",
            "Epoch 21/50\n",
            "17/17 [==============================] - 1s 29ms/step - loss: 1.1847 - accuracy: 0.0231 - mae: 0.8278\n",
            "Epoch 22/50\n",
            "17/17 [==============================] - 0s 29ms/step - loss: 1.2091 - accuracy: 0.0201 - mae: 0.8510\n",
            "Epoch 23/50\n",
            "17/17 [==============================] - 1s 29ms/step - loss: 1.2560 - accuracy: 0.0266 - mae: 0.8478\n",
            "Epoch 24/50\n",
            "17/17 [==============================] - 1s 32ms/step - loss: 1.1329 - accuracy: 0.0191 - mae: 0.8082\n",
            "Epoch 25/50\n",
            "17/17 [==============================] - 1s 29ms/step - loss: 1.1293 - accuracy: 0.0203 - mae: 0.8021\n",
            "Epoch 26/50\n",
            "17/17 [==============================] - 1s 29ms/step - loss: 1.2606 - accuracy: 0.0250 - mae: 0.8585\n",
            "Epoch 27/50\n",
            "17/17 [==============================] - 1s 30ms/step - loss: 1.3019 - accuracy: 0.0217 - mae: 0.8505\n",
            "Epoch 28/50\n",
            "17/17 [==============================] - 1s 29ms/step - loss: 1.2867 - accuracy: 0.0250 - mae: 0.8590\n",
            "Epoch 29/50\n",
            "17/17 [==============================] - 1s 31ms/step - loss: 1.2172 - accuracy: 0.0256 - mae: 0.8417\n",
            "Epoch 30/50\n",
            "17/17 [==============================] - 1s 29ms/step - loss: 1.2390 - accuracy: 0.0203 - mae: 0.8425\n",
            "Epoch 31/50\n",
            "17/17 [==============================] - 1s 30ms/step - loss: 1.2952 - accuracy: 0.0335 - mae: 0.8460\n",
            "Epoch 32/50\n",
            "17/17 [==============================] - 1s 29ms/step - loss: 1.1630 - accuracy: 0.0232 - mae: 0.8229\n",
            "Epoch 33/50\n",
            "17/17 [==============================] - 1s 29ms/step - loss: 1.1934 - accuracy: 0.0198 - mae: 0.8159\n",
            "Epoch 34/50\n",
            "17/17 [==============================] - 1s 30ms/step - loss: 1.3133 - accuracy: 0.0197 - mae: 0.8522\n",
            "Epoch 35/50\n",
            "17/17 [==============================] - 1s 29ms/step - loss: 1.2011 - accuracy: 0.0176 - mae: 0.8238\n",
            "Epoch 36/50\n",
            "17/17 [==============================] - 1s 30ms/step - loss: 1.1982 - accuracy: 0.0228 - mae: 0.8290\n",
            "Epoch 37/50\n",
            "17/17 [==============================] - 1s 30ms/step - loss: 1.2162 - accuracy: 0.0185 - mae: 0.8285\n",
            "Epoch 38/50\n",
            "17/17 [==============================] - 1s 30ms/step - loss: 1.2887 - accuracy: 0.0237 - mae: 0.8617\n",
            "Epoch 39/50\n",
            "17/17 [==============================] - 0s 28ms/step - loss: 1.2701 - accuracy: 0.0290 - mae: 0.8676\n",
            "Epoch 40/50\n",
            "17/17 [==============================] - 1s 30ms/step - loss: 1.1589 - accuracy: 0.0227 - mae: 0.8262\n",
            "Epoch 41/50\n",
            "17/17 [==============================] - 1s 30ms/step - loss: 1.2863 - accuracy: 0.0213 - mae: 0.8517\n",
            "Epoch 42/50\n",
            "17/17 [==============================] - 1s 30ms/step - loss: 1.1410 - accuracy: 0.0302 - mae: 0.8089\n",
            "Epoch 43/50\n",
            "17/17 [==============================] - 1s 29ms/step - loss: 1.2260 - accuracy: 0.0230 - mae: 0.8314\n",
            "Epoch 44/50\n",
            "17/17 [==============================] - 1s 31ms/step - loss: 1.2008 - accuracy: 0.0238 - mae: 0.8201\n",
            "Epoch 45/50\n",
            "17/17 [==============================] - 1s 32ms/step - loss: 1.1460 - accuracy: 0.0240 - mae: 0.7934\n",
            "Epoch 46/50\n",
            "17/17 [==============================] - 1s 30ms/step - loss: 1.1426 - accuracy: 0.0194 - mae: 0.8196\n",
            "Epoch 47/50\n",
            "17/17 [==============================] - 1s 30ms/step - loss: 1.2124 - accuracy: 0.0192 - mae: 0.8331\n",
            "Epoch 48/50\n",
            "17/17 [==============================] - 1s 30ms/step - loss: 1.2307 - accuracy: 0.0258 - mae: 0.8357\n",
            "Epoch 49/50\n",
            "17/17 [==============================] - 1s 29ms/step - loss: 1.2069 - accuracy: 0.0289 - mae: 0.8357\n",
            "Epoch 50/50\n",
            "17/17 [==============================] - 1s 30ms/step - loss: 1.2368 - accuracy: 0.0187 - mae: 0.8547\n",
            "acc Score: 3.0\n",
            "R2 Score: -0.07412823397075408\n",
            "\n",
            "--------Fold 2--------\n",
            "\n",
            "Training Word2Vec Model...\n",
            "Model: \"sequential_13\"\n",
            "_________________________________________________________________\n",
            "Layer (type)                 Output Shape              Param #   \n",
            "=================================================================\n",
            "lstm_26 (LSTM)               (None, 1, 300)            721200    \n",
            "_________________________________________________________________\n",
            "lstm_27 (LSTM)               (None, 64)                93440     \n",
            "_________________________________________________________________\n",
            "dropout_13 (Dropout)         (None, 64)                0         \n",
            "_________________________________________________________________\n",
            "dense_13 (Dense)             (None, 1)                 65        \n",
            "=================================================================\n",
            "Total params: 814,705\n",
            "Trainable params: 814,705\n",
            "Non-trainable params: 0\n",
            "_________________________________________________________________\n",
            "Epoch 1/50\n",
            "17/17 [==============================] - 10s 30ms/step - loss: 6.0329 - accuracy: 0.0731 - mae: 2.1828\n",
            "Epoch 2/50\n",
            "17/17 [==============================] - 1s 29ms/step - loss: 1.1765 - accuracy: 0.0274 - mae: 0.8318\n",
            "Epoch 3/50\n",
            "17/17 [==============================] - 1s 31ms/step - loss: 1.1907 - accuracy: 0.0251 - mae: 0.8384\n",
            "Epoch 4/50\n",
            "17/17 [==============================] - 1s 31ms/step - loss: 1.2791 - accuracy: 0.0239 - mae: 0.8557\n",
            "Epoch 5/50\n",
            "17/17 [==============================] - 1s 30ms/step - loss: 1.2879 - accuracy: 0.0354 - mae: 0.8660\n",
            "Epoch 6/50\n",
            "17/17 [==============================] - 1s 30ms/step - loss: 1.1646 - accuracy: 0.0339 - mae: 0.8249\n",
            "Epoch 7/50\n",
            "17/17 [==============================] - 1s 30ms/step - loss: 1.2421 - accuracy: 0.0301 - mae: 0.8603\n",
            "Epoch 8/50\n",
            "17/17 [==============================] - 1s 32ms/step - loss: 1.2842 - accuracy: 0.0258 - mae: 0.8928\n",
            "Epoch 9/50\n",
            "17/17 [==============================] - 1s 31ms/step - loss: 1.4110 - accuracy: 0.0322 - mae: 0.8979\n",
            "Epoch 10/50\n",
            "17/17 [==============================] - 1s 31ms/step - loss: 1.2901 - accuracy: 0.0299 - mae: 0.8464\n",
            "Epoch 11/50\n",
            "17/17 [==============================] - 1s 30ms/step - loss: 1.2522 - accuracy: 0.0220 - mae: 0.8471\n",
            "Epoch 12/50\n",
            "17/17 [==============================] - 1s 30ms/step - loss: 1.2933 - accuracy: 0.0238 - mae: 0.8850\n",
            "Epoch 13/50\n",
            "17/17 [==============================] - 1s 31ms/step - loss: 1.2275 - accuracy: 0.0279 - mae: 0.8341\n",
            "Epoch 14/50\n",
            "17/17 [==============================] - 1s 30ms/step - loss: 1.2230 - accuracy: 0.0229 - mae: 0.8308\n",
            "Epoch 15/50\n",
            "17/17 [==============================] - 1s 31ms/step - loss: 1.3740 - accuracy: 0.0290 - mae: 0.9075\n",
            "Epoch 16/50\n",
            "17/17 [==============================] - 1s 31ms/step - loss: 1.2512 - accuracy: 0.0363 - mae: 0.8536\n",
            "Epoch 17/50\n",
            "17/17 [==============================] - 1s 31ms/step - loss: 1.1934 - accuracy: 0.0235 - mae: 0.8416\n",
            "Epoch 18/50\n",
            "17/17 [==============================] - 1s 32ms/step - loss: 1.1656 - accuracy: 0.0261 - mae: 0.8302\n",
            "Epoch 19/50\n",
            "17/17 [==============================] - 1s 32ms/step - loss: 1.1703 - accuracy: 0.0238 - mae: 0.8109\n",
            "Epoch 20/50\n",
            "17/17 [==============================] - 1s 30ms/step - loss: 1.2843 - accuracy: 0.0264 - mae: 0.8653\n",
            "Epoch 21/50\n",
            "17/17 [==============================] - 1s 31ms/step - loss: 1.2972 - accuracy: 0.0225 - mae: 0.8603\n",
            "Epoch 22/50\n",
            "17/17 [==============================] - 1s 31ms/step - loss: 1.3367 - accuracy: 0.0324 - mae: 0.8867\n",
            "Epoch 23/50\n",
            "17/17 [==============================] - 1s 30ms/step - loss: 1.2513 - accuracy: 0.0339 - mae: 0.8722\n",
            "Epoch 24/50\n",
            "17/17 [==============================] - 0s 26ms/step - loss: 1.2401 - accuracy: 0.0245 - mae: 0.8460\n",
            "Epoch 25/50\n",
            "17/17 [==============================] - 0s 24ms/step - loss: 1.2249 - accuracy: 0.0246 - mae: 0.8398\n",
            "Epoch 26/50\n",
            "17/17 [==============================] - 0s 28ms/step - loss: 1.2685 - accuracy: 0.0276 - mae: 0.8302\n",
            "Epoch 27/50\n",
            "17/17 [==============================] - 1s 31ms/step - loss: 1.3243 - accuracy: 0.0294 - mae: 0.8951\n",
            "Epoch 28/50\n",
            "17/17 [==============================] - 1s 31ms/step - loss: 1.2461 - accuracy: 0.0250 - mae: 0.8566\n",
            "Epoch 29/50\n",
            "17/17 [==============================] - 1s 30ms/step - loss: 1.2208 - accuracy: 0.0275 - mae: 0.8459\n",
            "Epoch 30/50\n",
            "17/17 [==============================] - 1s 32ms/step - loss: 1.2160 - accuracy: 0.0190 - mae: 0.8357\n",
            "Epoch 31/50\n",
            "17/17 [==============================] - 1s 30ms/step - loss: 1.1683 - accuracy: 0.0274 - mae: 0.8173\n",
            "Epoch 32/50\n",
            "17/17 [==============================] - 1s 31ms/step - loss: 1.2595 - accuracy: 0.0354 - mae: 0.8516\n",
            "Epoch 33/50\n",
            "17/17 [==============================] - 1s 30ms/step - loss: 1.1964 - accuracy: 0.0270 - mae: 0.8114\n",
            "Epoch 34/50\n",
            "17/17 [==============================] - 0s 27ms/step - loss: 1.1692 - accuracy: 0.0196 - mae: 0.7773\n",
            "Epoch 35/50\n",
            "17/17 [==============================] - 0s 26ms/step - loss: 1.2812 - accuracy: 0.0292 - mae: 0.8472\n",
            "Epoch 36/50\n",
            "17/17 [==============================] - 0s 27ms/step - loss: 1.2792 - accuracy: 0.0399 - mae: 0.8829\n",
            "Epoch 37/50\n",
            "17/17 [==============================] - 1s 32ms/step - loss: 1.1777 - accuracy: 0.0316 - mae: 0.8397\n",
            "Epoch 38/50\n",
            "17/17 [==============================] - 1s 30ms/step - loss: 1.2910 - accuracy: 0.0297 - mae: 0.8851\n",
            "Epoch 39/50\n",
            "17/17 [==============================] - 1s 32ms/step - loss: 1.2190 - accuracy: 0.0337 - mae: 0.8804\n",
            "Epoch 40/50\n",
            "17/17 [==============================] - 1s 31ms/step - loss: 1.2927 - accuracy: 0.0288 - mae: 0.8679\n",
            "Epoch 41/50\n",
            "17/17 [==============================] - 1s 30ms/step - loss: 1.1530 - accuracy: 0.0266 - mae: 0.8101\n",
            "Epoch 42/50\n",
            "17/17 [==============================] - 1s 30ms/step - loss: 1.2048 - accuracy: 0.0332 - mae: 0.8282\n",
            "Epoch 43/50\n",
            "17/17 [==============================] - 0s 29ms/step - loss: 1.1932 - accuracy: 0.0299 - mae: 0.8248\n",
            "Epoch 44/50\n",
            "17/17 [==============================] - 1s 31ms/step - loss: 1.2316 - accuracy: 0.0349 - mae: 0.8523\n",
            "Epoch 45/50\n",
            "17/17 [==============================] - 1s 30ms/step - loss: 1.0746 - accuracy: 0.0270 - mae: 0.7985\n",
            "Epoch 46/50\n",
            "17/17 [==============================] - 1s 31ms/step - loss: 1.2247 - accuracy: 0.0257 - mae: 0.8324\n",
            "Epoch 47/50\n",
            "17/17 [==============================] - 1s 30ms/step - loss: 1.2743 - accuracy: 0.0184 - mae: 0.8426\n",
            "Epoch 48/50\n",
            "17/17 [==============================] - 1s 31ms/step - loss: 1.1573 - accuracy: 0.0222 - mae: 0.7975\n",
            "Epoch 49/50\n",
            "17/17 [==============================] - 1s 30ms/step - loss: 1.2208 - accuracy: 0.0286 - mae: 0.8343\n",
            "Epoch 50/50\n",
            "17/17 [==============================] - 1s 31ms/step - loss: 1.1947 - accuracy: 0.0319 - mae: 0.8428\n",
            "acc Score: 3.0\n",
            "R2 Score: -0.03362533077835539\n",
            "\n",
            "--------Fold 3--------\n",
            "\n",
            "Training Word2Vec Model...\n",
            "Model: \"sequential_14\"\n",
            "_________________________________________________________________\n",
            "Layer (type)                 Output Shape              Param #   \n",
            "=================================================================\n",
            "lstm_28 (LSTM)               (None, 1, 300)            721200    \n",
            "_________________________________________________________________\n",
            "lstm_29 (LSTM)               (None, 64)                93440     \n",
            "_________________________________________________________________\n",
            "dropout_14 (Dropout)         (None, 64)                0         \n",
            "_________________________________________________________________\n",
            "dense_14 (Dense)             (None, 1)                 65        \n",
            "=================================================================\n",
            "Total params: 814,705\n",
            "Trainable params: 814,705\n",
            "Non-trainable params: 0\n",
            "_________________________________________________________________\n",
            "Epoch 1/50\n",
            "17/17 [==============================] - 9s 32ms/step - loss: 5.6597 - accuracy: 0.0645 - mae: 2.1042\n",
            "Epoch 2/50\n",
            "17/17 [==============================] - 1s 32ms/step - loss: 1.2147 - accuracy: 0.0210 - mae: 0.8451\n",
            "Epoch 3/50\n",
            "17/17 [==============================] - 1s 30ms/step - loss: 1.1864 - accuracy: 0.0245 - mae: 0.8121\n",
            "Epoch 4/50\n",
            "17/17 [==============================] - 1s 30ms/step - loss: 1.1629 - accuracy: 0.0239 - mae: 0.8259\n",
            "Epoch 5/50\n",
            "17/17 [==============================] - 1s 31ms/step - loss: 1.1792 - accuracy: 0.0206 - mae: 0.8308\n",
            "Epoch 6/50\n",
            "17/17 [==============================] - 1s 31ms/step - loss: 1.2835 - accuracy: 0.0311 - mae: 0.8489\n",
            "Epoch 7/50\n",
            "17/17 [==============================] - 1s 30ms/step - loss: 1.2066 - accuracy: 0.0192 - mae: 0.8337\n",
            "Epoch 8/50\n",
            "17/17 [==============================] - 1s 31ms/step - loss: 1.2733 - accuracy: 0.0232 - mae: 0.8777\n",
            "Epoch 9/50\n",
            "17/17 [==============================] - 1s 30ms/step - loss: 1.2027 - accuracy: 0.0164 - mae: 0.8256\n",
            "Epoch 10/50\n",
            "17/17 [==============================] - 1s 32ms/step - loss: 1.1544 - accuracy: 0.0211 - mae: 0.8161\n",
            "Epoch 11/50\n",
            "17/17 [==============================] - 1s 31ms/step - loss: 1.1749 - accuracy: 0.0231 - mae: 0.8556\n",
            "Epoch 12/50\n",
            "17/17 [==============================] - 1s 32ms/step - loss: 1.3436 - accuracy: 0.0244 - mae: 0.8676\n",
            "Epoch 13/50\n",
            "17/17 [==============================] - 1s 31ms/step - loss: 1.2639 - accuracy: 0.0236 - mae: 0.8454\n",
            "Epoch 14/50\n",
            "17/17 [==============================] - 1s 31ms/step - loss: 1.1856 - accuracy: 0.0225 - mae: 0.8284\n",
            "Epoch 15/50\n",
            "17/17 [==============================] - 1s 30ms/step - loss: 1.3044 - accuracy: 0.0270 - mae: 0.8792\n",
            "Epoch 16/50\n",
            "17/17 [==============================] - 1s 31ms/step - loss: 1.2085 - accuracy: 0.0257 - mae: 0.8336\n",
            "Epoch 17/50\n",
            "17/17 [==============================] - 1s 31ms/step - loss: 1.2556 - accuracy: 0.0232 - mae: 0.8415\n",
            "Epoch 18/50\n",
            "17/17 [==============================] - 1s 31ms/step - loss: 1.2109 - accuracy: 0.0241 - mae: 0.8466\n",
            "Epoch 19/50\n",
            "17/17 [==============================] - 1s 31ms/step - loss: 1.2609 - accuracy: 0.0222 - mae: 0.8606\n",
            "Epoch 20/50\n",
            "17/17 [==============================] - 1s 30ms/step - loss: 1.1930 - accuracy: 0.0192 - mae: 0.8235\n",
            "Epoch 21/50\n",
            "17/17 [==============================] - 1s 34ms/step - loss: 1.1954 - accuracy: 0.0261 - mae: 0.8298\n",
            "Epoch 22/50\n",
            "17/17 [==============================] - 1s 32ms/step - loss: 1.2648 - accuracy: 0.0222 - mae: 0.8356\n",
            "Epoch 23/50\n",
            "17/17 [==============================] - 1s 33ms/step - loss: 1.1618 - accuracy: 0.0201 - mae: 0.8121\n",
            "Epoch 24/50\n",
            "17/17 [==============================] - 1s 32ms/step - loss: 1.2218 - accuracy: 0.0262 - mae: 0.8315\n",
            "Epoch 25/50\n",
            "17/17 [==============================] - 0s 27ms/step - loss: 1.2468 - accuracy: 0.0190 - mae: 0.8512\n",
            "Epoch 26/50\n",
            "17/17 [==============================] - 0s 26ms/step - loss: 1.2143 - accuracy: 0.0188 - mae: 0.8187\n",
            "Epoch 27/50\n",
            "17/17 [==============================] - 0s 27ms/step - loss: 1.2584 - accuracy: 0.0203 - mae: 0.8588\n",
            "Epoch 28/50\n",
            "17/17 [==============================] - 0s 27ms/step - loss: 1.2700 - accuracy: 0.0196 - mae: 0.8591\n",
            "Epoch 29/50\n",
            "17/17 [==============================] - 1s 30ms/step - loss: 1.1756 - accuracy: 0.0205 - mae: 0.8304\n",
            "Epoch 30/50\n",
            "17/17 [==============================] - 1s 33ms/step - loss: 1.2743 - accuracy: 0.0211 - mae: 0.8658\n",
            "Epoch 31/50\n",
            "17/17 [==============================] - 1s 32ms/step - loss: 1.0998 - accuracy: 0.0233 - mae: 0.7995\n",
            "Epoch 32/50\n",
            "17/17 [==============================] - 1s 32ms/step - loss: 1.1869 - accuracy: 0.0255 - mae: 0.8350\n",
            "Epoch 33/50\n",
            "17/17 [==============================] - 1s 32ms/step - loss: 1.2351 - accuracy: 0.0326 - mae: 0.8172\n",
            "Epoch 34/50\n",
            "17/17 [==============================] - 1s 32ms/step - loss: 1.2739 - accuracy: 0.0165 - mae: 0.8431\n",
            "Epoch 35/50\n",
            "17/17 [==============================] - 1s 31ms/step - loss: 1.1634 - accuracy: 0.0207 - mae: 0.8103\n",
            "Epoch 36/50\n",
            "17/17 [==============================] - 1s 31ms/step - loss: 1.1929 - accuracy: 0.0346 - mae: 0.8349\n",
            "Epoch 37/50\n",
            "17/17 [==============================] - 1s 32ms/step - loss: 1.2483 - accuracy: 0.0232 - mae: 0.8460\n",
            "Epoch 38/50\n",
            "17/17 [==============================] - 1s 31ms/step - loss: 1.2035 - accuracy: 0.0224 - mae: 0.8145\n",
            "Epoch 39/50\n",
            "17/17 [==============================] - 1s 32ms/step - loss: 1.1266 - accuracy: 0.0191 - mae: 0.8035\n",
            "Epoch 40/50\n",
            "17/17 [==============================] - 1s 33ms/step - loss: 1.1650 - accuracy: 0.0256 - mae: 0.8318\n",
            "Epoch 41/50\n",
            "17/17 [==============================] - 1s 34ms/step - loss: 1.1874 - accuracy: 0.0276 - mae: 0.8209\n",
            "Epoch 42/50\n",
            "17/17 [==============================] - 1s 32ms/step - loss: 1.3486 - accuracy: 0.0126 - mae: 0.8931\n",
            "Epoch 43/50\n",
            "17/17 [==============================] - 1s 32ms/step - loss: 1.1731 - accuracy: 0.0216 - mae: 0.8309\n",
            "Epoch 44/50\n",
            "17/17 [==============================] - 1s 32ms/step - loss: 1.1072 - accuracy: 0.0162 - mae: 0.7739\n",
            "Epoch 45/50\n",
            "17/17 [==============================] - 1s 31ms/step - loss: 1.2714 - accuracy: 0.0232 - mae: 0.8654\n",
            "Epoch 46/50\n",
            "17/17 [==============================] - 1s 32ms/step - loss: 1.0737 - accuracy: 0.0223 - mae: 0.7626\n",
            "Epoch 47/50\n",
            "17/17 [==============================] - 1s 32ms/step - loss: 1.2086 - accuracy: 0.0235 - mae: 0.8383\n",
            "Epoch 48/50\n",
            "17/17 [==============================] - 1s 31ms/step - loss: 1.2196 - accuracy: 0.0195 - mae: 0.8350\n",
            "Epoch 49/50\n",
            "17/17 [==============================] - 1s 30ms/step - loss: 1.1997 - accuracy: 0.0269 - mae: 0.8444\n",
            "Epoch 50/50\n",
            "17/17 [==============================] - 1s 31ms/step - loss: 1.0758 - accuracy: 0.0218 - mae: 0.7702\n",
            "acc Score: 3.0\n",
            "R2 Score: -0.05372770072760047\n",
            "\n",
            "--------Fold 4--------\n",
            "\n",
            "Training Word2Vec Model...\n",
            "Model: \"sequential_15\"\n",
            "_________________________________________________________________\n",
            "Layer (type)                 Output Shape              Param #   \n",
            "=================================================================\n",
            "lstm_30 (LSTM)               (None, 1, 300)            721200    \n",
            "_________________________________________________________________\n",
            "lstm_31 (LSTM)               (None, 64)                93440     \n",
            "_________________________________________________________________\n",
            "dropout_15 (Dropout)         (None, 64)                0         \n",
            "_________________________________________________________________\n",
            "dense_15 (Dense)             (None, 1)                 65        \n",
            "=================================================================\n",
            "Total params: 814,705\n",
            "Trainable params: 814,705\n",
            "Non-trainable params: 0\n",
            "_________________________________________________________________\n",
            "Epoch 1/50\n",
            "17/17 [==============================] - 9s 31ms/step - loss: 6.0230 - accuracy: 0.0576 - mae: 2.2038\n",
            "Epoch 2/50\n",
            "17/17 [==============================] - 1s 33ms/step - loss: 1.2817 - accuracy: 0.0283 - mae: 0.8866\n",
            "Epoch 3/50\n",
            "17/17 [==============================] - 1s 31ms/step - loss: 1.1871 - accuracy: 0.0213 - mae: 0.8125\n",
            "Epoch 4/50\n",
            "17/17 [==============================] - 1s 30ms/step - loss: 1.2538 - accuracy: 0.0269 - mae: 0.8687\n",
            "Epoch 5/50\n",
            "17/17 [==============================] - 1s 31ms/step - loss: 1.3231 - accuracy: 0.0174 - mae: 0.8782\n",
            "Epoch 6/50\n",
            "17/17 [==============================] - 1s 32ms/step - loss: 1.1803 - accuracy: 0.0257 - mae: 0.8308\n",
            "Epoch 7/50\n",
            "17/17 [==============================] - 1s 31ms/step - loss: 1.2032 - accuracy: 0.0311 - mae: 0.8384\n",
            "Epoch 8/50\n",
            "17/17 [==============================] - 1s 30ms/step - loss: 1.2437 - accuracy: 0.0222 - mae: 0.8693\n",
            "Epoch 9/50\n",
            "17/17 [==============================] - 1s 32ms/step - loss: 1.2472 - accuracy: 0.0192 - mae: 0.8390\n",
            "Epoch 10/50\n",
            "17/17 [==============================] - 1s 30ms/step - loss: 1.1738 - accuracy: 0.0261 - mae: 0.8318\n",
            "Epoch 11/50\n",
            "17/17 [==============================] - 1s 30ms/step - loss: 1.1030 - accuracy: 0.0273 - mae: 0.8055\n",
            "Epoch 12/50\n",
            "17/17 [==============================] - 1s 30ms/step - loss: 1.2671 - accuracy: 0.0283 - mae: 0.8457\n",
            "Epoch 13/50\n",
            "17/17 [==============================] - 1s 31ms/step - loss: 1.2311 - accuracy: 0.0222 - mae: 0.8381\n",
            "Epoch 14/50\n",
            "17/17 [==============================] - 1s 30ms/step - loss: 1.1864 - accuracy: 0.0218 - mae: 0.8289\n",
            "Epoch 15/50\n",
            "17/17 [==============================] - 1s 31ms/step - loss: 1.1335 - accuracy: 0.0224 - mae: 0.7971\n",
            "Epoch 16/50\n",
            "17/17 [==============================] - 1s 30ms/step - loss: 1.1581 - accuracy: 0.0171 - mae: 0.8349\n",
            "Epoch 17/50\n",
            "17/17 [==============================] - 1s 31ms/step - loss: 1.3107 - accuracy: 0.0155 - mae: 0.8834\n",
            "Epoch 18/50\n",
            "17/17 [==============================] - 1s 31ms/step - loss: 1.2049 - accuracy: 0.0185 - mae: 0.8176\n",
            "Epoch 19/50\n",
            "17/17 [==============================] - 1s 32ms/step - loss: 1.1866 - accuracy: 0.0226 - mae: 0.8248\n",
            "Epoch 20/50\n",
            "17/17 [==============================] - 1s 31ms/step - loss: 1.1220 - accuracy: 0.0234 - mae: 0.7981\n",
            "Epoch 21/50\n",
            "17/17 [==============================] - 1s 31ms/step - loss: 1.0970 - accuracy: 0.0179 - mae: 0.8087\n",
            "Epoch 22/50\n",
            "17/17 [==============================] - 1s 31ms/step - loss: 1.1740 - accuracy: 0.0181 - mae: 0.8141\n",
            "Epoch 23/50\n",
            "17/17 [==============================] - 1s 31ms/step - loss: 1.1525 - accuracy: 0.0189 - mae: 0.8274\n",
            "Epoch 24/50\n",
            "17/17 [==============================] - 1s 31ms/step - loss: 1.2915 - accuracy: 0.0204 - mae: 0.8667\n",
            "Epoch 25/50\n",
            "17/17 [==============================] - 1s 31ms/step - loss: 1.2228 - accuracy: 0.0179 - mae: 0.8313\n",
            "Epoch 26/50\n",
            "17/17 [==============================] - 1s 31ms/step - loss: 1.1031 - accuracy: 0.0201 - mae: 0.7985\n",
            "Epoch 27/50\n",
            "17/17 [==============================] - 1s 31ms/step - loss: 1.1370 - accuracy: 0.0211 - mae: 0.7942\n",
            "Epoch 28/50\n",
            "17/17 [==============================] - 1s 31ms/step - loss: 1.1957 - accuracy: 0.0198 - mae: 0.8375\n",
            "Epoch 29/50\n",
            "17/17 [==============================] - 1s 31ms/step - loss: 1.2131 - accuracy: 0.0188 - mae: 0.8354\n",
            "Epoch 30/50\n",
            "17/17 [==============================] - 1s 31ms/step - loss: 1.2016 - accuracy: 0.0229 - mae: 0.8193\n",
            "Epoch 31/50\n",
            "17/17 [==============================] - 1s 30ms/step - loss: 1.2079 - accuracy: 0.0267 - mae: 0.8400\n",
            "Epoch 32/50\n",
            "17/17 [==============================] - 1s 31ms/step - loss: 1.1192 - accuracy: 0.0209 - mae: 0.8200\n",
            "Epoch 33/50\n",
            "17/17 [==============================] - 1s 30ms/step - loss: 1.2317 - accuracy: 0.0185 - mae: 0.8468\n",
            "Epoch 34/50\n",
            "17/17 [==============================] - 1s 31ms/step - loss: 1.2304 - accuracy: 0.0232 - mae: 0.8614\n",
            "Epoch 35/50\n",
            "17/17 [==============================] - 1s 32ms/step - loss: 1.2060 - accuracy: 0.0177 - mae: 0.8163\n",
            "Epoch 36/50\n",
            "17/17 [==============================] - 1s 30ms/step - loss: 1.2033 - accuracy: 0.0179 - mae: 0.8192\n",
            "Epoch 37/50\n",
            "17/17 [==============================] - 0s 26ms/step - loss: 1.1062 - accuracy: 0.0298 - mae: 0.8186\n",
            "Epoch 38/50\n",
            "17/17 [==============================] - 0s 29ms/step - loss: 1.1270 - accuracy: 0.0157 - mae: 0.7925\n",
            "Epoch 39/50\n",
            "17/17 [==============================] - 1s 32ms/step - loss: 1.1288 - accuracy: 0.0195 - mae: 0.7991\n",
            "Epoch 40/50\n",
            "17/17 [==============================] - 1s 32ms/step - loss: 1.2058 - accuracy: 0.0152 - mae: 0.8439\n",
            "Epoch 41/50\n",
            "17/17 [==============================] - 1s 32ms/step - loss: 1.1737 - accuracy: 0.0196 - mae: 0.8138\n",
            "Epoch 42/50\n",
            "17/17 [==============================] - 1s 34ms/step - loss: 1.1429 - accuracy: 0.0208 - mae: 0.8179\n",
            "Epoch 43/50\n",
            "17/17 [==============================] - 1s 33ms/step - loss: 1.0928 - accuracy: 0.0223 - mae: 0.7807\n",
            "Epoch 44/50\n",
            "17/17 [==============================] - 1s 34ms/step - loss: 1.1588 - accuracy: 0.0214 - mae: 0.8247\n",
            "Epoch 45/50\n",
            "17/17 [==============================] - 1s 33ms/step - loss: 1.1061 - accuracy: 0.0253 - mae: 0.7975\n",
            "Epoch 46/50\n",
            "17/17 [==============================] - 1s 32ms/step - loss: 1.2317 - accuracy: 0.0180 - mae: 0.8453\n",
            "Epoch 47/50\n",
            "17/17 [==============================] - 1s 31ms/step - loss: 1.1485 - accuracy: 0.0215 - mae: 0.8040\n",
            "Epoch 48/50\n",
            "17/17 [==============================] - 1s 31ms/step - loss: 1.1108 - accuracy: 0.0159 - mae: 0.7846\n",
            "Epoch 49/50\n",
            "17/17 [==============================] - 1s 32ms/step - loss: 1.1695 - accuracy: 0.0261 - mae: 0.8349\n",
            "Epoch 50/50\n",
            "17/17 [==============================] - 1s 32ms/step - loss: 1.1530 - accuracy: 0.0248 - mae: 0.7959\n",
            "acc Score: 3.0\n",
            "R2 Score: -0.07308510831802395\n",
            "\n",
            "--------Fold 5--------\n",
            "\n",
            "Training Word2Vec Model...\n",
            "Model: \"sequential_16\"\n",
            "_________________________________________________________________\n",
            "Layer (type)                 Output Shape              Param #   \n",
            "=================================================================\n",
            "lstm_32 (LSTM)               (None, 1, 300)            721200    \n",
            "_________________________________________________________________\n",
            "lstm_33 (LSTM)               (None, 64)                93440     \n",
            "_________________________________________________________________\n",
            "dropout_16 (Dropout)         (None, 64)                0         \n",
            "_________________________________________________________________\n",
            "dense_16 (Dense)             (None, 1)                 65        \n",
            "=================================================================\n",
            "Total params: 814,705\n",
            "Trainable params: 814,705\n",
            "Non-trainable params: 0\n",
            "_________________________________________________________________\n",
            "Epoch 1/50\n",
            "17/17 [==============================] - 8s 27ms/step - loss: 5.8051 - accuracy: 0.0613 - mae: 2.1369\n",
            "Epoch 2/50\n",
            "17/17 [==============================] - 0s 26ms/step - loss: 1.3580 - accuracy: 0.0180 - mae: 0.8807\n",
            "Epoch 3/50\n",
            "17/17 [==============================] - 0s 26ms/step - loss: 1.3419 - accuracy: 0.0245 - mae: 0.8888\n",
            "Epoch 4/50\n",
            "17/17 [==============================] - 0s 26ms/step - loss: 1.2538 - accuracy: 0.0254 - mae: 0.8649\n",
            "Epoch 5/50\n",
            "17/17 [==============================] - 1s 32ms/step - loss: 1.2244 - accuracy: 0.0256 - mae: 0.8579\n",
            "Epoch 6/50\n",
            "17/17 [==============================] - 1s 33ms/step - loss: 1.2977 - accuracy: 0.0250 - mae: 0.8392\n",
            "Epoch 7/50\n",
            "17/17 [==============================] - 1s 31ms/step - loss: 1.2878 - accuracy: 0.0279 - mae: 0.8630\n",
            "Epoch 8/50\n",
            "17/17 [==============================] - 1s 32ms/step - loss: 1.2845 - accuracy: 0.0263 - mae: 0.8724\n",
            "Epoch 9/50\n",
            "17/17 [==============================] - 1s 32ms/step - loss: 1.2925 - accuracy: 0.0209 - mae: 0.8530\n",
            "Epoch 10/50\n",
            "17/17 [==============================] - 1s 32ms/step - loss: 1.2394 - accuracy: 0.0264 - mae: 0.8569\n",
            "Epoch 11/50\n",
            "17/17 [==============================] - 1s 31ms/step - loss: 1.1852 - accuracy: 0.0174 - mae: 0.8319\n",
            "Epoch 12/50\n",
            "17/17 [==============================] - 1s 32ms/step - loss: 1.1849 - accuracy: 0.0207 - mae: 0.8336\n",
            "Epoch 13/50\n",
            "17/17 [==============================] - 1s 32ms/step - loss: 1.2316 - accuracy: 0.0230 - mae: 0.8405\n",
            "Epoch 14/50\n",
            "17/17 [==============================] - 1s 33ms/step - loss: 1.2363 - accuracy: 0.0253 - mae: 0.8347\n",
            "Epoch 15/50\n",
            "17/17 [==============================] - 1s 33ms/step - loss: 1.2509 - accuracy: 0.0305 - mae: 0.8683\n",
            "Epoch 16/50\n",
            "17/17 [==============================] - 1s 31ms/step - loss: 1.2075 - accuracy: 0.0204 - mae: 0.8328\n",
            "Epoch 17/50\n",
            "17/17 [==============================] - 1s 32ms/step - loss: 1.2872 - accuracy: 0.0284 - mae: 0.8591\n",
            "Epoch 18/50\n",
            "17/17 [==============================] - 1s 31ms/step - loss: 1.2324 - accuracy: 0.0191 - mae: 0.8506\n",
            "Epoch 19/50\n",
            "17/17 [==============================] - 1s 31ms/step - loss: 1.3894 - accuracy: 0.0289 - mae: 0.9190\n",
            "Epoch 20/50\n",
            "17/17 [==============================] - 1s 32ms/step - loss: 1.4139 - accuracy: 0.0201 - mae: 0.9058\n",
            "Epoch 21/50\n",
            "17/17 [==============================] - 1s 31ms/step - loss: 1.2154 - accuracy: 0.0251 - mae: 0.8271\n",
            "Epoch 22/50\n",
            "17/17 [==============================] - 1s 30ms/step - loss: 1.2088 - accuracy: 0.0198 - mae: 0.8299\n",
            "Epoch 23/50\n",
            "17/17 [==============================] - 1s 30ms/step - loss: 1.2999 - accuracy: 0.0253 - mae: 0.8737\n",
            "Epoch 24/50\n",
            "17/17 [==============================] - 1s 30ms/step - loss: 1.2652 - accuracy: 0.0227 - mae: 0.8621\n",
            "Epoch 25/50\n",
            "17/17 [==============================] - 1s 32ms/step - loss: 1.2775 - accuracy: 0.0267 - mae: 0.8755\n",
            "Epoch 26/50\n",
            "17/17 [==============================] - 1s 32ms/step - loss: 1.2430 - accuracy: 0.0192 - mae: 0.8617\n",
            "Epoch 27/50\n",
            "17/17 [==============================] - 1s 32ms/step - loss: 1.2509 - accuracy: 0.0293 - mae: 0.8664\n",
            "Epoch 28/50\n",
            "17/17 [==============================] - 1s 32ms/step - loss: 1.3174 - accuracy: 0.0213 - mae: 0.8774\n",
            "Epoch 29/50\n",
            "17/17 [==============================] - 1s 31ms/step - loss: 1.2767 - accuracy: 0.0229 - mae: 0.8595\n",
            "Epoch 30/50\n",
            "17/17 [==============================] - 1s 32ms/step - loss: 1.2387 - accuracy: 0.0225 - mae: 0.8543\n",
            "Epoch 31/50\n",
            "17/17 [==============================] - 1s 31ms/step - loss: 1.2527 - accuracy: 0.0246 - mae: 0.8636\n",
            "Epoch 32/50\n",
            "17/17 [==============================] - 1s 32ms/step - loss: 1.2588 - accuracy: 0.0205 - mae: 0.8576\n",
            "Epoch 33/50\n",
            "17/17 [==============================] - 1s 30ms/step - loss: 1.1999 - accuracy: 0.0239 - mae: 0.8347\n",
            "Epoch 34/50\n",
            "17/17 [==============================] - 1s 31ms/step - loss: 1.2131 - accuracy: 0.0239 - mae: 0.8386\n",
            "Epoch 35/50\n",
            "17/17 [==============================] - 1s 31ms/step - loss: 1.3239 - accuracy: 0.0246 - mae: 0.8756\n",
            "Epoch 36/50\n",
            "17/17 [==============================] - 1s 31ms/step - loss: 1.2669 - accuracy: 0.0239 - mae: 0.8667\n",
            "Epoch 37/50\n",
            "17/17 [==============================] - 1s 30ms/step - loss: 1.2644 - accuracy: 0.0237 - mae: 0.8603\n",
            "Epoch 38/50\n",
            "17/17 [==============================] - 1s 32ms/step - loss: 1.2784 - accuracy: 0.0206 - mae: 0.8661\n",
            "Epoch 39/50\n",
            "17/17 [==============================] - 1s 31ms/step - loss: 1.4237 - accuracy: 0.0295 - mae: 0.9424\n",
            "Epoch 40/50\n",
            "17/17 [==============================] - 1s 30ms/step - loss: 1.3404 - accuracy: 0.0230 - mae: 0.8803\n",
            "Epoch 41/50\n",
            "17/17 [==============================] - 0s 28ms/step - loss: 1.1873 - accuracy: 0.0224 - mae: 0.8367\n",
            "Epoch 42/50\n",
            "17/17 [==============================] - 0s 27ms/step - loss: 1.2065 - accuracy: 0.0251 - mae: 0.8171\n",
            "Epoch 43/50\n",
            "17/17 [==============================] - 1s 32ms/step - loss: 1.2298 - accuracy: 0.0233 - mae: 0.8363\n",
            "Epoch 44/50\n",
            "17/17 [==============================] - 1s 32ms/step - loss: 1.2652 - accuracy: 0.0183 - mae: 0.8721\n",
            "Epoch 45/50\n",
            "17/17 [==============================] - 1s 31ms/step - loss: 1.1822 - accuracy: 0.0218 - mae: 0.8285\n",
            "Epoch 46/50\n",
            "17/17 [==============================] - 1s 32ms/step - loss: 1.2921 - accuracy: 0.0222 - mae: 0.8533\n",
            "Epoch 47/50\n",
            "17/17 [==============================] - 1s 34ms/step - loss: 1.1626 - accuracy: 0.0305 - mae: 0.8258\n",
            "Epoch 48/50\n",
            "17/17 [==============================] - 1s 31ms/step - loss: 1.1934 - accuracy: 0.0238 - mae: 0.8309\n",
            "Epoch 49/50\n",
            "17/17 [==============================] - 1s 31ms/step - loss: 1.2325 - accuracy: 0.0253 - mae: 0.8626\n",
            "Epoch 50/50\n",
            "17/17 [==============================] - 1s 31ms/step - loss: 1.1435 - accuracy: 0.0289 - mae: 0.8305\n",
            "acc Score: 3.0\n",
            "R2 Score: -0.049803928343151505\n",
            "\n",
            "--------Fold 6--------\n",
            "\n",
            "Training Word2Vec Model...\n",
            "Model: \"sequential_17\"\n",
            "_________________________________________________________________\n",
            "Layer (type)                 Output Shape              Param #   \n",
            "=================================================================\n",
            "lstm_34 (LSTM)               (None, 1, 300)            721200    \n",
            "_________________________________________________________________\n",
            "lstm_35 (LSTM)               (None, 64)                93440     \n",
            "_________________________________________________________________\n",
            "dropout_17 (Dropout)         (None, 64)                0         \n",
            "_________________________________________________________________\n",
            "dense_17 (Dense)             (None, 1)                 65        \n",
            "=================================================================\n",
            "Total params: 814,705\n",
            "Trainable params: 814,705\n",
            "Non-trainable params: 0\n",
            "_________________________________________________________________\n",
            "Epoch 1/50\n",
            "17/17 [==============================] - 9s 31ms/step - loss: 5.9109 - accuracy: 0.0589 - mae: 2.1744\n",
            "Epoch 2/50\n",
            "17/17 [==============================] - 1s 32ms/step - loss: 1.2000 - accuracy: 0.0244 - mae: 0.8244\n",
            "Epoch 3/50\n",
            "17/17 [==============================] - 1s 32ms/step - loss: 1.2602 - accuracy: 0.0197 - mae: 0.8608\n",
            "Epoch 4/50\n",
            "17/17 [==============================] - 1s 32ms/step - loss: 1.2618 - accuracy: 0.0284 - mae: 0.8548\n",
            "Epoch 5/50\n",
            "17/17 [==============================] - 1s 32ms/step - loss: 1.4032 - accuracy: 0.0273 - mae: 0.9199\n",
            "Epoch 6/50\n",
            "17/17 [==============================] - 1s 31ms/step - loss: 1.2550 - accuracy: 0.0349 - mae: 0.8569\n",
            "Epoch 7/50\n",
            "17/17 [==============================] - 1s 32ms/step - loss: 1.2757 - accuracy: 0.0277 - mae: 0.8516\n",
            "Epoch 8/50\n",
            "17/17 [==============================] - 1s 32ms/step - loss: 1.2203 - accuracy: 0.0260 - mae: 0.8376\n",
            "Epoch 9/50\n",
            "17/17 [==============================] - 1s 31ms/step - loss: 1.2757 - accuracy: 0.0252 - mae: 0.8781\n",
            "Epoch 10/50\n",
            "17/17 [==============================] - 1s 31ms/step - loss: 1.2405 - accuracy: 0.0302 - mae: 0.8417\n",
            "Epoch 11/50\n",
            "17/17 [==============================] - 1s 34ms/step - loss: 1.2841 - accuracy: 0.0288 - mae: 0.8471\n",
            "Epoch 12/50\n",
            "17/17 [==============================] - 1s 32ms/step - loss: 1.3558 - accuracy: 0.0251 - mae: 0.8935\n",
            "Epoch 13/50\n",
            "17/17 [==============================] - 1s 34ms/step - loss: 1.2914 - accuracy: 0.0231 - mae: 0.8743\n",
            "Epoch 14/50\n",
            "17/17 [==============================] - 1s 32ms/step - loss: 1.4325 - accuracy: 0.0216 - mae: 0.9044\n",
            "Epoch 15/50\n",
            "17/17 [==============================] - 1s 31ms/step - loss: 1.2912 - accuracy: 0.0229 - mae: 0.8511\n",
            "Epoch 16/50\n",
            "17/17 [==============================] - 1s 32ms/step - loss: 1.2966 - accuracy: 0.0220 - mae: 0.8549\n",
            "Epoch 17/50\n",
            "17/17 [==============================] - 1s 30ms/step - loss: 1.2325 - accuracy: 0.0277 - mae: 0.8383\n",
            "Epoch 18/50\n",
            "17/17 [==============================] - 1s 32ms/step - loss: 1.3841 - accuracy: 0.0258 - mae: 0.8824\n",
            "Epoch 19/50\n",
            "17/17 [==============================] - 1s 33ms/step - loss: 1.2775 - accuracy: 0.0212 - mae: 0.8458\n",
            "Epoch 20/50\n",
            "17/17 [==============================] - 1s 32ms/step - loss: 1.1711 - accuracy: 0.0274 - mae: 0.8107\n",
            "Epoch 21/50\n",
            "17/17 [==============================] - 1s 31ms/step - loss: 1.2648 - accuracy: 0.0340 - mae: 0.8446\n",
            "Epoch 22/50\n",
            "17/17 [==============================] - 1s 32ms/step - loss: 1.2158 - accuracy: 0.0297 - mae: 0.8410\n",
            "Epoch 23/50\n",
            "17/17 [==============================] - 0s 28ms/step - loss: 1.1760 - accuracy: 0.0223 - mae: 0.8244\n",
            "Epoch 24/50\n",
            "17/17 [==============================] - 0s 27ms/step - loss: 1.1871 - accuracy: 0.0172 - mae: 0.8433\n",
            "Epoch 25/50\n",
            "17/17 [==============================] - 0s 30ms/step - loss: 1.3144 - accuracy: 0.0231 - mae: 0.8695\n",
            "Epoch 26/50\n",
            "17/17 [==============================] - 1s 32ms/step - loss: 1.2453 - accuracy: 0.0253 - mae: 0.8466\n",
            "Epoch 27/50\n",
            "17/17 [==============================] - 1s 31ms/step - loss: 1.2303 - accuracy: 0.0279 - mae: 0.8365\n",
            "Epoch 28/50\n",
            "17/17 [==============================] - 1s 33ms/step - loss: 1.2718 - accuracy: 0.0251 - mae: 0.8444\n",
            "Epoch 29/50\n",
            "17/17 [==============================] - 1s 33ms/step - loss: 1.1557 - accuracy: 0.0298 - mae: 0.7944\n",
            "Epoch 30/50\n",
            "17/17 [==============================] - 1s 32ms/step - loss: 1.3560 - accuracy: 0.0274 - mae: 0.9031\n",
            "Epoch 31/50\n",
            "17/17 [==============================] - 1s 33ms/step - loss: 1.3553 - accuracy: 0.0225 - mae: 0.8519\n",
            "Epoch 32/50\n",
            "17/17 [==============================] - 1s 32ms/step - loss: 1.3426 - accuracy: 0.0244 - mae: 0.8737\n",
            "Epoch 33/50\n",
            "17/17 [==============================] - 1s 34ms/step - loss: 1.2148 - accuracy: 0.0214 - mae: 0.8382\n",
            "Epoch 34/50\n",
            "17/17 [==============================] - 1s 32ms/step - loss: 1.1575 - accuracy: 0.0213 - mae: 0.8128\n",
            "Epoch 35/50\n",
            "17/17 [==============================] - 1s 33ms/step - loss: 1.2617 - accuracy: 0.0269 - mae: 0.8400\n",
            "Epoch 36/50\n",
            "17/17 [==============================] - 1s 31ms/step - loss: 1.2362 - accuracy: 0.0245 - mae: 0.8474\n",
            "Epoch 37/50\n",
            "17/17 [==============================] - 1s 32ms/step - loss: 1.1552 - accuracy: 0.0262 - mae: 0.8168\n",
            "Epoch 38/50\n",
            "17/17 [==============================] - 1s 32ms/step - loss: 1.2989 - accuracy: 0.0198 - mae: 0.8496\n",
            "Epoch 39/50\n",
            "17/17 [==============================] - 1s 33ms/step - loss: 1.3015 - accuracy: 0.0265 - mae: 0.8642\n",
            "Epoch 40/50\n",
            "17/17 [==============================] - 1s 32ms/step - loss: 1.2127 - accuracy: 0.0284 - mae: 0.8288\n",
            "Epoch 41/50\n",
            "17/17 [==============================] - 1s 31ms/step - loss: 1.2859 - accuracy: 0.0241 - mae: 0.8642\n",
            "Epoch 42/50\n",
            "17/17 [==============================] - 1s 33ms/step - loss: 1.1254 - accuracy: 0.0207 - mae: 0.7971\n",
            "Epoch 43/50\n",
            "17/17 [==============================] - 1s 31ms/step - loss: 1.2405 - accuracy: 0.0345 - mae: 0.8568\n",
            "Epoch 44/50\n",
            "17/17 [==============================] - 1s 32ms/step - loss: 1.3349 - accuracy: 0.0265 - mae: 0.8776\n",
            "Epoch 45/50\n",
            "17/17 [==============================] - 1s 31ms/step - loss: 1.3492 - accuracy: 0.0331 - mae: 0.8758\n",
            "Epoch 46/50\n",
            "17/17 [==============================] - 1s 33ms/step - loss: 1.1109 - accuracy: 0.0204 - mae: 0.7945\n",
            "Epoch 47/50\n",
            "17/17 [==============================] - 1s 33ms/step - loss: 1.2709 - accuracy: 0.0213 - mae: 0.8513\n",
            "Epoch 48/50\n",
            "17/17 [==============================] - 1s 35ms/step - loss: 1.2710 - accuracy: 0.0264 - mae: 0.8503\n",
            "Epoch 49/50\n",
            "17/17 [==============================] - 1s 34ms/step - loss: 1.1694 - accuracy: 0.0217 - mae: 0.7978\n",
            "Epoch 50/50\n",
            "17/17 [==============================] - 1s 31ms/step - loss: 1.1565 - accuracy: 0.0217 - mae: 0.8119\n",
            "acc Score: 3.0\n",
            "R2 Score: -0.0394118168914126\n"
          ],
          "name": "stdout"
        }
      ]
    },
    {
      "cell_type": "code",
      "metadata": {
        "trusted": true,
        "colab": {
          "base_uri": "https://localhost:8080/"
        },
        "id": "o_D5nWbouPr2",
        "outputId": "dfeb0628-1fe6-4247-fc11-bab94e722e6c"
      },
      "source": [
        "print(\"Average R2 score after a 10-fold cross validation: \",np.around(np.array(results).mean(),decimals=4))"
      ],
      "execution_count": 157,
      "outputs": [
        {
          "output_type": "stream",
          "text": [
            "Average R2 score after a 10-fold cross validation:  -0.054\n"
          ],
          "name": "stdout"
        }
      ]
    },
    {
      "cell_type": "code",
      "metadata": {
        "colab": {
          "base_uri": "https://localhost:8080/",
          "height": 423
        },
        "id": "oC7vpUsx-t3C",
        "outputId": "8c0974ad-eac7-4f12-b44f-a8d446a85834"
      },
      "source": [
        "#content = pd.read_csv(\"/content/input/test.csv\")\n",
        "testset = pd.read_csv(\"/content/input/test.csv\")\n",
        "testset.drop(testset.columns[[0]],axis=1, inplace= True)\n",
        "testset = testset.dropna(axis=1)\n",
        "testset"
      ],
      "execution_count": 158,
      "outputs": [
        {
          "output_type": "execute_result",
          "data": {
            "text/html": [
              "<div>\n",
              "<style scoped>\n",
              "    .dataframe tbody tr th:only-of-type {\n",
              "        vertical-align: middle;\n",
              "    }\n",
              "\n",
              "    .dataframe tbody tr th {\n",
              "        vertical-align: top;\n",
              "    }\n",
              "\n",
              "    .dataframe thead th {\n",
              "        text-align: right;\n",
              "    }\n",
              "</style>\n",
              "<table border=\"1\" class=\"dataframe\">\n",
              "  <thead>\n",
              "    <tr style=\"text-align: right;\">\n",
              "      <th></th>\n",
              "      <th>promptId</th>\n",
              "      <th>uniqueId</th>\n",
              "      <th>essay</th>\n",
              "    </tr>\n",
              "  </thead>\n",
              "  <tbody>\n",
              "    <tr>\n",
              "      <th>0</th>\n",
              "      <td>1</td>\n",
              "      <td>1_315</td>\n",
              "      <td>Curriculum has been adopted in many schools. T...</td>\n",
              "    </tr>\n",
              "    <tr>\n",
              "      <th>1</th>\n",
              "      <td>1</td>\n",
              "      <td>1_214</td>\n",
              "      <td>I strongly agree with the statement ,  The tig...</td>\n",
              "    </tr>\n",
              "    <tr>\n",
              "      <th>2</th>\n",
              "      <td>1</td>\n",
              "      <td>1_196</td>\n",
              "      <td>Imagination and creativity is the most importa...</td>\n",
              "    </tr>\n",
              "    <tr>\n",
              "      <th>3</th>\n",
              "      <td>1</td>\n",
              "      <td>1_178</td>\n",
              "      <td>In our eduction system leaves no room for imag...</td>\n",
              "    </tr>\n",
              "    <tr>\n",
              "      <th>4</th>\n",
              "      <td>1</td>\n",
              "      <td>1_201</td>\n",
              "      <td>I will agree at some what extend, because if w...</td>\n",
              "    </tr>\n",
              "    <tr>\n",
              "      <th>...</th>\n",
              "      <td>...</td>\n",
              "      <td>...</td>\n",
              "      <td>...</td>\n",
              "    </tr>\n",
              "    <tr>\n",
              "      <th>300</th>\n",
              "      <td>5</td>\n",
              "      <td>5_146</td>\n",
              "      <td>Earth is a creation of God and everything that...</td>\n",
              "    </tr>\n",
              "    <tr>\n",
              "      <th>301</th>\n",
              "      <td>5</td>\n",
              "      <td>5_65</td>\n",
              "      <td>production of arms and weapons in this present...</td>\n",
              "    </tr>\n",
              "    <tr>\n",
              "      <th>302</th>\n",
              "      <td>5</td>\n",
              "      <td>5_151</td>\n",
              "      <td>Race to become more powerful can destroy the e...</td>\n",
              "    </tr>\n",
              "    <tr>\n",
              "      <th>303</th>\n",
              "      <td>5</td>\n",
              "      <td>5_404</td>\n",
              "      <td>In its attempt to harness the power of the ato...</td>\n",
              "    </tr>\n",
              "    <tr>\n",
              "      <th>304</th>\n",
              "      <td>5</td>\n",
              "      <td>5_360</td>\n",
              "      <td>Racein the production of arms and weapons in t...</td>\n",
              "    </tr>\n",
              "  </tbody>\n",
              "</table>\n",
              "<p>305 rows × 3 columns</p>\n",
              "</div>"
            ],
            "text/plain": [
              "     promptId uniqueId                                              essay\n",
              "0           1    1_315  Curriculum has been adopted in many schools. T...\n",
              "1           1    1_214  I strongly agree with the statement ,  The tig...\n",
              "2           1    1_196  Imagination and creativity is the most importa...\n",
              "3           1    1_178  In our eduction system leaves no room for imag...\n",
              "4           1    1_201  I will agree at some what extend, because if w...\n",
              "..        ...      ...                                                ...\n",
              "300         5    5_146  Earth is a creation of God and everything that...\n",
              "301         5     5_65  production of arms and weapons in this present...\n",
              "302         5    5_151  Race to become more powerful can destroy the e...\n",
              "303         5    5_404  In its attempt to harness the power of the ato...\n",
              "304         5    5_360  Racein the production of arms and weapons in t...\n",
              "\n",
              "[305 rows x 3 columns]"
            ]
          },
          "metadata": {
            "tags": []
          },
          "execution_count": 158
        }
      ]
    },
    {
      "cell_type": "code",
      "metadata": {
        "colab": {
          "base_uri": "https://localhost:8080/",
          "height": 191
        },
        "id": "l4ZsCOzBVLZT",
        "outputId": "15c22dd6-4aa7-48af-cbec-ca50bf331cbe"
      },
      "source": [
        "x1 = testset['essay'][1]\n",
        "x1"
      ],
      "execution_count": 159,
      "outputs": [
        {
          "output_type": "execute_result",
          "data": {
            "application/vnd.google.colaboratory.intrinsic+json": {
              "type": "string"
            },
            "text/plain": [
              "\"I strongly agree with the statement ,  The tightly defined curriculum of our education system leaves no room or imagination and creativityToday's education system is completely theory based. More focus is given on theory,text books and pre-defined things set. No room for practical things,experiments, innovation and creativity.Our education system is mainly rather completely pre-defined curriculum structure as to syllabus is concerned , then examination pattern, marking system is all decided by the respective state government. In each state curriculum followed is different and preset by our older generation/people. No new concepts are added , no innovative systems are created.Syallbus is changed once in every ten years, which is a long gap and in between various things are changing , the world around is changing rapidly but our education system is still lacking behind. Also our system in based on gradation which creates inferority among them.If you see in western part of the world, thier education system is completely based on innovation, imagination, creativity which creates and ehances the skills of the students thier.People their are more creative and have great imagination power as compared to our students. our students have a habit to work under a structure and in adisplined way since we have a tightly defined curriculum and it become a habit offollowing the same type of system furher ; when given the work which involves creativity we lack behind as compared to them.It allows us to thing in the same way i.e the traditional way of solving the problem nad not lateral thinking i.e looking at the problem in different angles.\""
            ]
          },
          "metadata": {
            "tags": []
          },
          "execution_count": 159
        }
      ]
    },
    {
      "cell_type": "code",
      "metadata": {
        "colab": {
          "base_uri": "https://localhost:8080/",
          "height": 191
        },
        "id": "bbWsHet4ZzDB",
        "outputId": "79398143-b5b4-4b18-9fca-4ee9ac686948"
      },
      "source": [
        "x2 = testset['essay'][2]\n",
        "x2"
      ],
      "execution_count": 160,
      "outputs": [
        {
          "output_type": "execute_result",
          "data": {
            "application/vnd.google.colaboratory.intrinsic+json": {
              "type": "string"
            },
            "text/plain": [
              "'Imagination and creativity is the most important thing to develope any idea and innovation.if you have no of us than is to difficults to innovation.In education we have no room for that things than our education is menningless.because when we do imagination after that we create somethings.so imagination and creativity is value able in our room so nothing happen in our education. when we saw any thing immediatly we starting the imagination and than we make something.so its important things in our life.without this we cannot make or create any things.so imagination and creativity is most important think nowdays. if it has no seperate room for imagination and creativity so out that any peple thing or imagin wrong thing or create that thing so its to harmfull to us.we take one example on this currently one of most concerning aspects of raising children is the amount of time they spend in front of screens,whether it tv,video etc,imagination and creativity is most important thing to develope any idea and innovation,if you have no of us than is to difficuts to innovation.imagination and creative play is a more natural way for children to learn about the word and does involve the whole body.children manipulate to le'"
            ]
          },
          "metadata": {
            "tags": []
          },
          "execution_count": 160
        }
      ]
    },
    {
      "cell_type": "code",
      "metadata": {
        "colab": {
          "base_uri": "https://localhost:8080/",
          "height": 191
        },
        "id": "p0LKWjGcZ6GI",
        "outputId": "36686726-3a99-405c-8dda-73dcd2a59194"
      },
      "source": [
        "x3 = testset['essay'][3]\n",
        "x3"
      ],
      "execution_count": 161,
      "outputs": [
        {
          "output_type": "execute_result",
          "data": {
            "application/vnd.google.colaboratory.intrinsic+json": {
              "type": "string"
            },
            "text/plain": [
              "'In our eduction system leaves no room for imagination and creativity.In education system some staff are applied the rules and regulation.The staff are forcing the do many things at a time.Student brain are very small they cannot do many thing at a time.The staff are gives the many activity and said to student complete one or two days but this activity is big then student not completed at given time its need to complete given task at more extra time.Now a days the staff are not teach perfectly to the particular subject and not give the explanation of topics its just writing topic name and give the two or three line explanation.Now a days the some students going to school,college regularly and attend the all lectures but she/he cannot getting on what actually teach and how its work when and who is developed.In this situation and case the some students are feel tightly.In eduction system do not applied force for any students.The subject is teach very carefully and topic is explained by point wise and give the the depth explanation to the student.The student are not getting something then again repeated the topic and explain again.'"
            ]
          },
          "metadata": {
            "tags": []
          },
          "execution_count": 161
        }
      ]
    },
    {
      "cell_type": "code",
      "metadata": {
        "colab": {
          "base_uri": "https://localhost:8080/",
          "height": 191
        },
        "id": "RGKSeAJRZ61p",
        "outputId": "a9e6d2c4-2e54-463c-eb15-f701e1fda731"
      },
      "source": [
        "x5 = testset['essay'][4]\n",
        "x5"
      ],
      "execution_count": 162,
      "outputs": [
        {
          "output_type": "execute_result",
          "data": {
            "application/vnd.google.colaboratory.intrinsic+json": {
              "type": "string"
            },
            "text/plain": [
              "'I will agree at some what extend, because if we think on regular basic of university of mumbai curriculam we didnt get time to do different things simelteneously with the study, study having lot of assignments, sheets, practicle even a theory,for that we have to come in the clg for 8 hours in travelling 2 hours wasted every day,9 hours went in the sleep,5 hour remaining in which we do our daily work, over an all the shedule is tight and we are not able to do creative things and for creation imagination is needed. this is one side of our lifeBut on other hand if we thought like in clg we have many practicle,events and also free time , in that free time regarding to the curriculum taking it as creation and make it more innovative and interesting as an project that will be awsome , it is tough to do but not an impossible , every work is hard but not imppossible. we can change in our daily shedule to give time for creativity and imagination. that would be more preferable and good for health if we do less laziness, sometime people take time to do this things but that is also fine because insted of just siitting free minded we atleast start to think and this think can make you the way for susscess.So taking both view in mind i think is depend on the everyone mentallity, and thinking power, if we think only about the passing and get job somewhere its fine , but it not make you active so far, so be active ,throw your laziness, take a part in every activity of clg , live every moment of life which will make you more creative by imagining the things. and one thing participation makes you imagine the things, and through imagination we can be creative.'"
            ]
          },
          "metadata": {
            "tags": []
          },
          "execution_count": 162
        }
      ]
    },
    {
      "cell_type": "markdown",
      "metadata": {
        "id": "RjmsgC_qaNhG"
      },
      "source": [
        "We are having 4 Sample essay as provided in our Dataset, Now we will run our predictive Analysis to get score of these eassy and extract out Test_submission.csv file for further Evaluation.\n",
        " "
      ]
    },
    {
      "cell_type": "code",
      "metadata": {
        "trusted": true,
        "id": "yqdRloexuPr3"
      },
      "source": [
        "from gensim.models import Word2Vec\n",
        "from gensim.models import KeyedVectors\n",
        "num_features = 300\n",
        "      \n",
        "model = KeyedVectors.load_word2vec_format( \"/content/word2vecmodel.bin\", binary=True)\n",
        "clean_test_essays = []\n",
        "clean_test_essays.append(essay_to_wordlist(x1, remove_stopwords=True ))\n",
        "testDataVecs = getAvgFeatureVecs( clean_test_essays, model, num_features )\n",
        "testDataVecs = np.array(testDataVecs)\n",
        "testDataVecs = np.reshape(testDataVecs, (testDataVecs.shape[0], 1, testDataVecs.shape[1]))\n",
        "\n",
        "# lstm_model = get_model()\n",
        "lstm_model.load_weights(\"/content/final_lstm.h5\")\n",
        "preds = lstm_model.predict(testDataVecs)"
      ],
      "execution_count": 163,
      "outputs": []
    },
    {
      "cell_type": "code",
      "metadata": {
        "trusted": true,
        "colab": {
          "base_uri": "https://localhost:8080/"
        },
        "id": "mFPD0IRVuPr4",
        "outputId": "6570c58a-3684-4488-f21e-3ad8905451d7"
      },
      "source": [
        "pred1 = int(np.around(preds))\n",
        "pred1"
      ],
      "execution_count": 164,
      "outputs": [
        {
          "output_type": "execute_result",
          "data": {
            "text/plain": [
              "3"
            ]
          },
          "metadata": {
            "tags": []
          },
          "execution_count": 164
        }
      ]
    },
    {
      "cell_type": "code",
      "metadata": {
        "colab": {
          "base_uri": "https://localhost:8080/"
        },
        "id": "-vj0R-dKapK3",
        "outputId": "70ddebc6-9456-4387-aefc-7ca407650cbf"
      },
      "source": [
        "pred2 = int(np.around(preds))\n",
        "pred2"
      ],
      "execution_count": 165,
      "outputs": [
        {
          "output_type": "execute_result",
          "data": {
            "text/plain": [
              "3"
            ]
          },
          "metadata": {
            "tags": []
          },
          "execution_count": 165
        }
      ]
    },
    {
      "cell_type": "code",
      "metadata": {
        "colab": {
          "base_uri": "https://localhost:8080/"
        },
        "id": "lyxJPMAQapM8",
        "outputId": "c4a0037b-fd9a-40e6-ba59-5ab729822624"
      },
      "source": [
        "pred3 = int(np.around(preds))\n",
        "pred3"
      ],
      "execution_count": 166,
      "outputs": [
        {
          "output_type": "execute_result",
          "data": {
            "text/plain": [
              "3"
            ]
          },
          "metadata": {
            "tags": []
          },
          "execution_count": 166
        }
      ]
    },
    {
      "cell_type": "code",
      "metadata": {
        "colab": {
          "base_uri": "https://localhost:8080/"
        },
        "id": "1SvspuvSapnL",
        "outputId": "65feca7f-fd48-4744-dfb2-72e27ab160b5"
      },
      "source": [
        "pred5 = int(np.around(preds))\n",
        "pred5"
      ],
      "execution_count": 167,
      "outputs": [
        {
          "output_type": "execute_result",
          "data": {
            "text/plain": [
              "3"
            ]
          },
          "metadata": {
            "tags": []
          },
          "execution_count": 167
        }
      ]
    },
    {
      "cell_type": "code",
      "metadata": {
        "colab": {
          "base_uri": "https://localhost:8080/"
        },
        "id": "INZ0k_0DauSn",
        "outputId": "0b3ccb49-68e8-4bfd-bee8-46241c18c8dd"
      },
      "source": [
        "testset.T.shape"
      ],
      "execution_count": 168,
      "outputs": [
        {
          "output_type": "execute_result",
          "data": {
            "text/plain": [
              "(3, 305)"
            ]
          },
          "metadata": {
            "tags": []
          },
          "execution_count": 168
        }
      ]
    },
    {
      "cell_type": "code",
      "metadata": {
        "trusted": true,
        "id": "L8Rdh3wkuPr4"
      },
      "source": [
        "y_pred1 = y_pred.T.reshape(206,)"
      ],
      "execution_count": 170,
      "outputs": []
    },
    {
      "cell_type": "code",
      "metadata": {
        "colab": {
          "base_uri": "https://localhost:8080/"
        },
        "id": "las_-aiwbNYc",
        "outputId": "8ca4cb69-43ea-4968-d716-23553d0b8257"
      },
      "source": [
        "y_pred1"
      ],
      "execution_count": 171,
      "outputs": [
        {
          "output_type": "execute_result",
          "data": {
            "text/plain": [
              "array([3., 2., 3., 3., 3., 2., 2., 2., 2., 2., 3., 3., 3., 2., 3., 2., 3.,\n",
              "       3., 3., 3., 3., 2., 3., 2., 3., 2., 2., 2., 3., 3., 3., 3., 3., 3.,\n",
              "       3., 3., 3., 2., 2., 3., 2., 3., 3., 2., 3., 2., 3., 2., 2., 3., 3.,\n",
              "       3., 3., 3., 3., 3., 3., 3., 3., 3., 2., 2., 3., 2., 3., 3., 3., 3.,\n",
              "       3., 3., 3., 3., 3., 3., 3., 2., 2., 2., 3., 2., 2., 2., 3., 2., 2.,\n",
              "       3., 3., 3., 3., 3., 3., 3., 3., 3., 3., 3., 3., 3., 2., 2., 2., 3.,\n",
              "       3., 2., 2., 3., 2., 3., 3., 2., 2., 3., 3., 3., 3., 3., 3., 3., 3.,\n",
              "       3., 3., 3., 3., 3., 3., 3., 3., 3., 2., 2., 2., 2., 2., 3., 3., 3.,\n",
              "       3., 3., 3., 3., 2., 2., 2., 3., 3., 3., 3., 2., 2., 3., 3., 3., 3.,\n",
              "       3., 3., 3., 3., 3., 3., 3., 3., 3., 3., 3., 3., 3., 3., 3., 3., 3.,\n",
              "       3., 3., 3., 3., 2., 3., 2., 2., 2., 2., 2., 2., 3., 3., 3., 3., 3.,\n",
              "       3., 2., 3., 3., 3., 3., 3., 3., 3., 2., 2., 2., 3., 3., 3., 3., 3.,\n",
              "       3., 3.], dtype=float32)"
            ]
          },
          "metadata": {
            "tags": []
          },
          "execution_count": 171
        }
      ]
    },
    {
      "cell_type": "code",
      "metadata": {
        "id": "jUiMvVzSWr66"
      },
      "source": [
        "outputfile = pd.DataFrame(y_pred1).to_csv(\"submission_Test.csv\")"
      ],
      "execution_count": 172,
      "outputs": []
    }
  ]
}